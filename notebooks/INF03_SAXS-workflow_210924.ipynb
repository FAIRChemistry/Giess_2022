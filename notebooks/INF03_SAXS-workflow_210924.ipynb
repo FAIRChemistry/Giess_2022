{
 "cells": [
  {
   "cell_type": "markdown",
   "id": "fbeefa65-fac1-47a2-aba6-8fb7a1453668",
   "metadata": {
    "tags": []
   },
   "source": [
    "\n",
    "# F.A.I.R. data management in **CRC 1333** *project INF*\n",
    "\n",
    "## INF03 - SAXS workflow with AnIML\n",
    "\n",
    "---\n",
    "\n",
    "> Authors: Torsten Giess, Selina Itzigehl  \n",
    "> Last modified: 24.09.2021\n"
   ]
  },
  {
   "cell_type": "markdown",
   "id": "42cfca8c-cdf0-44e7-b99b-452f394c0021",
   "metadata": {
    "tags": []
   },
   "source": [
    "### **Abstract** <a class=\"anchor\" name=\"abstract\"></a>\n",
    "\n",
    "lorem ipsum"
   ]
  },
  {
   "cell_type": "markdown",
   "id": "826611a3-1622-468a-a298-90d75e39419e",
   "metadata": {},
   "source": [
    "### **Table of Contents** <a class=\"anchor\" name=\"table_of_contents\"></a>\n",
    "\n",
    "- [Abstract](#abstract)\n",
    "- [Introduction](#introduction)\n",
    "- [Workflow](#workflow)\n",
    "    - [User guide](#user_guide)\n",
    "    - [Preparation](#preparation)\n",
    "    - [Data extraction](#data_extraction)\n",
    "    - [Visualisation](#visualisation)\n",
    "    - [Analysis](#analysis)\n",
    "    - [Results](#results)\n",
    "- [Discussion](#discussion)\n",
    "- [Outlook](#outlook)\n",
    "- [Bibliography](#bibliography)"
   ]
  },
  {
   "cell_type": "markdown",
   "id": "2e1b936b-fedb-4273-a79b-81234db56746",
   "metadata": {},
   "source": [
    "### **Introduction** <a class=\"anchor\" name=\"introduction\"></a>\n",
    "\n",
    "lorem ipsum"
   ]
  },
  {
   "cell_type": "markdown",
   "id": "60c58afb-be46-4bba-98de-1e0056cedcbc",
   "metadata": {
    "tags": []
   },
   "source": [
    "### **Workflow** <a class=\"anchor\" name=\"workflow\"></a>"
   ]
  },
  {
   "cell_type": "markdown",
   "id": "9b150874-9ae7-4a0d-9729-bae61efa4e58",
   "metadata": {},
   "source": [
    "#### **User guide** <a class=\"anchor\" name=\"user_guide\"></a>\n",
    "\n",
    "lorem ipsum"
   ]
  },
  {
   "cell_type": "markdown",
   "id": "5333db32-c7ce-4150-b2e5-7e4ac01939b2",
   "metadata": {
    "tags": []
   },
   "source": [
    "#### **Preparation** <a class=\"anchor\" name=\"preparation\"></a>\n",
    "\n",
    "lorem ipsum"
   ]
  },
  {
   "cell_type": "code",
   "execution_count": 4,
   "id": "dceb8959-af26-4b18-bd57-e44a5f3bc284",
   "metadata": {},
   "outputs": [],
   "source": [
    "import numpy as np\n",
    "import matplotlib.pyplot as plt\n",
    "import os\n",
    "import csv\n",
    "import pandas as pd\n",
    "from lmfit.models import LorentzianModel\n",
    "\n",
    "\n",
    "def lorentzian( y0, a, w, x, xc ):\n",
    "    # y0=offset, xc=center, w=FWHM, a=area\n",
    "    return y0 + (2*a/np.pi)*(w/(4*(x-xc)^2 + w^2))\n",
    "\n",
    "def LorentzFit (x, y, fig, add, q):\n",
    "    model = LorentzianModel()\n",
    "\n",
    "    params = model.guess(y, x=x)\n",
    "    result = model.fit(y, params, x=x)\n",
    "    res_fit = []\n",
    "\n",
    "    for item in (result.fit_report()).split():\n",
    "        try:\n",
    "            res_fit.append(float(item))\n",
    "        except ValueError:\n",
    "            pass\n",
    "        \n",
    "    q.append(res_fit[9])\n",
    "    \n",
    "    add.plot(x, result.best_fit, linestyle = ':', color = 'blue', label = 'best fit')\n",
    "\n",
    "    return q\n",
    "\n",
    "\n",
    "# plot of SAXS data\n",
    "def SAXSplt (pfad, label, color):\n",
    "    a = pd.read_table(pfad, delimiter = '   ', usecols=[0,1], names = ['q', 'I'], header=5, skipfooter=496, engine = 'python')\n",
    "    \n",
    "    q = a['q']\n",
    "    I = a['I']\n",
    "    \n",
    "    plt.plot(q, I, linestyle='-', marker=',', label = label, color = color)\n",
    "    plt.yscale('log')          \n",
    "    plt.xlabel('$q$ / $\\mathrm{nm}^{-1}$')\n",
    "    plt.ylabel('$I$ / a.u.')\n",
    "    plt.xlim(0,5)\n",
    "    plt.ylim(0.0001,2)    \n",
    "    plt.legend(frameon=False)\n",
    "    save_name = label + '.pdf'\n",
    "    plt.savefig(save_name)\n",
    "    plt.show()    \n",
    "\n",
    "#calculation of lattice parameter (+ all intermediary values)\n",
    "def SAXScalc(qCholpal, qSampleItem):\n",
    "    dLit=[52.49824535,26.24912267,17.49941512] #literature d-values\n",
    "    data = [] # list for writing to csv file\n",
    "    \n",
    "    qCholpalLit = [ScatteringVector(dLitItem) for dLitItem in dLit]\n",
    "    \n",
    "    slope, intercept = np.polyfit(qCholpal, qCholpalLit, 1)  # linear fit measured vs. literature q-values\n",
    "        \n",
    "    qKorr = [LinReg(slope, i, intercept) for i in qSampleItem]\n",
    "    \n",
    "    dMeas = [LatticePlane(qKorrItem) for qKorrItem in qKorr]\n",
    "    data.append(dMeas)\n",
    "    \n",
    "    dRatio = [LatticeRatio(dMeasItem, dMeas[0]) for dMeasItem in dMeas[1:]]\n",
    "    data.append(dRatio)\n",
    "    \n",
    "    if IsHexagonal(dRatio) == True:\n",
    "        h = [1,1,2,2,3]\n",
    "        k = [0,1,0,1,0]\n",
    "        a_hex = []\n",
    "        for i, dMeasItem in enumerate(dMeas):\n",
    "            a_i = HexagonalLatticeParameter(dMeas[i], h[i], k[i])\n",
    "            a_hex.append(a_i)\n",
    "        a = ['hexagonal', (np.mean(a_hex))]\n",
    "        data.append(a)\n",
    "        \n",
    "    elif IsCubic(dRatio) == True:\n",
    "        h = [1,1,2,2,2]\n",
    "        k = [0,1,0,1,2]\n",
    "        l = [0,1,0,1,2]\n",
    "        a_cub = []\n",
    "        for i, dMeasItem in enumerate(dMeas):\n",
    "            a_i = CubicLatticeParameter(dMeas[i], h[i], k[i], l[i])\n",
    "            a_cub.append(a_i)\n",
    "        a = ['cubic', (np.mean(a_cub))]\n",
    "        data.append(a)\n",
    "        \n",
    "    elif IsLamellar(dRatio) == True:\n",
    "        print('lamellar')\n",
    "        \n",
    "    else:\n",
    "        a = ['not determinable', '-']\n",
    "        data.append(a)\n",
    "        \n",
    "    return data\n",
    "\n",
    "# Test if hexagonal, cubic oder lamellar\n",
    "def IsHexagonal(arbList):\n",
    "    H1 = [(1/np.sqrt(3)), (1/np.sqrt(4)), (1/np.sqrt(7)), (1/np.sqrt(9))]\n",
    "    for i, arbListItem in enumerate(arbList):\n",
    "        if (abs(arbList[i]-H1[i])) < 0.03:\n",
    "            hexagonal = True\n",
    "        else: \n",
    "            hexagonal = False\n",
    "    return hexagonal\n",
    "        \n",
    "\n",
    "def IsCubic(arbList):\n",
    "    Q = [(1/np.sqrt(2)), (1/np.sqrt(3)), (1/np.sqrt(4)), (1/np.sqrt(5))]\n",
    "    i=0\n",
    "    for i, arbListItem in enumerate(arbList):\n",
    "        if (abs(arbList[i]-Q[i])) < 0.03:\n",
    "            cubic = True\n",
    "        else:\n",
    "            cubic = False\n",
    "    return cubic\n",
    "\n",
    "\n",
    "def IsLamellar(arbList):\n",
    "    L = [(1/2), (1/3), (1/4), (1/5)]\n",
    "    for i, ArbListItem in enumerate(arbList):\n",
    "        if (abs(arbList[i]-L[i])) < 0.03:\n",
    "            lamellar = True\n",
    "        else:\n",
    "            lamellar = False\n",
    "    return lamellar\n",
    "        \n",
    "\n",
    "def HexagonalLatticeParameter(d, h, k):\n",
    "    a_hex = (d*((h + k + (h * k))*(np.sqrt(4/3))))\n",
    "    return a_hex\n",
    "\n",
    "def CubicLatticeParameter(d, h, k, l):\n",
    "    a_cub = (d*(np.sqrt((h**2)+(k**2)+(l**2))))\n",
    "    return a_cub\n",
    "\n",
    "def LinReg(m, x, b):\n",
    "    y = m*x + b\n",
    "    return y\n",
    "\n",
    "def ScatteringVector(d):\n",
    "    q = (2*np.pi)/(d/10)\n",
    "    return q\n",
    "\n",
    "def LatticePlane(q):\n",
    "    d = (2*np.pi)/q\n",
    "    return d\n",
    "\n",
    "def LatticeRatio(d, d_0):\n",
    "    d_ratio = d/d_0\n",
    "    return d_ratio"
   ]
  },
  {
   "cell_type": "markdown",
   "id": "efee0b05-2599-4aff-9343-30ae2806b2f6",
   "metadata": {
    "tags": []
   },
   "source": [
    "#### **Data extraction** <a class=\"anchor\" name=\"data_extraction\"></a>\n",
    "\n",
    "lorem ipsum"
   ]
  },
  {
   "cell_type": "code",
   "execution_count": 6,
   "id": "9495e011-8b28-4fa5-9ace-e86b900853b1",
   "metadata": {},
   "outputs": [],
   "source": [
    "path = \"C:/Users/Selly/Documents/GitHub/SAXS-converter/Jupyter/datasets\" \n",
    "files = os.listdir(path)\n",
    "\n",
    "\n",
    "#### Cholesteryl Palmitate ####\n",
    "a = pd.read_table('datasets/CholPal_210713[7]1.pdh', delimiter = '   ', usecols=[0,1], names = ['q', 'I'], header=5, skipfooter=496, engine = 'python')\n",
    "q = a['q']\n",
    "I = a['I']\n",
    "\n",
    "# peak 1: 1.0<q<1.3 // peak 2: 1.5<q<3 // peak 3: 3<q<4\n",
    "\n",
    "a1_idx = a.index[(a['q'] > 0.6) & (a['q'] < 1.5)].tolist()\n",
    "a1 = a.loc[a1_idx]\n",
    "q1 = np.array(a1['q'].tolist())\n",
    "I1 = np.array(a1['I'].tolist())\n",
    "\n",
    "a2_idx = a.index[(a['q'] > 1.5) & (a['q'] < 3)].tolist()\n",
    "a2 = a.loc[a2_idx]\n",
    "q2 = np.array(a2['q'].tolist())\n",
    "I2 = np.array(a2['I'].tolist())\n",
    "\n",
    "a3_idx = a.index[(a['q'] > 3) & (a['q'] < 4)].tolist()\n",
    "a3 = a.loc[a3_idx]\n",
    "q3 = np.array(a3['q'].tolist())\n",
    "I3 = np.array(a3['I'].tolist())\n",
    "\n",
    "\n",
    "#### Samples ####\n",
    "# Measured and fitted q-values from samples\n",
    "dataSample = [i for i in files if i.endswith('_lorentz.txt')]\n",
    "# Measurement data for plotting\n",
    "dataPlot = [i for i in files if i.endswith('[7].pdh')]\n",
    "\n",
    "# make list of lists with measured q-values (from Lorentz-Fit)\n",
    "qSample = []\n",
    "for dataSampleItem in dataSample:\n",
    "    name = 'datasets/' + dataSampleItem\n",
    "    a = pd.read_table(name, delimiter = '\\t', usecols=[1,2], names = ['parameter', 'I'], header=1)\n",
    "    xc = a.loc[a['parameter'] == 'xc']\n",
    "    peak = xc['I'].tolist()\n",
    "    qSample.append(peak)"
   ]
  },
  {
   "cell_type": "markdown",
   "id": "ff6c716b-ae97-4da0-b6e4-c78224d3c935",
   "metadata": {
    "tags": []
   },
   "source": [
    "#### **Visualisation** <a class=\"anchor\" name=\"visualisation\"></a>\n",
    "\n",
    "lorem ipsum"
   ]
  },
  {
   "cell_type": "code",
   "execution_count": 7,
   "id": "90ce22ad-df3e-45cc-ab56-d2b5fee3ad97",
   "metadata": {},
   "outputs": [
    {
     "data": {
      "image/png": "[encoded data removed]",
      "text/plain": [
       "<Figure size 432x288 with 1 Axes>"
      ]
     },
     "metadata": {
      "needs_background": "light"
     },
     "output_type": "display_data"
    },
    {
     "name": "stdout",
     "output_type": "stream",
     "text": [
      "[1.17560174, 2.34572076, 3.51747273]\n"
     ]
    }
   ],
   "source": [
    "qCholpal = []\n",
    "\n",
    "fig = plt.figure()\n",
    "add = fig.add_subplot(1,1,1)\n",
    "add.plot(q,I, marker = ',', color = 'orange', label = 'diffractogram')\n",
    "\n",
    "plt.xlabel('$q$ / $\\mathrm{nm}^{-1}$')\n",
    "plt.ylabel('$I$ / a.u.')\n",
    "plt.xlim(0,5)\n",
    "plt.ylim(0, (max(I)+(0.1*max(I))))\n",
    "\n",
    "LorentzFit(q1,I1, fig, add, qCholpal)\n",
    "plt.legend(frameon=False)\n",
    "LorentzFit(q2,I2, fig, add, qCholpal)\n",
    "LorentzFit(q3,I3, fig, add, qCholpal)\n",
    "\n",
    "plt.show()\n",
    "\n",
    "print(qCholpal)"
   ]
  },
  {
   "cell_type": "markdown",
   "id": "2f07b78a-75ee-4b47-97bf-10c3deac9a82",
   "metadata": {},
   "source": [
    "#### **Analysis** <a class=\"anchor\" name=\"analysis\"></a>\n",
    "\n",
    "lorem ipsum"
   ]
  },
  {
   "cell_type": "code",
   "execution_count": 8,
   "id": "afad7632-c170-4400-b12a-a88c57aa73b8",
   "metadata": {},
   "outputs": [
    {
     "name": "stdout",
     "output_type": "stream",
     "text": [
      "[['SI06_210623[7]', 11.456351992002793, 6.272619808185863, 5.567939138347864, 0.5475233139278995, 0.4860132738793826, 'hexagonal', 15.93875095437864], ['SI09_210628[7]', 10.897635627242092, 6.328021930113078, 5.323749109021016, 0.5806784284743548, 0.4885233174536152, 'hexagonal', 15.599696213111486], ['SI16_210803[7]', 11.438019655997953, 6.375274072276465, 5.553602863124402, 0.5573756877514502, 0.48553884589734575, 'hexagonal', 16.039193699160215], ['SI17_210811[7]', 10.281393204300349, 5.896791989413495, 5.113781699335573, 0.5735401683642516, 0.49738217357513925, 'hexagonal', 14.702929961902184], ['SI19_210825[7]', 14.257821490418817, 7.565268939475811, 5.822286651052519, 0.530604829395545, 0.4083573815933287, 'not determinable', '-']]\n"
     ]
    }
   ],
   "source": [
    "calc = []\n",
    "for qSampleItem in qSample:\n",
    "    calc.append(SAXScalc(qCholpal, qSampleItem))\n",
    "\n",
    "\n",
    "dataEvaluation=[]\n",
    "for i, dataPlotItem in enumerate(dataPlot):\n",
    "    name = [os.path.splitext(dataPlotItem)[0]]\n",
    "    calcItem = calc[i]\n",
    "    for i, calcItemItem in enumerate(calcItem):  \n",
    "        for i, calcItemItemItem in enumerate(calcItemItem):\n",
    "            name.append(calcItemItem[i])\n",
    "    dataEvaluation.append(name)\n",
    "    \n",
    "print(dataEvaluation)"
   ]
  },
  {
   "cell_type": "markdown",
   "id": "5ccfec5e-d620-460f-a9d5-0b4ca2d89e12",
   "metadata": {},
   "source": [
    "#### **Results** <a class=\"anchor\" name=\"results\"></a>\n",
    "\n",
    "lorem ipsum"
   ]
  },
  {
   "cell_type": "code",
   "execution_count": 9,
   "id": "62964871-040e-447d-907f-3a261202b0a2",
   "metadata": {},
   "outputs": [
    {
     "data": {
      "image/png": "[encoded data removed]",
      "text/plain": [
       "<Figure size 432x288 with 1 Axes>"
      ]
     },
     "metadata": {
      "needs_background": "light"
     },
     "output_type": "display_data"
    },
    {
     "data": {
      "image/png": "[encoded data removed]",
      "text/plain": [
       "<Figure size 432x288 with 1 Axes>"
      ]
     },
     "metadata": {
      "needs_background": "light"
     },
     "output_type": "display_data"
    },
    {
     "data": {
      "image/png": "[encoded data removed]",
      "text/plain": [
       "<Figure size 432x288 with 1 Axes>"
      ]
     },
     "metadata": {
      "needs_background": "light"
     },
     "output_type": "display_data"
    },
    {
     "data": {
      "image/png": "[encoded data removed]",
      "text/plain": [
       "<Figure size 432x288 with 1 Axes>"
      ]
     },
     "metadata": {
      "needs_background": "light"
     },
     "output_type": "display_data"
    },
    {
     "data": {
      "image/png": "[encoded data removed]",
      "text/plain": [
       "<Figure size 432x288 with 1 Axes>"
      ]
     },
     "metadata": {
      "needs_background": "light"
     },
     "output_type": "display_data"
    }
   ],
   "source": [
    "# write calculated data into tsv file\n",
    "header = ['sample', '$d_1$', '$d_2$', '$d_3$', '$d_2/d_1$', '$d_3/d_1$','LLC phase', 'a']\n",
    "\n",
    "with open('datasets/test2.tsv', 'w') as f:\n",
    "    wr = csv.writer(f, delimiter='\\t')\n",
    "    wr.writerow(header)\n",
    "    wr.writerows(dataEvaluation)\n",
    "    f.close()\n",
    "\n",
    "\n",
    "# plot and save all data\n",
    "for dataPlotItem in dataPlot:\n",
    "    name2 = 'datasets/' + dataPlotItem\n",
    "    SAXSplt(name2, os.path.splitext(dataPlotItem)[0], 'blue')"
   ]
  },
  {
   "cell_type": "markdown",
   "id": "18a6d9ae-1333-4507-a5c6-f15266652f96",
   "metadata": {},
   "source": [
    "### **Discussion** <a class=\"anchor\" name=\"discussion\"></a>\n",
    "\n",
    "lorem ipsum"
   ]
  },
  {
   "cell_type": "markdown",
   "id": "f877c701-56fa-4657-8e29-426ed3d3a919",
   "metadata": {},
   "source": [
    "### **Outlook** <a class=\"anchor\" name=\"outlook\"></a>\n",
    "\n",
    "lorem ipsum"
   ]
  },
  {
   "cell_type": "markdown",
   "id": "bbe3bd80-8e65-4728-9ac2-ea825cfe4bd2",
   "metadata": {},
   "source": [
    "### **Bibliography** <a class=\"anchor\" name=\"bibliography\"></a>\n",
    "\n",
    "lorem ipsum"
   ]
  }
 ],
 "metadata": {
  "kernelspec": {
   "display_name": "Python 3 (ipykernel)",
   "language": "python",
   "name": "python3"
  },
  "language_info": {
   "codemirror_mode": {
    "name": "ipython",
    "version": 3
   },
   "file_extension": ".py",
   "mimetype": "text/x-python",
   "name": "python",
   "nbconvert_exporter": "python",
   "pygments_lexer": "ipython3",
   "version": "3.9.6"
  }
 },
 "nbformat": 4,
 "nbformat_minor": 5
}
