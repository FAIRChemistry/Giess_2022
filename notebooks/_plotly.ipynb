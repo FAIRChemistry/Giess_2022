{
 "cells": [
  {
   "cell_type": "code",
   "execution_count": 1,
   "id": "50eebf2a-d237-427d-b310-df9cc84bcb97",
   "metadata": {},
   "outputs": [],
   "source": [
    "from pathlib import Path"
   ]
  },
  {
   "cell_type": "code",
   "execution_count": 2,
   "id": "8133b68c-115a-4c1f-be60-7c8a355d41fa",
   "metadata": {},
   "outputs": [],
   "source": [
    "from plotly import express as px\n",
    "import plotly.io as pio\n",
    "pio.renderers.default = \"iframe\""
   ]
  },
  {
   "cell_type": "code",
   "execution_count": 3,
   "id": "2fd44db0-99dc-48e6-a33c-eefe9e10bb68",
   "metadata": {},
   "outputs": [
    {
     "name": "stdout",
     "output_type": "stream",
     "text": [
      "Initializing logger for 'modules.originreader'.\n",
      "Loading logger configuration from 'logcfg.json'.\n",
      "Done.\n"
     ]
    }
   ],
   "source": [
    "from modules.originreader import LorentzianReader"
   ]
  },
  {
   "cell_type": "code",
   "execution_count": 4,
   "id": "8fe3e32b-8d3b-4da9-a881-c6fbd8b7601f",
   "metadata": {},
   "outputs": [],
   "source": [
    "path_to_originfile = Path(\"./datasets/raw/SI06_210623_lorentz.txt\").resolve()"
   ]
  },
  {
   "cell_type": "code",
   "execution_count": 5,
   "id": "782f439e-d88a-4064-9b97-ebfc960ebc0c",
   "metadata": {},
   "outputs": [
    {
     "name": "stdout",
     "output_type": "stream",
     "text": [
      "13:18:21 - modules.originreader - DEBUG: Constructor called, 'ReaderOriginLorentzian'@0x230ee38e4f0 initialised.\n",
      "13:18:21 - modules.originreader - DEBUG: Data extracted from 'C:\\Users\\ac138949\\Documents\\GitHub\\SAXS-workflow\\notebooks\\datasets\\raw\\SI06_210623_lorentz.txt'.\n",
      "Import of Lorentz fit data from Origin file successful. Best fit for q: [0.54097, 0.9844, 1.10843].\n"
     ]
    }
   ],
   "source": [
    "reader = LorentzianReader(path_to_originfile)\n",
    "peak_value_dataframe = reader.get_xc_dataframe()\n",
    "peak_values = peak_value_dataframe[\"value\"].tolist()\n",
    "print(f\"Import of Lorentz fit data from Origin file successful. Best fit for q: {peak_values}.\")"
   ]
  },
  {
   "cell_type": "code",
   "execution_count": 6,
   "id": "bb5b853b-e80f-4d9d-a837-884ef4f5d9eb",
   "metadata": {},
   "outputs": [
    {
     "name": "stdout",
     "output_type": "stream",
     "text": [
      "     quantity symbol    value    stddev    t-value   probabililty  dependency\n",
      "0   intensity     y0  0.00475  0.003590    1.32324   1.896200e-01     0.65385\n",
      "1   intensity     xc  0.54097  0.002670  202.46315  6.545840e-108     0.05302\n",
      "2   intensity      w  0.04336  0.009620    4.51007   2.254010e-05     0.87800\n",
      "3   intensity      A  0.08928  0.014250    6.26596   1.889790e-08     0.83382\n",
      "4   intensity      H  1.31076  0.474830        NaN            NaN         NaN\n",
      "5   intensity     y0  0.00235  0.000778    3.02070   5.910000e-03     0.99528\n",
      "6   intensity     xc  0.98440  0.001710  574.79317   3.258230e-51     0.27639\n",
      "7   intensity      w  0.18850  0.022230    8.48141   1.104730e-08     0.98813\n",
      "8   intensity      A  0.00204  0.000448    4.55442   1.289580e-04     0.99798\n",
      "9   intensity      H  0.00689  0.000733        NaN            NaN         NaN\n",
      "10  intensity     y0 -0.00136  0.000538   -2.52435   1.643000e-02     0.97810\n",
      "11  intensity     xc  1.10843  0.001730  641.85335   4.875510e-71     0.31560\n",
      "12  intensity      w  0.19761  0.013370   14.77468   2.319460e-16     0.96653\n",
      "13  intensity      A  0.00374  0.000381    9.80635   1.920190e-11     0.99149\n",
      "14  intensity      H  0.01204  0.000487        NaN            NaN         NaN\n"
     ]
    }
   ],
   "source": [
    "print(reader.get_full_dataframe())"
   ]
  },
  {
   "cell_type": "code",
   "execution_count": 7,
   "id": "0ad6446b-c40d-4076-8b3b-72c44cb73e00",
   "metadata": {},
   "outputs": [
    {
     "name": "stdout",
     "output_type": "stream",
     "text": [
      "     quantity symbol    value   stddev    t-value   probabililty  dependency\n",
      "1   intensity     xc  0.54097  0.00267  202.46315  6.545840e-108     0.05302\n",
      "6   intensity     xc  0.98440  0.00171  574.79317   3.258230e-51     0.27639\n",
      "11  intensity     xc  1.10843  0.00173  641.85335   4.875510e-71     0.31560\n"
     ]
    }
   ],
   "source": [
    "print(reader.get_xc_dataframe())"
   ]
  },
  {
   "cell_type": "code",
   "execution_count": 8,
   "id": "2c54ef26-302c-4dd4-bee3-69eb41f32108",
   "metadata": {},
   "outputs": [],
   "source": [
    "fig = px.scatter(reader.get_full_dataframe().dropna(), x=\"t-value\", y=\"value\", color=\"symbol\")"
   ]
  },
  {
   "cell_type": "code",
   "execution_count": 9,
   "id": "a302e100-529a-475b-90b4-ad7a03ef6264",
   "metadata": {},
   "outputs": [
    {
     "data": {
      "text/html": [
       "<iframe\n",
       "    scrolling=\"no\"\n",
       "    width=\"100%\"\n",
       "    height=\"545px\"\n",
       "    src=\"iframe_figures/figure_9.html\"\n",
       "    frameborder=\"0\"\n",
       "    allowfullscreen\n",
       "></iframe>\n"
      ]
     },
     "metadata": {},
     "output_type": "display_data"
    }
   ],
   "source": [
    "fig.show()"
   ]
  },
  {
   "cell_type": "code",
   "execution_count": null,
   "id": "caa37547-5548-4df5-b574-3755b7e026d4",
   "metadata": {},
   "outputs": [],
   "source": []
  }
 ],
 "metadata": {
  "kernelspec": {
   "display_name": "Python [conda env:inf03]",
   "language": "python",
   "name": "conda-env-inf03-py"
  },
  "language_info": {
   "codemirror_mode": {
    "name": "ipython",
    "version": 3
   },
   "file_extension": ".py",
   "mimetype": "text/x-python",
   "name": "python",
   "nbconvert_exporter": "python",
   "pygments_lexer": "ipython3",
   "version": "3.9.7"
  }
 },
 "nbformat": 4,
 "nbformat_minor": 5
}
