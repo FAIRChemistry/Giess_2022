{
 "cells": [
  {
   "cell_type": "markdown",
   "id": "d482f382-9096-427e-ac26-6d12b651a6e8",
   "metadata": {},
   "source": [
    "# FAIR and scalable management of small-angle X-ray scattering data  \n",
    "## Module 3: Data analysis and visualisation\n",
    "\n",
    "> Authors: Torsten Giess, Selina Itzigehl, Jan Range, Johanna Bruckner, Juergen Pleiss  \n",
    "> Last modified: 16.03.2022\n",
    "\n",
    "---"
   ]
  },
  {
   "cell_type": "markdown",
   "id": "82c25029-b2d9-42cf-b9fa-cb9b161eed89",
   "metadata": {},
   "source": [
    "### **Abstract** <a class=\"anchor\" name=\"abstract\"></a>\n",
    "\n",
    "Lorem ipsum dolor ...\n",
    "\n",
    "---"
   ]
  },
  {
   "cell_type": "markdown",
   "id": "08bca00d-8a2b-4903-a156-274f5680737e",
   "metadata": {},
   "source": [
    "### **Table of Contents** <a class=\"anchor\" name=\"table_of_contents\"></a>\n",
    "\n",
    "- [Abstract](#abstract)\n",
    "- [Workflow](#workflow)\n",
    "    - [User guide](#user_guide)\n",
    "    - [Preparation](#preparation)\n",
    "    - [Submodule 3.1&nbsp;&nbsp;&nbsp;Lorentzian fit with Origin](#three_one)\n",
    "    - [Submodule 3.2&nbsp;&nbsp;&nbsp;Analysis and visualization with Python](#three_two)\n",
    "- [Disclosure](#disclosure)\n",
    "\n",
    "---"
   ]
  },
  {
   "cell_type": "markdown",
   "id": "d3a14dc3-3457-4d4c-9827-bde70a38926e",
   "metadata": {},
   "source": [
    "### **Workflow** <a class=\"anchor\" name=\"workflow\"></a>\n",
    "\n",
    "Following is the workflow for Module 3 (3.1 and 3.2) of FAIR and scalable management of small-angle X-ray scattering data."
   ]
  },
  {
   "cell_type": "markdown",
   "id": "4ac5ea60-fb8b-4d11-9d42-981e4d7c1e9e",
   "metadata": {},
   "source": [
    "#### **User guide** <a class=\"anchor\" name=\"user_guide\"></a>\n",
    "\n",
    "Lorem ipsum..."
   ]
  },
  {
   "cell_type": "markdown",
   "id": "778d2b3b-b837-47dc-bd46-1e718ae867ed",
   "metadata": {},
   "source": [
    "#### **Preparation** <a class=\"anchor\" name=\"preparation\"></a>\n",
    "\n",
    "This section contains the necessary preparations for using this module. Code cells in this section are required regardless of which functionality of this notebook is used. First, the required packages from the [Python 3 standard library](https://docs.python.org/3/library/), the Python Package Index ([PyPI](https://pypi.org/)), and *ad hoc* modules of this work are imported. Then, both current time and path are retrieved and stored in the desired formats."
   ]
  },
  {
   "cell_type": "code",
   "execution_count": 1,
   "id": "3030bb86-729f-4729-8ff7-e412b0f6e849",
   "metadata": {},
   "outputs": [
    {
     "name": "stdout",
     "output_type": "stream",
     "text": [
      "Importing standard library packages.\n",
      "Done.\n"
     ]
    }
   ],
   "source": [
    "print(\"Importing standard library packages.\")\n",
    "from datetime import date\n",
    "from pathlib import Path\n",
    "from typing import List\n",
    "print (\"Done.\")"
   ]
  },
  {
   "cell_type": "code",
   "execution_count": 36,
   "id": "40310912-809a-4a64-8440-19e1dcad5eeb",
   "metadata": {},
   "outputs": [
    {
     "name": "stdout",
     "output_type": "stream",
     "text": [
      "Importing PyPI packages.\n",
      "Done.\n"
     ]
    }
   ],
   "source": [
    "print(\"Importing PyPI packages.\")\n",
    "import numpy as np\n",
    "import pandas as pd\n",
    "from plotly import express as px\n",
    "import plotly.io as pio\n",
    "pio.renderers.default = \"iframe\"\n",
    "from pyaniml import AnIMLDocument\n",
    "print (\"Done.\")"
   ]
  },
  {
   "cell_type": "code",
   "execution_count": 3,
   "id": "caa4fd32-16a6-4312-85ee-c8f97b522e51",
   "metadata": {},
   "outputs": [
    {
     "name": "stdout",
     "output_type": "stream",
     "text": [
      "Importing local packages.\n",
      "Initializing logger for 'modules.originreader'.\n",
      "Loading logger configuration from 'logcfg.json'.\n",
      "Done.\n",
      "Initializing logger for 'modules.tsvwriter'.\n",
      "Loading logger configuration from 'logcfg.json'.\n",
      "Done.\n",
      "All done.\n"
     ]
    }
   ],
   "source": [
    "print(\"Importing local packages.\")\n",
    "from modules.originreader import LorentzianReader\n",
    "from modules.tsvwriter import TSVWriter\n",
    "print(\"All done.\")"
   ]
  },
  {
   "cell_type": "code",
   "execution_count": 4,
   "id": "b6867753-1a79-4f4b-8c3f-b053ce4ab7b3",
   "metadata": {},
   "outputs": [],
   "source": [
    "date_suffix = str(date.today()).replace(\"-\", \"\")[2:]"
   ]
  },
  {
   "cell_type": "code",
   "execution_count": 5,
   "id": "18d69ade-5b4c-45e2-9e6b-9247f4d61b7d",
   "metadata": {},
   "outputs": [],
   "source": [
    "cwd = Path.cwd()\n",
    "path_to_datasets = cwd / \"./datasets/\""
   ]
  },
  {
   "cell_type": "code",
   "execution_count": 6,
   "id": "8698d225-64b8-4206-b2a4-039fa85f7edf",
   "metadata": {},
   "outputs": [],
   "source": [
    "def calculate_scattering_vector(d: float) -> float:\n",
    "    q = (2 * np.pi) / (d / 10)\n",
    "    return q\n",
    "\n",
    "def calculate_linear_regression(m: float, x: float, b: float) -> float:\n",
    "    y = m * x + b\n",
    "    return y\n",
    "\n",
    "def calculate_lattice_plane(q: float) -> float:\n",
    "    d = (2 * np.pi) / q\n",
    "    return d\n",
    "\n",
    "def calculate_lattice_ratio(d: float, d_0: float) -> float:\n",
    "    d_ratio = d / d_0\n",
    "    return d_ratio\n",
    "\n",
    "def determine_phase(d_ratios: List) -> bool:\n",
    "    H1 = [\n",
    "        (1 / np.sqrt(3)),\n",
    "        (1 / np.sqrt(4)),\n",
    "        (1 / np.sqrt(7)),\n",
    "        (1 / np.sqrt(9)),\n",
    "    ]\n",
    "    V1 = [\n",
    "        (1 / np.sqrt(2)),\n",
    "        (1 / np.sqrt(3)),\n",
    "        (1 / np.sqrt(4)),\n",
    "        (1 / np.sqrt(5)),\n",
    "    ]\n",
    "    La = [(1 / 2), (1 / 3), (1 / 4), (1 / 5)]\n",
    "    \n",
    "    for i, j in enumerate(d_ratios):\n",
    "        if (abs(d_ratios[i] - H1[i])) < 0.03:\n",
    "            return \"hexagonal\"\n",
    "        elif (abs(d_ratios[i] - V1[i])) < 0.03:\n",
    "            return \"cubic\"\n",
    "        elif (abs(d_ratios[i] - La[i])) < 0.03:\n",
    "            return \"lamellar\"\n",
    "        else:\n",
    "            return \"indeterminate\"\n",
    "\n",
    "def calculate_a_H1(d: float, h: int, k: int) -> float:\n",
    "    a_H1 = d * np.sqrt((4/3)*((h**2 + k**2 + (h * k))))\n",
    "    return a_H1\n",
    "\n",
    "\n",
    "def calculate_a_V1(d: float, h: int, k: int, l: int) -> float:\n",
    "    a_V1 = d * (np.sqrt((h ** 2) + (k ** 2) + (l ** 2)))\n",
    "    return a_V1"
   ]
  },
  {
   "cell_type": "markdown",
   "id": "895843c3-5fb4-4b7b-8aa7-d94b2dc4b689",
   "metadata": {
    "tags": []
   },
   "source": [
    "## Mockup To-Do\n",
    "\n",
    "### Module 3.1\n",
    "1. Export data from AnIML to TSV (for use in Origin) -> later\n",
    "2. Import TXT from Origin via LorentzianReader\n",
    "\n",
    "### Module 3.2\n",
    "3. Calibration\n",
    "4. Calculations\n",
    "5. Visualisation  \n",
    "    5.1 plotly  \n",
    "    5.2 matplotlib  \n",
    "6. Phase diagram"
   ]
  },
  {
   "cell_type": "markdown",
   "id": "868e3989-4b93-4504-a569-9b30b95f5ba6",
   "metadata": {},
   "source": [
    "---\n",
    "\n",
    "#### **Submodule 3.1&nbsp;&nbsp;&nbsp;Lorentzian fit with Origin** <a class=\"anchor\" name=\"three_one\"></a>\n",
    "\n",
    "lorem ipsum..."
   ]
  },
  {
   "cell_type": "markdown",
   "id": "9fbbd8d7-8faf-44b9-b81c-4d6f55b9ac99",
   "metadata": {},
   "source": [
    "Export $q$ and $I$ to TSV for export to Origin:"
   ]
  },
  {
   "cell_type": "code",
   "execution_count": 7,
   "id": "7e24838e-39e3-4814-8689-8e1270da46a7",
   "metadata": {},
   "outputs": [],
   "source": [
    "path_to_AnIML_file = path_to_datasets / f\"download/fairsaxs_220316.animl\""
   ]
  },
  {
   "cell_type": "code",
   "execution_count": 8,
   "id": "2cd3724b-78a2-47cc-899e-1a119e72f6c9",
   "metadata": {},
   "outputs": [],
   "source": [
    "with path_to_AnIML_file.open(\"r\") as f:\n",
    "    xml_string = f.read()\n",
    "    animl_doc = AnIMLDocument.fromXMLString(xml_string)"
   ]
  },
  {
   "cell_type": "code",
   "execution_count": null,
   "id": "da920822-8716-4844-b6bb-5628766424fb",
   "metadata": {},
   "outputs": [],
   "source": [
    "path_to_TSV_file = path_to_datasets / f\"processed/test/fairsaxs_220316.tsv\""
   ]
  },
  {
   "cell_type": "code",
   "execution_count": null,
   "id": "6b4468eb-0354-4756-925a-4bdb6312d67f",
   "metadata": {},
   "outputs": [],
   "source": [
    "writer = TSVWriter(animl_doc)"
   ]
  },
  {
   "cell_type": "code",
   "execution_count": null,
   "id": "511c6b46-6fb8-4ab5-9eac-472fb2d46b75",
   "metadata": {},
   "outputs": [],
   "source": [
    "list_of_IDs = writer.available_seriesIDs()\n",
    "print(list_of_IDs)"
   ]
  },
  {
   "cell_type": "code",
   "execution_count": null,
   "id": "147d4764-6002-4310-a702-c49187014286",
   "metadata": {},
   "outputs": [],
   "source": [
    "writer.add_seriesID([list_of_IDs[0], list_of_IDs[3]])\n",
    "dataframe = writer.create_dataframe()\n",
    "writer.create_tsv(df=dataframe, path=path_to_TSV_file)"
   ]
  },
  {
   "cell_type": "markdown",
   "id": "0bc46200-321b-4c4a-9057-115900fdaeef",
   "metadata": {},
   "source": [
    "Import Lorentzian data from Origin TXT output file:"
   ]
  },
  {
   "cell_type": "code",
   "execution_count": 9,
   "id": "39259ab5-0844-4ee0-91ce-4c9d949b28b2",
   "metadata": {},
   "outputs": [
    {
     "name": "stdout",
     "output_type": "stream",
     "text": [
      "['CholPal_20220214_lorentz.txt', 'OTAB_078wtp_T060_lorentz.txt', 'OTAB_082wtp_T025_lorentz.txt', 'OTAB_095wtp_T030_lorentz.txt']\n"
     ]
    }
   ],
   "source": [
    "available_txt_files = [file for file in (path_to_datasets / \"raw/test/\").glob(\"*.txt\")]\n",
    "print([file.name for file in available_txt_files])"
   ]
  },
  {
   "cell_type": "code",
   "execution_count": 10,
   "id": "6894a1fd-a02a-4af6-b954-0ef3a96b809e",
   "metadata": {},
   "outputs": [
    {
     "name": "stdout",
     "output_type": "stream",
     "text": [
      "21:35:30 - modules.tsvwriter - DEBUG: Constructor called, 'LorentzianReader'@0x22491af56c0 initialised.\n",
      "21:35:30 - modules.tsvwriter - DEBUG: Data extracted from 'C:\\Users\\ac138949\\Documents\\GitHub\\SAXS-workflow\\notebooks\\datasets\\raw\\test\\CholPal_20220214_lorentz.txt'.\n",
      "21:35:30 - modules.tsvwriter - DEBUG: Destructor called, 'LorentzianReader'@0x22491af56c0 deleted.\n",
      "21:35:30 - modules.tsvwriter - DEBUG: Constructor called, 'LorentzianReader'@0x224915f3eb0 initialised.\n",
      "21:35:30 - modules.tsvwriter - DEBUG: Data extracted from 'C:\\Users\\ac138949\\Documents\\GitHub\\SAXS-workflow\\notebooks\\datasets\\raw\\test\\OTAB_078wtp_T060_lorentz.txt'.\n",
      "21:35:30 - modules.tsvwriter - DEBUG: Destructor called, 'LorentzianReader'@0x224915f3eb0 deleted.\n",
      "21:35:30 - modules.tsvwriter - DEBUG: Constructor called, 'LorentzianReader'@0x224915f3eb0 initialised.\n",
      "21:35:30 - modules.tsvwriter - DEBUG: Data extracted from 'C:\\Users\\ac138949\\Documents\\GitHub\\SAXS-workflow\\notebooks\\datasets\\raw\\test\\OTAB_082wtp_T025_lorentz.txt'.\n",
      "21:35:30 - modules.tsvwriter - DEBUG: Destructor called, 'LorentzianReader'@0x224915f3eb0 deleted.\n",
      "21:35:30 - modules.tsvwriter - DEBUG: Constructor called, 'LorentzianReader'@0x224915f3eb0 initialised.\n",
      "21:35:30 - modules.tsvwriter - DEBUG: Data extracted from 'C:\\Users\\ac138949\\Documents\\GitHub\\SAXS-workflow\\notebooks\\datasets\\raw\\test\\OTAB_095wtp_T030_lorentz.txt'.\n",
      "21:35:30 - modules.tsvwriter - DEBUG: Destructor called, 'LorentzianReader'@0x224915f3eb0 deleted.\n",
      "dict_keys(['CholPal_20220214_lorentz.txt', 'OTAB_078wtp_T060_lorentz.txt', 'OTAB_082wtp_T025_lorentz.txt', 'OTAB_095wtp_T030_lorentz.txt'])\n"
     ]
    }
   ],
   "source": [
    "dict_of_df = {}\n",
    "i=0\n",
    "for file in available_txt_files:\n",
    "    dict_of_df[available_txt_files[i].name] = LorentzianReader(available_txt_files[i]).get_xc_dataframe()\n",
    "    i += 1\n",
    "print(dict_of_df.keys())"
   ]
  },
  {
   "cell_type": "markdown",
   "id": "06951e90-3b3e-4a9d-9e54-12e0d7a7026b",
   "metadata": {},
   "source": [
    "---\n",
    "\n",
    "#### **Submodule 3.2&nbsp;&nbsp;&nbsp;Analysis and visualization with Python** <a class=\"anchor\" name=\"three_two\"></a>\n",
    "\n",
    "lorem ipsum..."
   ]
  },
  {
   "cell_type": "code",
   "execution_count": 11,
   "id": "21c698fa-19cf-47b6-81de-2f2cef48c5e2",
   "metadata": {},
   "outputs": [],
   "source": [
    "d_from_literature = [52.49824535, 26.24912267, 17.49941512]\n",
    "q_cholpal_literature = [calculate_scattering_vector(d) for d in d_from_literature]"
   ]
  },
  {
   "cell_type": "code",
   "execution_count": 12,
   "id": "84c66955-9724-491d-9bec-0fdee784386d",
   "metadata": {},
   "outputs": [
    {
     "name": "stdout",
     "output_type": "stream",
     "text": [
      "[2.5338410141474608, 4.432579919820964]\n"
     ]
    }
   ],
   "source": [
    "slope, intercept = np.polyfit(\n",
    "    x=dict_of_df[available_txt_files[0].name][\"value\"].tolist(),\n",
    "    y=q_cholpal_literature,\n",
    "    deg=1\n",
    ")\n",
    "q_corrected = [calculate_linear_regression(slope, value, intercept) for value in dict_of_df[available_txt_files[2].name][\"value\"].tolist()]\n",
    "print(q_corrected)"
   ]
  },
  {
   "cell_type": "code",
   "execution_count": 13,
   "id": "167cff10-2f61-4009-b002-a886314da73a",
   "metadata": {},
   "outputs": [
    {
     "name": "stdout",
     "output_type": "stream",
     "text": [
      "[2.479707792279791, 1.4175007379073652]\n"
     ]
    }
   ],
   "source": [
    "d_measured = [calculate_lattice_plane(q) for q in q_corrected]\n",
    "print(d_measured)"
   ]
  },
  {
   "cell_type": "code",
   "execution_count": 14,
   "id": "d9a57e11-3776-4b9d-8dd0-3442dc198eb1",
   "metadata": {},
   "outputs": [
    {
     "name": "stdout",
     "output_type": "stream",
     "text": [
      "[0.5716402320953087]\n"
     ]
    }
   ],
   "source": [
    "d_ratio = [calculate_lattice_ratio(d, d_measured[0]) for d in d_measured[1:]]\n",
    "print(d_ratio)"
   ]
  },
  {
   "cell_type": "code",
   "execution_count": 15,
   "id": "0bbb0a85-0a5b-4122-b601-05df7e0b8753",
   "metadata": {},
   "outputs": [],
   "source": [
    "phase = determine_phase(d_ratio)\n",
    "if phase == \"hexagonal\":\n",
    "    h = [1, 1, 2, 2, 3]\n",
    "    k = [0, 1, 0, 1, 0]\n",
    "    a_hex = []\n",
    "    for i, j in enumerate(d_measured):\n",
    "        a_i = calculate_a_H1(d_measured[i], h[i], k[i])\n",
    "        a_hex.append(a_i)\n",
    "    phase_information = [phase, (np.mean(a_hex))]\n",
    "\n",
    "elif phase == \"cubic\":\n",
    "    h = [1, 1, 2, 2, 2]\n",
    "    k = [0, 1, 0, 1, 2]\n",
    "    l = [0, 1, 0, 1, 2]\n",
    "    a_cub = []\n",
    "    for i, j in enumerate(d_measured):\n",
    "        a_i = calculate_a_V1(d_measured[i], h[i], k[i], l[i])\n",
    "        a_cub.append(a_i)\n",
    "    phase_information = [phase, (np.mean(a_cub))]\n",
    "\n",
    "elif phase == \"lamellar\":\n",
    "    phase_information = [phase, d_measured[0]]\n",
    "\n",
    "else:\n",
    "    phase_information = [\"indeterminate\", \"-\"]"
   ]
  },
  {
   "cell_type": "code",
   "execution_count": 16,
   "id": "a28be37a-e6e8-4ec8-9e06-edd9ed4b2007",
   "metadata": {},
   "outputs": [
    {
     "name": "stdout",
     "output_type": "stream",
     "text": [
      "[2.479707792279791, 1.4175007379073652]\n"
     ]
    }
   ],
   "source": [
    "print(d_measured)"
   ]
  },
  {
   "cell_type": "code",
   "execution_count": 17,
   "id": "06fc3d37-3597-46ef-ac12-72d72dc79a99",
   "metadata": {},
   "outputs": [
    {
     "name": "stdout",
     "output_type": "stream",
     "text": [
      "['hexagonal', 2.849160699291715]\n"
     ]
    }
   ],
   "source": [
    "print(phase_information)"
   ]
  },
  {
   "cell_type": "markdown",
   "id": "7f2b9767-52cc-410f-918c-290ead2fce2b",
   "metadata": {},
   "source": [
    "**VISUALISATION**"
   ]
  },
  {
   "cell_type": "code",
   "execution_count": 18,
   "id": "3d8de41c-e781-4875-8435-dbb79d36c114",
   "metadata": {},
   "outputs": [
    {
     "name": "stdout",
     "output_type": "stream",
     "text": [
      "21:35:36 - modules.tsvwriter - DEBUG: Constructor called, 'TSVWriter'@0x22491af7d30 initialised.\n"
     ]
    }
   ],
   "source": [
    "writer = TSVWriter(animl_doc)"
   ]
  },
  {
   "cell_type": "code",
   "execution_count": 19,
   "id": "968e2053-2426-41c3-b311-328ca444b680",
   "metadata": {},
   "outputs": [
    {
     "name": "stdout",
     "output_type": "stream",
     "text": [
      "['CholPal_20220214', 'OTAB_078wtp_T060', 'OTAB_082wtp_T025', 'OTAB_095wtp_T030', 'OTAB_100wtp_T090']\n"
     ]
    }
   ],
   "source": [
    "list_of_IDs = writer.available_seriesIDs()\n",
    "print(list_of_IDs)"
   ]
  },
  {
   "cell_type": "code",
   "execution_count": 40,
   "id": "7502e3b2-9383-423a-a6c6-36c1c3844f12",
   "metadata": {},
   "outputs": [],
   "source": [
    "writer.add_seriesID([ID for ID in list_of_IDs])\n",
    "dataframe = writer.create_dataframe()"
   ]
  },
  {
   "cell_type": "code",
   "execution_count": 54,
   "id": "a5751f08-7962-4cda-b8dc-be2c4bba751d",
   "metadata": {},
   "outputs": [],
   "source": [
    "newlist = []\n",
    "q_list = []\n",
    "i_list = []\n",
    "for index in range(len(dataframe.columns))[2:]:\n",
    "    newlist.append(dataframe.iloc[:, index].tolist())\n",
    "new_df = dataframe.iloc[:, [0, 1]]\n",
    "    for _ in range range(len(newlist)):\n",
    "    if _ % 2:\n",
    "        q_list.append(newlist[i])\n",
    "        \n",
    "    else:\n",
    "        i_list.append(newlist[i])"
   ]
  },
  {
   "cell_type": "code",
   "execution_count": 41,
   "id": "78ea526d-66c1-454d-9f2d-a6913cbbbdfa",
   "metadata": {},
   "outputs": [
    {
     "name": "stdout",
     "output_type": "stream",
     "text": [
      "      CholPal_20220214_q  CholPal_20220214_i\n",
      "0               0.114488        2.772433e-12\n",
      "1               0.121128        8.453862e-12\n",
      "2               0.127769        1.096632e-12\n",
      "3               0.134409        1.764940e-12\n",
      "4               0.141050        7.023565e-13\n",
      "...                  ...                 ...\n",
      "1245                 NaN                 NaN\n",
      "1246                 NaN                 NaN\n",
      "1247                 NaN                 NaN\n",
      "1248                 NaN                 NaN\n",
      "1249                 NaN                 NaN\n",
      "\n",
      "[1250 rows x 2 columns]\n",
      "      CholPal_20220214_q  CholPal_20220214_i  OTAB_078wtp_T060_q  \\\n",
      "0               0.114488        2.772433e-12                 NaN   \n",
      "1               0.121128        8.453862e-12                 NaN   \n",
      "2               0.127769        1.096632e-12                 NaN   \n",
      "3               0.134409        1.764940e-12                 NaN   \n",
      "4               0.141050        7.023565e-13                 NaN   \n",
      "...                  ...                 ...                 ...   \n",
      "2495                 NaN                 NaN                 NaN   \n",
      "2496                 NaN                 NaN                 NaN   \n",
      "2497                 NaN                 NaN                 NaN   \n",
      "2498                 NaN                 NaN                 NaN   \n",
      "2499                 NaN                 NaN                 NaN   \n",
      "\n",
      "      OTAB_078wtp_T060_i  \n",
      "0                    NaN  \n",
      "1                    NaN  \n",
      "2                    NaN  \n",
      "3                    NaN  \n",
      "4                    NaN  \n",
      "...                  ...  \n",
      "2495                 NaN  \n",
      "2496                 NaN  \n",
      "2497                 NaN  \n",
      "2498                 NaN  \n",
      "2499                 NaN  \n",
      "\n",
      "[2500 rows x 4 columns]\n"
     ]
    }
   ],
   "source": [
    "new_df = dataframe.iloc[:, [0, 1]]\n",
    "print(new_df)\n",
    "plot_df = pd.concat([new_df, dataframe.iloc[:, [2, 3]]], ignore_index=True)\n",
    "print(plot_df)"
   ]
  },
  {
   "cell_type": "code",
   "execution_count": 21,
   "id": "b2ddb908-682c-4700-9fc0-f6692853df65",
   "metadata": {},
   "outputs": [],
   "source": [
    "figure = px.line(dataframe, x=\"CholPal_20220214_q\", y=\"CholPal_20220214_i\")"
   ]
  },
  {
   "cell_type": "code",
   "execution_count": 22,
   "id": "d044cf14-da3b-4d7a-b0a8-b25700b7720c",
   "metadata": {},
   "outputs": [
    {
     "data": {
      "text/html": [
       "<iframe\n",
       "    scrolling=\"no\"\n",
       "    width=\"100%\"\n",
       "    height=\"545px\"\n",
       "    src=\"iframe_figures/figure_22.html\"\n",
       "    frameborder=\"0\"\n",
       "    allowfullscreen\n",
       "></iframe>\n"
      ]
     },
     "metadata": {},
     "output_type": "display_data"
    }
   ],
   "source": [
    "figure.show()"
   ]
  },
  {
   "cell_type": "markdown",
   "id": "ab8937e6-6432-4d48-81ee-2fff110f463c",
   "metadata": {},
   "source": [
    "---\n",
    "\n",
    "### **Disclosure** <a class=\"anchor\" name=\"disclosure\"></a>\n",
    "\n",
    "**Contributions**\n",
    "\n",
    "If you wish to contribute to the FAIR Chemistry project, find us on [GitHub](https://github.com/FAIRChemistry)!\n",
    "\n",
    "**MIT License**\n",
    "\n",
    "Copyright (c) 2022 FAIR Chemistry\n",
    "\n",
    "Permission is hereby granted, free of charge, to any person obtaining a copy\n",
    "of this software and associated documentation files (the \"Software\"), to deal\n",
    "in the Software without restriction, including without limitation the rights\n",
    "to use, copy, modify, merge, publish, distribute, sublicense, and/or sell\n",
    "copies of the Software, and to permit persons to whom the Software is\n",
    "furnished to do so, subject to the following conditions:\n",
    "\n",
    "The above copyright notice and this permission notice shall be included in all\n",
    "copies or substantial portions of the Software.\n",
    "\n",
    "THE SOFTWARE IS PROVIDED \"AS IS\", WITHOUT WARRANTY OF ANY KIND, EXPRESS OR\n",
    "IMPLIED, INCLUDING BUT NOT LIMITED TO THE WARRANTIES OF MERCHANTABILITY,\n",
    "FITNESS FOR A PARTICULAR PURPOSE AND NONINFRINGEMENT. IN NO EVENT SHALL THE\n",
    "AUTHORS OR COPYRIGHT HOLDERS BE LIABLE FOR ANY CLAIM, DAMAGES OR OTHER\n",
    "LIABILITY, WHETHER IN AN ACTION OF CONTRACT, TORT OR OTHERWISE, ARISING FROM,\n",
    "OUT OF OR IN CONNECTION WITH THE SOFTWARE OR THE USE OR OTHER DEALINGS IN THE\n",
    "SOFTWARE."
   ]
  },
  {
   "cell_type": "code",
   "execution_count": null,
   "id": "b003ffef-a092-4f28-a1eb-ac35082c9464",
   "metadata": {},
   "outputs": [],
   "source": []
  }
 ],
 "metadata": {
  "kernelspec": {
   "display_name": "Python [conda env:fairsaxs]",
   "language": "python",
   "name": "conda-env-fairsaxs-py"
  },
  "language_info": {
   "codemirror_mode": {
    "name": "ipython",
    "version": 3
   },
   "file_extension": ".py",
   "mimetype": "text/x-python",
   "name": "python",
   "nbconvert_exporter": "python",
   "pygments_lexer": "ipython3",
   "version": "3.10.0"
  }
 },
 "nbformat": 4,
 "nbformat_minor": 5
}
