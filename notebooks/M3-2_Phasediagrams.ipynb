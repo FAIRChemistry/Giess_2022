{
 "cells": [
  {
   "cell_type": "markdown",
   "id": "d482f382-9096-427e-ac26-6d12b651a6e8",
   "metadata": {},
   "source": [
    "# FAIR and scalable management of small-angle X-ray scattering data  \n",
    "## Module 3: Data analysis and visualisation\n",
    "### 3.2: Phasediagrams with Python\n",
    "\n",
    "> Authors: Torsten Giess, Selina Itzigehl, Jan Range, Johanna Bruckner, Juergen Pleiss  \n",
    "> Last modified: 02.05.2022\n",
    "\n",
    "---"
   ]
  },
  {
   "cell_type": "markdown",
   "id": "82c25029-b2d9-42cf-b9fa-cb9b161eed89",
   "metadata": {},
   "source": [
    "### **Abstract** <a class=\"anchor\" name=\"abstract\"></a>\n",
    "\n",
    "Using established packages matplotlib (version 3.5.1) and numpy (version 1.22.1), as well as packages from the Python 3 standard libary, this notebook provides the means to visualize phase transitions in a \"skeleton phase diagram\". \n",
    "\n",
    "---"
   ]
  },
  {
   "cell_type": "markdown",
   "id": "08bca00d-8a2b-4903-a156-274f5680737e",
   "metadata": {},
   "source": [
    "### **Table of Contents** <a class=\"anchor\" name=\"table_of_contents\"></a>\n",
    "\n",
    "- [Abstract](#abstract)\n",
    "- [Workflow](#workflow)\n",
    "    - [User guide](#user_guide)\n",
    "    - [Preparation](#preparation)\n",
    "    - [Phasediagrams with Python](#phases)\n",
    "- [Disclosure](#disclosure)\n",
    "\n",
    "---"
   ]
  },
  {
   "cell_type": "markdown",
   "id": "d3a14dc3-3457-4d4c-9827-bde70a38926e",
   "metadata": {},
   "source": [
    "### **Workflow** <a class=\"anchor\" name=\"workflow\"></a>\n",
    "\n",
    "Following is the workflow for Module 3.2: Phasediagrams with Python of FAIR and scalable management of small-angle X-ray scattering data."
   ]
  },
  {
   "cell_type": "markdown",
   "id": "4ac5ea60-fb8b-4d11-9d42-981e4d7c1e9e",
   "metadata": {},
   "source": [
    "#### **User guide** <a class=\"anchor\" name=\"user_guide\"></a>\n",
    "\n",
    "This section enables the creation of a \"skeleton phase diagram\" for further editing in a with a scalable vector graphics programme like _Inkscape_."
   ]
  },
  {
   "cell_type": "markdown",
   "id": "778d2b3b-b837-47dc-bd46-1e718ae867ed",
   "metadata": {},
   "source": [
    "#### **Preparation** <a class=\"anchor\" name=\"preparation\"></a>\n",
    "\n",
    "This section contains the necessary preparations for using this module. Code cells in this section are required regardless of which functionality of this notebook is used. First, the required packages from the [Python 3 standard library](https://docs.python.org/3/library/), the Python Package Index ([PyPI](https://pypi.org/)), and *ad hoc* modules of this work are imported. Then, both current time and path are retrieved and stored in the desired formats."
   ]
  },
  {
   "cell_type": "code",
   "execution_count": 6,
   "id": "3030bb86-729f-4729-8ff7-e412b0f6e849",
   "metadata": {},
   "outputs": [
    {
     "name": "stdout",
     "output_type": "stream",
     "text": [
      "Importing standard library packages.\n",
      "Done.\n"
     ]
    }
   ],
   "source": [
    "print(\"Importing standard library packages.\")\n",
    "from datetime import date\n",
    "from pathlib import Path\n",
    "from typing import List\n",
    "print (\"Done.\")"
   ]
  },
  {
   "cell_type": "code",
   "execution_count": 7,
   "id": "40310912-809a-4a64-8440-19e1dcad5eeb",
   "metadata": {},
   "outputs": [
    {
     "name": "stdout",
     "output_type": "stream",
     "text": [
      "Importing PyPI packages.\n",
      "Done.\n"
     ]
    }
   ],
   "source": [
    "print(\"Importing PyPI packages.\")\n",
    "import numpy as np\n",
    "import matplotlib.pyplot as plt\n",
    "print (\"Done.\")"
   ]
  },
  {
   "cell_type": "code",
   "execution_count": 8,
   "id": "caa4fd32-16a6-4312-85ee-c8f97b522e51",
   "metadata": {},
   "outputs": [
    {
     "name": "stdout",
     "output_type": "stream",
     "text": [
      "Importing local packages.\n",
      "All done.\n"
     ]
    }
   ],
   "source": [
    "print(\"Importing local packages.\")\n",
    "print(\"All done.\")"
   ]
  },
  {
   "cell_type": "code",
   "execution_count": 9,
   "id": "b6867753-1a79-4f4b-8c3f-b053ce4ab7b3",
   "metadata": {},
   "outputs": [],
   "source": [
    "date_suffix = str(date.today()).replace(\"-\", \"\")[2:]"
   ]
  },
  {
   "cell_type": "code",
   "execution_count": 10,
   "id": "18d69ade-5b4c-45e2-9e6b-9247f4d61b7d",
   "metadata": {},
   "outputs": [],
   "source": [
    "cwd = Path.cwd()\n",
    "path_to_datasets = cwd / \"./datasets/\""
   ]
  },
  {
   "cell_type": "markdown",
   "id": "06951e90-3b3e-4a9d-9e54-12e0d7a7026b",
   "metadata": {
    "tags": []
   },
   "source": [
    "---\n",
    "\n",
    "#### **Phasediagrams with Python** <a class=\"anchor\" name=\"phases\"></a>\n",
    "\n",
    "Define the name of your sample which will be added to the `x-axis` label. To `mass_fraction` add the mass fractions, to `temperature` the corresponding temperatures of phase transitions that were found while inspecting various diffractograms."
   ]
  },
  {
   "cell_type": "code",
   "execution_count": 11,
   "id": "0ce1515e-830c-4cbe-a766-11cd8756214c",
   "metadata": {},
   "outputs": [],
   "source": [
    "name = \"O$_8$TAB\""
   ]
  },
  {
   "cell_type": "code",
   "execution_count": 12,
   "id": "436871ad-91b2-4b4a-b36f-237987f915d0",
   "metadata": {},
   "outputs": [],
   "source": [
    "mass_fraction = [0.71, 0.73, 0.73, 0.75, 0.75, 0.78, 0.80, 0.80, 0.90, 0.93, 0.95, 0.95, 0.95]"
   ]
  },
  {
   "cell_type": "code",
   "execution_count": 13,
   "id": "b1df4f7e-4d81-460c-8e12-750f7894f1cc",
   "metadata": {},
   "outputs": [],
   "source": [
    "temperature = [12, 7, 22, 46, 53, 59, 61, 68, 48, 75, 22, 45, 79]"
   ]
  },
  {
   "cell_type": "markdown",
   "id": "012c2771-ff13-4e12-9dc2-a6ef7e6cfd47",
   "metadata": {},
   "source": [
    "Create the \"skeleton plot\":"
   ]
  },
  {
   "cell_type": "code",
   "execution_count": 14,
   "id": "4c038bca-5e70-49b5-bf66-11496bb27a77",
   "metadata": {},
   "outputs": [
    {
     "data": {
      "text/plain": [
       "<function matplotlib.pyplot.show(close=None, block=None)>"
      ]
     },
     "execution_count": 14,
     "metadata": {},
     "output_type": "execute_result"
    },
    {
     "data": {
      "image/png": "[encoded data removed]",
      "text/plain": [
       "<Figure size 432x288 with 1 Axes>"
      ]
     },
     "metadata": {
      "needs_background": "light"
     },
     "output_type": "display_data"
    }
   ],
   "source": [
    "plt.plot(mass_fraction,\n",
    "         temperature,\n",
    "         marker='o',\n",
    "         markersize=4,\n",
    "         mfc=\"None\",\n",
    "         linestyle=\"None\",\n",
    "         color=\"black\",\n",
    "         )\n",
    "plt.xlabel(f\"$w$({name})\")\n",
    "plt.xlim(0, 1)\n",
    "plt.xticks(np.arange(0,1.1,step=0.1))\n",
    "plt.ylabel(\"$T$ / °C\")\n",
    "plt. ylim(0, 100)\n",
    "plt.show"
   ]
  },
  {
   "cell_type": "markdown",
   "id": "ab8937e6-6432-4d48-81ee-2fff110f463c",
   "metadata": {},
   "source": [
    "---\n",
    "\n",
    "### **Disclosure** <a class=\"anchor\" name=\"disclosure\"></a>\n",
    "\n",
    "**Contributions**\n",
    "\n",
    "If you wish to contribute to the FAIR Chemistry project, find us on [GitHub](https://github.com/FAIRChemistry)!\n",
    "\n",
    "**MIT License**\n",
    "\n",
    "Copyright (c) 2022 FAIR Chemistry\n",
    "\n",
    "Permission is hereby granted, free of charge, to any person obtaining a copy\n",
    "of this software and associated documentation files (the \"Software\"), to deal\n",
    "in the Software without restriction, including without limitation the rights\n",
    "to use, copy, modify, merge, publish, distribute, sublicense, and/or sell\n",
    "copies of the Software, and to permit persons to whom the Software is\n",
    "furnished to do so, subject to the following conditions:\n",
    "\n",
    "The above copyright notice and this permission notice shall be included in all\n",
    "copies or substantial portions of the Software.\n",
    "\n",
    "THE SOFTWARE IS PROVIDED \"AS IS\", WITHOUT WARRANTY OF ANY KIND, EXPRESS OR\n",
    "IMPLIED, INCLUDING BUT NOT LIMITED TO THE WARRANTIES OF MERCHANTABILITY,\n",
    "FITNESS FOR A PARTICULAR PURPOSE AND NONINFRINGEMENT. IN NO EVENT SHALL THE\n",
    "AUTHORS OR COPYRIGHT HOLDERS BE LIABLE FOR ANY CLAIM, DAMAGES OR OTHER\n",
    "LIABILITY, WHETHER IN AN ACTION OF CONTRACT, TORT OR OTHERWISE, ARISING FROM,\n",
    "OUT OF OR IN CONNECTION WITH THE SOFTWARE OR THE USE OR OTHER DEALINGS IN THE\n",
    "SOFTWARE."
   ]
  },
  {
   "cell_type": "code",
   "execution_count": null,
   "id": "b003ffef-a092-4f28-a1eb-ac35082c9464",
   "metadata": {},
   "outputs": [],
   "source": []
  }
 ],
 "metadata": {
  "kernelspec": {
   "display_name": "Python [conda env:fairsaxs]",
   "language": "python",
   "name": "conda-env-fairsaxs-py"
  },
  "language_info": {
   "codemirror_mode": {
    "name": "ipython",
    "version": 3
   },
   "file_extension": ".py",
   "mimetype": "text/x-python",
   "name": "python",
   "nbconvert_exporter": "python",
   "pygments_lexer": "ipython3",
   "version": "3.10.4"
  }
 },
 "nbformat": 4,
 "nbformat_minor": 5
}
