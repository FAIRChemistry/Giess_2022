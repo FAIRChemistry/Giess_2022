{
 "cells": [
  {
   "cell_type": "markdown",
   "id": "d482f382-9096-427e-ac26-6d12b651a6e8",
   "metadata": {},
   "source": [
    "# FAIR and scalable management of small-angle X-ray scattering data  \n",
    "## Module 3: Data analysis and visualisation\n",
    "### 3.2: Analysis\n",
    "\n",
    "> Authors: Torsten Giess, Selina Itzigehl, Jan Range, Johanna Bruckner, Juergen Pleiss  \n",
    "> Last modified: 02.05.2022\n",
    "\n",
    "---"
   ]
  },
  {
   "cell_type": "markdown",
   "id": "82c25029-b2d9-42cf-b9fa-cb9b161eed89",
   "metadata": {},
   "source": [
    "### **Abstract** <a class=\"anchor\" name=\"abstract\"></a>\n",
    "\n",
    "Lorem ipsum dolor ...\n",
    "\n",
    "---"
   ]
  },
  {
   "cell_type": "markdown",
   "id": "08bca00d-8a2b-4903-a156-274f5680737e",
   "metadata": {},
   "source": [
    "### **Table of Contents** <a class=\"anchor\" name=\"table_of_contents\"></a>\n",
    "\n",
    "- [Abstract](#abstract)\n",
    "- [Workflow](#workflow)\n",
    "    - [User guide](#user_guide)\n",
    "    - [Preparation](#preparation)\n",
    "    - [Analysis with Python](#analysis)\n",
    "- [Disclosure](#disclosure)\n",
    "\n",
    "---"
   ]
  },
  {
   "cell_type": "markdown",
   "id": "d3a14dc3-3457-4d4c-9827-bde70a38926e",
   "metadata": {},
   "source": [
    "### **Workflow** <a class=\"anchor\" name=\"workflow\"></a>\n",
    "\n",
    "Following is the workflow for Module 3.2: Analysis of FAIR and scalable management of small-angle X-ray scattering data."
   ]
  },
  {
   "cell_type": "markdown",
   "id": "4ac5ea60-fb8b-4d11-9d42-981e4d7c1e9e",
   "metadata": {},
   "source": [
    "#### **User guide** <a class=\"anchor\" name=\"user_guide\"></a>\n",
    "\n",
    "Lorem ipsum..."
   ]
  },
  {
   "cell_type": "markdown",
   "id": "778d2b3b-b837-47dc-bd46-1e718ae867ed",
   "metadata": {},
   "source": [
    "#### **Preparation** <a class=\"anchor\" name=\"preparation\"></a>\n",
    "\n",
    "This section contains the necessary preparations for using this module. Code cells in this section are required regardless of which functionality of this notebook is used. First, the required packages from the [Python 3 standard library](https://docs.python.org/3/library/), the Python Package Index ([PyPI](https://pypi.org/)), and *ad hoc* modules of this work are imported. Then, both current time and path are retrieved and stored in the desired formats."
   ]
  },
  {
   "cell_type": "code",
   "execution_count": null,
   "id": "3030bb86-729f-4729-8ff7-e412b0f6e849",
   "metadata": {},
   "outputs": [],
   "source": [
    "print(\"Importing standard library packages.\")\n",
    "from datetime import date\n",
    "from pathlib import Path\n",
    "from typing import List\n",
    "print (\"Done.\")"
   ]
  },
  {
   "cell_type": "code",
   "execution_count": null,
   "id": "40310912-809a-4a64-8440-19e1dcad5eeb",
   "metadata": {},
   "outputs": [],
   "source": [
    "print(\"Importing PyPI packages.\")\n",
    "import numpy as np\n",
    "import pandas as pd\n",
    "from pyaniml import AnIMLDocument\n",
    "print (\"Done.\")"
   ]
  },
  {
   "cell_type": "code",
   "execution_count": null,
   "id": "caa4fd32-16a6-4312-85ee-c8f97b522e51",
   "metadata": {},
   "outputs": [],
   "source": [
    "print(\"Importing local packages.\")\n",
    "from modules.originreader import LorentzianReader\n",
    "print(\"All done.\")"
   ]
  },
  {
   "cell_type": "code",
   "execution_count": null,
   "id": "b6867753-1a79-4f4b-8c3f-b053ce4ab7b3",
   "metadata": {},
   "outputs": [],
   "source": [
    "date_suffix = str(date.today()).replace(\"-\", \"\")[2:]"
   ]
  },
  {
   "cell_type": "code",
   "execution_count": null,
   "id": "18d69ade-5b4c-45e2-9e6b-9247f4d61b7d",
   "metadata": {},
   "outputs": [],
   "source": [
    "cwd = Path.cwd()\n",
    "path_to_datasets = cwd / \"./datasets/\""
   ]
  },
  {
   "cell_type": "code",
   "execution_count": null,
   "id": "8698d225-64b8-4206-b2a4-039fa85f7edf",
   "metadata": {},
   "outputs": [],
   "source": [
    "def calculate_scattering_vector(d: float) -> float:\n",
    "    q = (2 * np.pi) / (d / 10)\n",
    "    return q\n",
    "\n",
    "def calculate_linear_regression(m: float, x: float, b: float) -> float:\n",
    "    y = m * x + b\n",
    "    return y\n",
    "\n",
    "def calculate_lattice_plane(q: float) -> float:\n",
    "    d = (2 * np.pi) / q\n",
    "    return d\n",
    "\n",
    "def calculate_lattice_ratio(d: float, d_0: float) -> float:\n",
    "    d_ratio = d / d_0\n",
    "    return d_ratio\n",
    "\n",
    "def determine_phase(d_ratios: List) -> bool:\n",
    "    H1 = [\n",
    "        (1 / np.sqrt(3)),\n",
    "        (1 / np.sqrt(4)),\n",
    "        (1 / np.sqrt(7)),\n",
    "        (1 / np.sqrt(9)),\n",
    "    ]\n",
    "    V1 = [\n",
    "        (1 / np.sqrt(2)),\n",
    "        (1 / np.sqrt(3)),\n",
    "        (1 / np.sqrt(4)),\n",
    "        (1 / np.sqrt(5)),\n",
    "    ]\n",
    "    La = [(1 / 2), (1 / 3), (1 / 4), (1 / 5)]\n",
    "    \n",
    "    for i, j in enumerate(d_ratios):\n",
    "        if (abs(d_ratios[i] - H1[i])) < 0.03:\n",
    "            return \"hexagonal\"\n",
    "        elif (abs(d_ratios[i] - V1[i])) < 0.03:\n",
    "            return \"cubic\"\n",
    "        elif (abs(d_ratios[i] - La[i])) < 0.03:\n",
    "            return \"lamellar\"\n",
    "        else:\n",
    "            return \"indeterminate\"\n",
    "\n",
    "def calculate_a_H1(d: float, h: int, k: int) -> float:\n",
    "    a_H1 = d * np.sqrt((4/3)*((h**2 + k**2 + (h * k))))\n",
    "    return a_H1\n",
    "\n",
    "\n",
    "def calculate_a_V1(d: float, h: int, k: int, l: int) -> float:\n",
    "    a_V1 = d * (np.sqrt((h ** 2) + (k ** 2) + (l ** 2)))\n",
    "    return a_V1"
   ]
  },
  {
   "cell_type": "markdown",
   "id": "06951e90-3b3e-4a9d-9e54-12e0d7a7026b",
   "metadata": {
    "tags": []
   },
   "source": [
    "---\n",
    "\n",
    "#### **Analysis with Python** <a class=\"anchor\" name=\"analysis\"></a>\n",
    "\n",
    "lorem ipsum..."
   ]
  },
  {
   "cell_type": "markdown",
   "id": "84797c56-3019-4129-80c9-6e2e86224448",
   "metadata": {},
   "source": [
    "Import Lorentzian data from Origin TXT output file:"
   ]
  },
  {
   "cell_type": "code",
   "execution_count": null,
   "id": "1827fc6e-3217-4e66-87e3-3337244f737c",
   "metadata": {},
   "outputs": [],
   "source": [
    "available_txt_files = [file for file in (path_to_datasets / \"raw/test/\").glob(\"*.txt\")]\n",
    "print([file.name for file in available_txt_files])"
   ]
  },
  {
   "cell_type": "code",
   "execution_count": null,
   "id": "db9d216b-dd90-45dd-8bfb-fba84400ca36",
   "metadata": {},
   "outputs": [],
   "source": [
    "dict_of_df = {}\n",
    "i=0\n",
    "for file in available_txt_files:\n",
    "    dict_of_df[available_txt_files[i].name] = LorentzianReader(available_txt_files[i]).get_xc_dataframe()\n",
    "    i += 1\n",
    "print(dict_of_df.keys())"
   ]
  },
  {
   "cell_type": "code",
   "execution_count": null,
   "id": "21c698fa-19cf-47b6-81de-2f2cef48c5e2",
   "metadata": {},
   "outputs": [],
   "source": [
    "d_from_literature = [52.49824535, 26.24912267, 17.49941512]\n",
    "q_cholpal_literature = [calculate_scattering_vector(d) for d in d_from_literature]"
   ]
  },
  {
   "cell_type": "code",
   "execution_count": null,
   "id": "84c66955-9724-491d-9bec-0fdee784386d",
   "metadata": {},
   "outputs": [],
   "source": [
    "slope, intercept = np.polyfit(\n",
    "    x=dict_of_df[available_txt_files[0].name][\"value\"].tolist(),\n",
    "    y=q_cholpal_literature,\n",
    "    deg=1\n",
    ")\n",
    "q_corrected = [calculate_linear_regression(slope, value, intercept) for value in dict_of_df[available_txt_files[2].name][\"value\"].tolist()]\n",
    "print(q_corrected)"
   ]
  },
  {
   "cell_type": "code",
   "execution_count": null,
   "id": "167cff10-2f61-4009-b002-a886314da73a",
   "metadata": {},
   "outputs": [],
   "source": [
    "d_measured = [calculate_lattice_plane(q) for q in q_corrected]\n",
    "print(d_measured)"
   ]
  },
  {
   "cell_type": "code",
   "execution_count": null,
   "id": "d9a57e11-3776-4b9d-8dd0-3442dc198eb1",
   "metadata": {},
   "outputs": [],
   "source": [
    "d_ratio = [calculate_lattice_ratio(d, d_measured[0]) for d in d_measured[1:]]\n",
    "print(d_ratio)"
   ]
  },
  {
   "cell_type": "code",
   "execution_count": null,
   "id": "0bbb0a85-0a5b-4122-b601-05df7e0b8753",
   "metadata": {},
   "outputs": [],
   "source": [
    "phase = determine_phase(d_ratio)\n",
    "if phase == \"hexagonal\":\n",
    "    h = [1, 1, 2, 2, 3]\n",
    "    k = [0, 1, 0, 1, 0]\n",
    "    a_hex = []\n",
    "    for i, j in enumerate(d_measured):\n",
    "        a_i = calculate_a_H1(d_measured[i], h[i], k[i])\n",
    "        a_hex.append(a_i)\n",
    "    phase_information = [phase, (np.mean(a_hex))]\n",
    "\n",
    "elif phase == \"cubic\":\n",
    "    h = [1, 1, 2, 2, 2]\n",
    "    k = [0, 1, 0, 1, 2]\n",
    "    l = [0, 1, 0, 1, 2]\n",
    "    a_cub = []\n",
    "    for i, j in enumerate(d_measured):\n",
    "        a_i = calculate_a_V1(d_measured[i], h[i], k[i], l[i])\n",
    "        a_cub.append(a_i)\n",
    "    phase_information = [phase, (np.mean(a_cub))]\n",
    "\n",
    "elif phase == \"lamellar\":\n",
    "    phase_information = [phase, d_measured[0]]\n",
    "\n",
    "else:\n",
    "    phase_information = [\"indeterminate\", \"-\"]"
   ]
  },
  {
   "cell_type": "code",
   "execution_count": null,
   "id": "a28be37a-e6e8-4ec8-9e06-edd9ed4b2007",
   "metadata": {},
   "outputs": [],
   "source": [
    "print(d_measured)"
   ]
  },
  {
   "cell_type": "code",
   "execution_count": null,
   "id": "06fc3d37-3597-46ef-ac12-72d72dc79a99",
   "metadata": {},
   "outputs": [],
   "source": [
    "print(phase_information)"
   ]
  },
  {
   "cell_type": "markdown",
   "id": "ab8937e6-6432-4d48-81ee-2fff110f463c",
   "metadata": {},
   "source": [
    "---\n",
    "\n",
    "### **Disclosure** <a class=\"anchor\" name=\"disclosure\"></a>\n",
    "\n",
    "**Contributions**\n",
    "\n",
    "If you wish to contribute to the FAIR Chemistry project, find us on [GitHub](https://github.com/FAIRChemistry)!\n",
    "\n",
    "**MIT License**\n",
    "\n",
    "Copyright (c) 2022 FAIR Chemistry\n",
    "\n",
    "Permission is hereby granted, free of charge, to any person obtaining a copy\n",
    "of this software and associated documentation files (the \"Software\"), to deal\n",
    "in the Software without restriction, including without limitation the rights\n",
    "to use, copy, modify, merge, publish, distribute, sublicense, and/or sell\n",
    "copies of the Software, and to permit persons to whom the Software is\n",
    "furnished to do so, subject to the following conditions:\n",
    "\n",
    "The above copyright notice and this permission notice shall be included in all\n",
    "copies or substantial portions of the Software.\n",
    "\n",
    "THE SOFTWARE IS PROVIDED \"AS IS\", WITHOUT WARRANTY OF ANY KIND, EXPRESS OR\n",
    "IMPLIED, INCLUDING BUT NOT LIMITED TO THE WARRANTIES OF MERCHANTABILITY,\n",
    "FITNESS FOR A PARTICULAR PURPOSE AND NONINFRINGEMENT. IN NO EVENT SHALL THE\n",
    "AUTHORS OR COPYRIGHT HOLDERS BE LIABLE FOR ANY CLAIM, DAMAGES OR OTHER\n",
    "LIABILITY, WHETHER IN AN ACTION OF CONTRACT, TORT OR OTHERWISE, ARISING FROM,\n",
    "OUT OF OR IN CONNECTION WITH THE SOFTWARE OR THE USE OR OTHER DEALINGS IN THE\n",
    "SOFTWARE."
   ]
  },
  {
   "cell_type": "code",
   "execution_count": null,
   "id": "b003ffef-a092-4f28-a1eb-ac35082c9464",
   "metadata": {},
   "outputs": [],
   "source": []
  }
 ],
 "metadata": {
  "kernelspec": {
   "display_name": "Python [conda env:fairsaxs]",
   "language": "python",
   "name": "conda-env-fairsaxs-py"
  },
  "language_info": {
   "codemirror_mode": {
    "name": "ipython",
    "version": 3
   },
   "file_extension": ".py",
   "mimetype": "text/x-python",
   "name": "python",
   "nbconvert_exporter": "python",
   "pygments_lexer": "ipython3",
   "version": "3.10.0"
  }
 },
 "nbformat": 4,
 "nbformat_minor": 5
}
