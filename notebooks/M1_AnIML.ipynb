{
 "cells": [
  {
   "cell_type": "markdown",
   "id": "c936c709-c7fd-4eb7-a470-f0aa2f38d55a",
   "metadata": {},
   "source": [
    "# FAIR and scalable management of small-angle X-ray scattering data  \n",
    "## Module 1: Conversion of PDH to AnIML\n",
    "\n",
    "> Authors: Torsten Giess, Selina Itzigehl, Jan Range, Johanna Bruckner, Juergen Pleiss  \n",
    "> Last modified: 23.02.2022\n",
    "\n",
    "---"
   ]
  },
  {
   "cell_type": "markdown",
   "id": "6dae0add-dda3-41a1-b914-9533134417c3",
   "metadata": {},
   "source": [
    "### **Abstract** <a class=\"anchor\" name=\"abstract\"></a>\n",
    "\n",
    "Using novel Python package [pyAnIML](https://github.com/FAIRChemistry/pyAnIML) (version 0.0.2), established packages [lxml](https://lxml.de/) (version 4.8.0) and [pandas](https://pandas.pydata.org/) (version 1.4.1), as well as various packages from the Python 3 standard libary, this notebook provides the means to create new [AnIML](https://animl.org/) documents and add entries to existing ones. \n",
    "\n",
    "---"
   ]
  },
  {
   "cell_type": "markdown",
   "id": "96597105-c533-48f2-af1d-977ad95fc1ae",
   "metadata": {},
   "source": [
    "### **Table of Contents** <a class=\"anchor\" name=\"table_of_contents\"></a>\n",
    "\n",
    "- [Abstract](#abstract)\n",
    "- [Workflow](#workflow)\n",
    "    - [User guide](#user_guide)\n",
    "    - [Preparation](#preparation)\n",
    "    - [Conversion to AnIML](#conversion)\n",
    "    - [Adding to an an existing AnIML document](#addition)\n",
    "    - [Inspecting an AnIML document](#inspection)\n",
    "- [Disclosure](#disclosure)\n",
    "\n",
    "---"
   ]
  },
  {
   "cell_type": "markdown",
   "id": "910b4b94-349f-4029-bd25-76b8e2c825d0",
   "metadata": {},
   "source": [
    "### **Workflow** <a class=\"anchor\" name=\"workflow\"></a>\n",
    "\n",
    "Following is the workflow for Module 1 of FAIR and scalable management of small-angle X-ray scattering data."
   ]
  },
  {
   "cell_type": "markdown",
   "id": "39738627-0cdc-49d4-8296-ea358807f0f6",
   "metadata": {
    "tags": []
   },
   "source": [
    "#### **User guide** <a class=\"anchor\" name=\"user_guide\"></a>\n",
    "\n",
    "This notebook can be used to either build up a [new AnIML object](#conversion) in memory and later serialize it to an actual document on disk or to extend an already [existing AnIML document](#addition) on disk by adding new entries to it and reserializing it later.  \n",
    "In both cases the required fields and explanations for them are already present in this notebook. As such, it can be used as is or extended if needed."
   ]
  },
  {
   "cell_type": "markdown",
   "id": "946b271c-be85-4633-b23e-15410cb9b825",
   "metadata": {},
   "source": [
    "#### **Preparation** <a class=\"anchor\" name=\"preparation\"></a>\n",
    "\n",
    "This section contains the necessary preparations for using this module. Code cells in this section are required regardless of which functionality of this notebook is used. First, the required packages from the [Python 3 standard library](https://docs.python.org/3/library/), the Python Package Index ([PyPI](https://pypi.org/)), and *ad hoc* modules of this work are imported. Then, both current time and path are retrieved and stored in the desired formats."
   ]
  },
  {
   "cell_type": "code",
   "execution_count": null,
   "id": "d94ccd2c-7392-44cf-a892-8463ca6e4429",
   "metadata": {},
   "outputs": [],
   "source": [
    "print(\"Importing standard library packages.\")\n",
    "from datetime import date\n",
    "from pathlib import Path\n",
    "print (\"Done.\")"
   ]
  },
  {
   "cell_type": "code",
   "execution_count": null,
   "id": "feb03b73-160f-4fe3-98f4-5dcb17511e72",
   "metadata": {},
   "outputs": [],
   "source": [
    "print(\"Importing PyPI packages.\")\n",
    "from pyaniml import AnIMLDocument, Sample, Series, ExperimentStep, Device, IndividualValueSet, SeriesSet\n",
    "print (\"Done.\")"
   ]
  },
  {
   "cell_type": "code",
   "execution_count": null,
   "id": "24482424-7675-4563-a5d3-fb1941d5d474",
   "metadata": {},
   "outputs": [],
   "source": [
    "print(\"Importing local packages.\")\n",
    "from modules.pdhreader import PDHReader\n",
    "print(\"All done.\")"
   ]
  },
  {
   "cell_type": "code",
   "execution_count": null,
   "id": "c7be3ab8-c29b-4800-8ecd-a2313cb4ab2f",
   "metadata": {},
   "outputs": [],
   "source": [
    "date_suffix = str(date.today()).replace(\"-\", \"\")[2:]"
   ]
  },
  {
   "cell_type": "code",
   "execution_count": null,
   "id": "ffe6d382-7665-4f1b-87ed-a6e5fdc14a97",
   "metadata": {},
   "outputs": [],
   "source": [
    "cwd = Path.cwd()\n",
    "path_to_datasets = cwd / \"./datasets/\""
   ]
  },
  {
   "cell_type": "markdown",
   "id": "0f5bbad8-5d32-44d2-9323-b71a1d980379",
   "metadata": {
    "tags": []
   },
   "source": [
    "#### **Conversion of PDH to AnIML** <a class=\"anchor\" name=\"conversion\"></a>\n",
    "\n",
    "With this section of the notebook, a new AnIML document can be created in memory and later be serialized to XML. The presented code cells provide the most important API calles for building an AnIML document with pyAnIML.  \n",
    "Running a code cell more than once will add the contents of this cell to the AnIML document accordingly more than once. This can be used to add multiple samples, experiments, series, ... to the same document by simple changing the respective code cell before serializing it."
   ]
  },
  {
   "cell_type": "markdown",
   "id": "c996612f-a435-4a48-9689-973d5f64660f",
   "metadata": {},
   "source": [
    "1. Create a new AnIML document as an object in memory:"
   ]
  },
  {
   "cell_type": "code",
   "execution_count": null,
   "id": "3b240d8b-0cd2-4e55-8593-5b9bc940c1c9",
   "metadata": {},
   "outputs": [],
   "source": [
    "animl_doc = AnIMLDocument()"
   ]
  },
  {
   "cell_type": "code",
   "execution_count": null,
   "id": "0e084942-5f0b-43bd-8652-44d7df52174e",
   "metadata": {},
   "outputs": [],
   "source": [
    "path_to_AnIML_file = path_to_datasets / f\"processed/test/fairsaxs_{date_suffix}.animl\"\n",
    "with path_to_AnIML_file.open(\"r\") as f:\n",
    "    xml_string = f.read()\n",
    "    animl_doc = AnIMLDocument.fromXMLString(xml_string)"
   ]
  },
  {
   "cell_type": "markdown",
   "id": "2ff31e7b-3a39-405c-a828-64728f2ac8df",
   "metadata": {},
   "source": [
    "2. Call the PDH reader with the path to the directory holding the PDH files as argument, retrieve a list of available files, and show this list:"
   ]
  },
  {
   "cell_type": "code",
   "execution_count": null,
   "id": "e978ddc4-ec8a-4a13-a0ee-e4a0e8d3273f",
   "metadata": {},
   "outputs": [],
   "source": [
    "pdh_dir = PDHReader(path_to_datasets / \"raw/test/\")\n",
    "list_of_files = pdh_dir.available_files()\n",
    "print(list_of_files)"
   ]
  },
  {
   "cell_type": "markdown",
   "id": "bc70e163-6cb4-450c-9607-f80543425c21",
   "metadata": {},
   "source": [
    "3. Select the desired file either by name or by list index and extract the data as pandas dataframe:"
   ]
  },
  {
   "cell_type": "code",
   "execution_count": null,
   "id": "0a434e04-c1cc-4040-b434-b302624dcbc2",
   "metadata": {},
   "outputs": [],
   "source": [
    "pdh_file = list_of_files[4]\n",
    "raw_dataframe = pdh_dir.extract_data(pdh_file)\n",
    "print(raw_dataframe)"
   ]
  },
  {
   "cell_type": "markdown",
   "id": "720bb673-4e38-4c82-ad05-a5c2f38ddc5e",
   "metadata": {},
   "source": [
    "4. Start building up the AnIML document. Create a new sample with an ID and name and add it to the AnIML object:"
   ]
  },
  {
   "cell_type": "code",
   "execution_count": null,
   "id": "a836d55f-ccc3-4f49-9494-432964050d85",
   "metadata": {},
   "outputs": [],
   "source": [
    "new_sample = Sample(\n",
    "    id=pdh_file.replace(\"%\", \"p\")[:-3],\n",
    "    name=f\"{pdh_file[:4]}/water: x = {pdh_file[6:8]} wt%\"\n",
    ")\n",
    "print(new_sample)"
   ]
  },
  {
   "cell_type": "code",
   "execution_count": null,
   "id": "91a2c84f-1c1d-4a6a-8865-6fdd6bc44c29",
   "metadata": {},
   "outputs": [],
   "source": [
    "animl_doc.add_sample(new_sample)"
   ]
  },
  {
   "cell_type": "markdown",
   "id": "bb3f1dbf-e828-40ec-8f2f-80c67a476173",
   "metadata": {},
   "source": [
    "5. Create an experiment step for the AnIML object, providing it with a name and an ID:"
   ]
  },
  {
   "cell_type": "code",
   "execution_count": null,
   "id": "b1ff1623-1645-4a6b-92d0-067dbdf0ea7c",
   "metadata": {},
   "outputs": [],
   "source": [
    "new_experiment = ExperimentStep(\n",
    "    name=\"Calibration data\",\n",
    "    experiment_step_id=\"CholPal_cal_20220214\"\n",
    ")"
   ]
  },
  {
   "cell_type": "markdown",
   "id": "acd1a2ef-c7ff-4540-a968-a134e247d809",
   "metadata": {},
   "source": [
    "6. Create one or more sample references to samples that were part of this experiment step, providing a sample object (e.g. new_sample), a role, and a purpose:"
   ]
  },
  {
   "cell_type": "markdown",
   "id": "6eff611e-39e6-45c5-9f9e-a979d4b5f992",
   "metadata": {},
   "source": [
    "- Case a) Add to new ExperimentStep:"
   ]
  },
  {
   "cell_type": "code",
   "execution_count": null,
   "id": "f2b7b6c9-84f5-4cd8-8377-73d32cdfa029",
   "metadata": {},
   "outputs": [],
   "source": [
    "new_experiment.add_sample_reference(\n",
    "    sample=new_sample,\n",
    "    role=\"calibration\",\n",
    "    sample_purpose=\"consumed\"\n",
    ")"
   ]
  },
  {
   "cell_type": "markdown",
   "id": "d5b900c6-08f8-4cfa-851f-afb06c424930",
   "metadata": {},
   "source": [
    "- Case b) Add to existing ExperimentStep:"
   ]
  },
  {
   "cell_type": "code",
   "execution_count": null,
   "id": "e7d0cb64-35ee-4553-af6b-03b4d7189e00",
   "metadata": {},
   "outputs": [],
   "source": [
    "animl_doc.experiment_steps.experiment_steps[1].add_sample_reference(\n",
    "    sample=new_sample,\n",
    "    role=\"sample\",\n",
    "    sample_purpose=\"consumed\"\n",
    ")"
   ]
  },
  {
   "cell_type": "markdown",
   "id": "3b271c79-6191-4701-95a5-8dbe1276a5a1",
   "metadata": {},
   "source": [
    "7. If applicable, create the device and/or software on which the sample(s) were measured/analysed and add them to the experiment step object:"
   ]
  },
  {
   "cell_type": "code",
   "execution_count": null,
   "id": "67b5db89-a645-4170-87e7-058ab113dad5",
   "metadata": {},
   "outputs": [],
   "source": [
    "new_author = Author(\n",
    "    user_type=\"human\",\n",
    "    name=\"Selina Itzigehl\",\n",
    "    affiliation=\"University of Stuttgart\",\n",
    "    email=\"selina.itzigehl@ipc.uni-stuttgart.de\"\n",
    ")\n",
    "new_experiment.add_method(new_author)"
   ]
  },
  {
   "cell_type": "code",
   "execution_count": null,
   "id": "2ea3ccd9-c34a-4daa-921d-95e2ceff0cf4",
   "metadata": {},
   "outputs": [],
   "source": [
    "new_device = Device(\n",
    "    manufacturer=\"Anton Parr\",\n",
    "    name=\"SAXSess\"\n",
    ")\n",
    "new_experiment.add_method(new_device)"
   ]
  },
  {
   "cell_type": "code",
   "execution_count": null,
   "id": "322cfdb2-0195-43d6-8237-171b3e0f71d6",
   "metadata": {},
   "outputs": [],
   "source": [
    "new_software = Software(\n",
    "    manufacturer=\"Project Jupyter\",\n",
    "    name=\"JupyterLab\",\n",
    "    version=\"3.2.9\",\n",
    "    operating_system=\"Microsoft Windows 10 Pro 10.0.19044 Build 19044\"\n",
    ")\n",
    "new_experiment.add_method(new_software)"
   ]
  },
  {
   "cell_type": "markdown",
   "id": "cccc81e3-826f-4bfa-b507-f2459d8e1017",
   "metadata": {},
   "source": [
    "8. Create a series for every dimension of data present in the dataframe. The data from the dataframe goes into an IndividualValueSet in form of a list, which is then added to the actual series object, together with a name, ID, the data type, the dependency, and plot scale:"
   ]
  },
  {
   "cell_type": "code",
   "execution_count": null,
   "id": "a715d581-ed4e-4c8b-b728-ff288951a043",
   "metadata": {},
   "outputs": [],
   "source": [
    "new_category = Category(name=\"Measurements\")"
   ]
  },
  {
   "cell_type": "code",
   "execution_count": null,
   "id": "35fd802b-abb2-4a66-9c32-4948f379936e",
   "metadata": {},
   "outputs": [],
   "source": [
    "q_values = IndividualValueSet(\n",
    "    raw_dataframe[\"scattering_vector\"].tolist()\n",
    ")\n",
    "q = Series(\n",
    "    name=\"q\",\n",
    "    id=f\"{pdh_file.replace('%', 'p')[:-3]}_q\",\n",
    "    data=q_values,\n",
    "    data_type=\"float32\",\n",
    "    dependency=\"dependent\",\n",
    "    plot_scale=\"linear\"\n",
    ")\n",
    "i_values = IndividualValueSet(\n",
    "    raw_dataframe[\"counts_per_area\"].tolist()\n",
    ")\n",
    "i = Series(\n",
    "    name=\"I\",\n",
    "    id=f\"{pdh_file.replace('%', 'p')[:-3]}_i\",\n",
    "    data=i_values,\n",
    "    data_type=\"float32\",\n",
    "    dependency=\"dependent\",\n",
    "    plot_scale=\"linear\"\n",
    ")"
   ]
  },
  {
   "cell_type": "markdown",
   "id": "055b280b-ab67-4214-91f8-1597c4c685d1",
   "metadata": {},
   "source": [
    "9. Create one or more sets for series belonging together, provide the set with a name, add it to the category object, and add it to the experiment step object:"
   ]
  },
  {
   "cell_type": "code",
   "execution_count": null,
   "id": "84531967-c9b3-4a25-b6da-95aefe3c0d4d",
   "metadata": {},
   "outputs": [],
   "source": [
    "new_set = SeriesSet(\n",
    "    name=f\"SAXS measurement\",\n",
    "    series=[q, i]\n",
    ")"
   ]
  },
  {
   "cell_type": "markdown",
   "id": "d000fd15-0f61-4d74-b106-5d45bad34ef7",
   "metadata": {},
   "source": [
    "- Case a) Add to new Category and ExperimentStep:"
   ]
  },
  {
   "cell_type": "code",
   "execution_count": null,
   "id": "024a0f1b-516d-48e8-9a54-c0315702e541",
   "metadata": {},
   "outputs": [],
   "source": [
    "new_category.add_content(new_set)"
   ]
  },
  {
   "cell_type": "code",
   "execution_count": null,
   "id": "13271f04-e269-4f6d-8478-2a23c5098be5",
   "metadata": {},
   "outputs": [],
   "source": [
    "new_experiment.add_result(new_category)"
   ]
  },
  {
   "cell_type": "markdown",
   "id": "7b5c32a9-76db-43d7-96be-abc47d39e02e",
   "metadata": {},
   "source": [
    "- Case b) Add to existing Category and ExperimentStep:"
   ]
  },
  {
   "cell_type": "code",
   "execution_count": null,
   "id": "feab3b21-1454-448d-be55-85253338b258",
   "metadata": {},
   "outputs": [],
   "source": [
    "animl_doc.experiment_step_set.experiment_steps[0].result.results[0].add_content(new_set)"
   ]
  },
  {
   "cell_type": "code",
   "execution_count": null,
   "id": "5e817ff3-6b82-490b-8888-acb05f978fef",
   "metadata": {},
   "outputs": [],
   "source": [
    "animl_doc.experiment_step_set.experiment_steps[0].add_result(new_category)"
   ]
  },
  {
   "cell_type": "markdown",
   "id": "86484aa8-4437-4d2d-9be5-081b83f8ccc4",
   "metadata": {},
   "source": [
    "10. Finally, add the now fully built experiment step object to the AnIML object:"
   ]
  },
  {
   "cell_type": "code",
   "execution_count": null,
   "id": "3cc799ea-2f6e-48c0-bad4-d21540bf4bf8",
   "metadata": {},
   "outputs": [],
   "source": [
    "animl_doc.add_experiment_step(new_experiment)"
   ]
  },
  {
   "cell_type": "markdown",
   "id": "07d87a25-ced1-4b93-acd7-aac1441b06a4",
   "metadata": {},
   "source": [
    "11. Create the XML-formatted string from the AnIML object and provide path and desired file name for the actual AnIML document:"
   ]
  },
  {
   "cell_type": "code",
   "execution_count": null,
   "id": "f08f46da-3f9b-416c-b9d9-a2de2877f642",
   "metadata": {},
   "outputs": [],
   "source": [
    "xml_string = animl_doc.toXML()"
   ]
  },
  {
   "cell_type": "code",
   "execution_count": null,
   "id": "4044c05a-4575-4b09-a9fb-acad07e98bf3",
   "metadata": {},
   "outputs": [],
   "source": [
    "path_to_AnIML_file = path_to_datasets / f\"processed/test/fairsaxs_{date_suffix}.animl\""
   ]
  },
  {
   "cell_type": "markdown",
   "id": "44c98062-d078-4fbc-b7d3-5c1ddb59f347",
   "metadata": {},
   "source": [
    "12. Serialize the XML string to the pathlib Path provided:"
   ]
  },
  {
   "cell_type": "code",
   "execution_count": null,
   "id": "38ca123e-d383-45c2-b717-0b48a35b50cd",
   "metadata": {},
   "outputs": [],
   "source": [
    "with path_to_AnIML_file.open(\"w\") as f:\n",
    "    f.write(xml_string)\n",
    "del animl_doc, xml_string\n",
    "print(f\"Successfully created AnIML document.\")"
   ]
  },
  {
   "cell_type": "markdown",
   "id": "1b2f057c-a47d-46ac-9645-7cb65fed5653",
   "metadata": {},
   "source": [
    "#### **Adding to an existing AnIML document** <a class=\"anchor\" name=\"addition\"></a>\n",
    "\n",
    "An existing AnIML document can be converted into an AnIML object in memory and manipulated using the pyAnIML API. This notebook provides an example for a workflow on how to add a sample that has been forgotten to an AnIML document."
   ]
  },
  {
   "cell_type": "markdown",
   "id": "3baa716c-701d-48b6-9f77-dc9479ea0adc",
   "metadata": {},
   "source": [
    "1. Give path to AnIML document to be extended in form of a pathlib Path:"
   ]
  },
  {
   "cell_type": "code",
   "execution_count": null,
   "id": "e16eae28-89ac-4b2a-a6b2-1b34dc8fab4b",
   "metadata": {},
   "outputs": [],
   "source": [
    "path_to_AnIML_file = path_to_datasets / f\"processed/test/fairsaxs_220316.animl\""
   ]
  },
  {
   "cell_type": "markdown",
   "id": "04d27b7c-3e14-49f2-9ca0-8ca4420641c9",
   "metadata": {},
   "source": [
    "2. Read document as string and create AnIML object from it:"
   ]
  },
  {
   "cell_type": "code",
   "execution_count": null,
   "id": "90e37db2-78a7-4a14-a93b-e2c19ab8c05d",
   "metadata": {},
   "outputs": [],
   "source": [
    "with path_to_AnIML_file.open(\"r\") as f:\n",
    "    xml_string = f.read()\n",
    "    animl_doc = AnIMLDocument.fromXMLString(xml_string)"
   ]
  },
  {
   "cell_type": "markdown",
   "id": "01d110d7-e35d-4950-9adf-7de8e7b04701",
   "metadata": {},
   "source": [
    "3. Create the sample object:"
   ]
  },
  {
   "cell_type": "code",
   "execution_count": null,
   "id": "cc5a8627-dabb-488c-b5e9-024eb8f58f26",
   "metadata": {},
   "outputs": [],
   "source": [
    "new_sample = Sample(\n",
    "    id=\"forgotten\",\n",
    "    name=\"Forgotten sample\"\n",
    ")\n",
    "animl_doc.add_sample(new_sample)"
   ]
  },
  {
   "cell_type": "markdown",
   "id": "a200592e-a7b6-4960-8e53-1eb82ac46ec7",
   "metadata": {},
   "source": [
    "4. Create XML-formatted string from the AnIML object:"
   ]
  },
  {
   "cell_type": "code",
   "execution_count": null,
   "id": "85181688-526a-4175-b8e3-d50f568b964f",
   "metadata": {},
   "outputs": [],
   "source": [
    "xml_string = animl_doc.toXML()"
   ]
  },
  {
   "cell_type": "markdown",
   "id": "b8269264-0266-49e7-a784-dc57914850f1",
   "metadata": {},
   "source": [
    "5. Serialize the XML string to the pathlib Path provided before:"
   ]
  },
  {
   "cell_type": "code",
   "execution_count": null,
   "id": "56d0759f-45d6-4671-870d-b84718f6cda0",
   "metadata": {},
   "outputs": [],
   "source": [
    "with path_to_AnIML_file.open(\"w\") as f:\n",
    "    f.write(xml_string)\n",
    "del animl_doc, xml_string\n",
    "print(f\"Successfully created AnIML document.\")"
   ]
  },
  {
   "cell_type": "markdown",
   "id": "4dcc33d8-d6ae-4d45-8a53-74304e9f15e4",
   "metadata": {},
   "source": [
    "#### **Inspecting an AnIML document** <a class=\"anchor\" name=\"inspection\"></a>\n",
    "\n",
    "The following section is entirely optional and can be used to check if the AnIML document was serialized correctly."
   ]
  },
  {
   "cell_type": "markdown",
   "id": "6271ac65-f52d-4d7e-92fe-fb2d129fb35a",
   "metadata": {},
   "source": [
    "1. Give path to the AnIML file as pathlib Path:"
   ]
  },
  {
   "cell_type": "code",
   "execution_count": null,
   "id": "f7eb2182-b5a2-4ce6-be29-d67e22599577",
   "metadata": {},
   "outputs": [],
   "source": [
    "path_to_AnIML_file = path_to_datasets / f\"download/fairsaxs_220316.animl\""
   ]
  },
  {
   "cell_type": "markdown",
   "id": "a1f70cd2-a386-4550-82da-9d7f8f3f8c3a",
   "metadata": {},
   "source": [
    "2. Open the AnIML document, create XML string, print it and delete again:"
   ]
  },
  {
   "cell_type": "code",
   "execution_count": null,
   "id": "2c0ca1e0-4751-45bc-847f-ff5b5c90e78e",
   "metadata": {},
   "outputs": [],
   "source": [
    "with path_to_AnIML_file.open(\"r\") as f:\n",
    "    control_string = f.read()\n",
    "print(control_string)\n",
    "del control_string"
   ]
  },
  {
   "cell_type": "markdown",
   "id": "72381c83-1012-4c4e-898b-f81a3359bb6f",
   "metadata": {
    "tags": []
   },
   "source": [
    "---\n",
    "\n",
    "### **Disclosure** <a class=\"anchor\" name=\"disclosure\"></a>\n",
    "\n",
    "**Contributions**\n",
    "\n",
    "If you wish to contribute to the F.A.I.R. Chemistry project, find us on [GitHub](https://github.com/FAIRChemistry)!\n",
    "\n",
    "**MIT License**\n",
    "\n",
    "Copyright (c) 2022 F.A.I.R. Chemistry\n",
    "\n",
    "Permission is hereby granted, free of charge, to any person obtaining a copy\n",
    "of this software and associated documentation files (the \"Software\"), to deal\n",
    "in the Software without restriction, including without limitation the rights\n",
    "to use, copy, modify, merge, publish, distribute, sublicense, and/or sell\n",
    "copies of the Software, and to permit persons to whom the Software is\n",
    "furnished to do so, subject to the following conditions:\n",
    "\n",
    "The above copyright notice and this permission notice shall be included in all\n",
    "copies or substantial portions of the Software.\n",
    "\n",
    "THE SOFTWARE IS PROVIDED \"AS IS\", WITHOUT WARRANTY OF ANY KIND, EXPRESS OR\n",
    "IMPLIED, INCLUDING BUT NOT LIMITED TO THE WARRANTIES OF MERCHANTABILITY,\n",
    "FITNESS FOR A PARTICULAR PURPOSE AND NONINFRINGEMENT. IN NO EVENT SHALL THE\n",
    "AUTHORS OR COPYRIGHT HOLDERS BE LIABLE FOR ANY CLAIM, DAMAGES OR OTHER\n",
    "LIABILITY, WHETHER IN AN ACTION OF CONTRACT, TORT OR OTHERWISE, ARISING FROM,\n",
    "OUT OF OR IN CONNECTION WITH THE SOFTWARE OR THE USE OR OTHER DEALINGS IN THE\n",
    "SOFTWARE."
   ]
  },
  {
   "cell_type": "code",
   "execution_count": null,
   "id": "e3abdefa-67fb-44ba-9081-794d4a1fc969",
   "metadata": {},
   "outputs": [],
   "source": []
  }
 ],
 "metadata": {
  "kernelspec": {
   "display_name": "Python [conda env:fairsaxs]",
   "language": "python",
   "name": "conda-env-fairsaxs-py"
  },
  "language_info": {
   "codemirror_mode": {
    "name": "ipython",
    "version": 3
   },
   "file_extension": ".py",
   "mimetype": "text/x-python",
   "name": "python",
   "nbconvert_exporter": "python",
   "pygments_lexer": "ipython3",
   "version": "3.10.0"
  }
 },
 "nbformat": 4,
 "nbformat_minor": 5
}
