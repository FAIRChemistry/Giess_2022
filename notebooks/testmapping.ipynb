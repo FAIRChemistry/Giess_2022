{
 "cells": [
  {
   "cell_type": "markdown",
   "id": "f7446ba1-17e4-4739-ac99-b432de636184",
   "metadata": {},
   "source": [
    "### Test notebook for mapping PDH <-> SAXS-datamodel <-> AnIML\n",
    "#### This notebook is used for development purposes only\n",
    "\n",
    "> author: Torsten Giess<br>\n",
    "> last edited: 09.12.2021"
   ]
  },
  {
   "cell_type": "markdown",
   "id": "e1486832-f315-4e60-8186-e1f507a4ee28",
   "metadata": {},
   "source": [
    "---\n",
    "**do all them schwifty imports**"
   ]
  },
  {
   "cell_type": "code",
   "execution_count": null,
   "id": "c6722adb-874b-4379-8677-52651086b526",
   "metadata": {},
   "outputs": [],
   "source": []
  }
 ],
 "metadata": {
  "kernelspec": {
   "display_name": "inf03",
   "language": "python",
   "name": "inf03"
  },
  "language_info": {
   "codemirror_mode": {
    "name": "ipython",
    "version": 3
   },
   "file_extension": ".py",
   "mimetype": "text/x-python",
   "name": "python",
   "nbconvert_exporter": "python",
   "pygments_lexer": "ipython3",
   "version": "3.9.7"
  }
 },
 "nbformat": 4,
 "nbformat_minor": 5
}
