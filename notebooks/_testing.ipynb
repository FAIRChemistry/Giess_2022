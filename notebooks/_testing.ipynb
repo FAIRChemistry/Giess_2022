{
 "cells": [
  {
   "cell_type": "code",
   "execution_count": null,
   "id": "1aef67ce-55f4-4de9-9026-f70d3be41e45",
   "metadata": {},
   "outputs": [],
   "source": []
  }
 ],
 "metadata": {
  "kernelspec": {
   "display_name": "inf03",
   "language": "python",
   "name": "inf03"
  },
  "language_info": {
   "codemirror_mode": {
    "name": "ipython",
    "version": 3
   },
   "file_extension": ".py",
   "mimetype": "text/x-python",
   "name": "python",
   "nbconvert_exporter": "python",
   "pygments_lexer": "ipython3",
   "version": "3.9.7"
  }
 },
 "nbformat": 4,
 "nbformat_minor": 5
}
