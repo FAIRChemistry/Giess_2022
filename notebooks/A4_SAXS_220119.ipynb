{
 "cells": [
  {
   "cell_type": "markdown",
   "id": "fbeefa65-fac1-47a2-aba6-8fb7a1453668",
   "metadata": {
    "tags": []
   },
   "source": [
    "\n",
    "# F.A.I.R. data management in CRC 1333  \n",
    "## A4: SAXS workflow with AnIML\n",
    "\n",
    "---\n",
    "\n",
    "> Authors: Torsten Giess, Selina Itzigehl, Jan Range  \n",
    "> Last modified: 20.01.2022\n"
   ]
  },
  {
   "cell_type": "markdown",
   "id": "42cfca8c-cdf0-44e7-b99b-452f394c0021",
   "metadata": {
    "tags": []
   },
   "source": [
    "### **Abstract** <a class=\"anchor\" name=\"abstract\"></a>\n",
    "\n",
    "Lorem ipsum dolor sit amet, consectetur adipiscing elit. Integer fringilla justo sed dignissim mattis. Donec nec velit metus. Praesent eget egestas purus. Maecenas congue neque ut magna imperdiet, at ornare nunc iaculis. Vestibulum rhoncus dictum elit non scelerisque. Maecenas sagittis purus ac libero ornare aliquet. Donec nec volutpat justo. Mauris vel massa egestas, imperdiet orci sed, ultricies massa. Sed ornare tempus mi, id tristique lorem elementum eu. Nulla maximus, sapien imperdiet suscipit lobortis, ante sem sodales libero, vitae cursus leo nisi eget dui. Suspendisse potenti. Mauris a magna rutrum libero blandit feugiat. Vestibulum ante ipsum primis in faucibus orci luctus et ultrices posuere cubilia curae; In convallis semper lectus at consequat. Phasellus efficitur fringilla congue. Vestibulum finibus eget augue sit amet interdum."
   ]
  },
  {
   "cell_type": "markdown",
   "id": "826611a3-1622-468a-a298-90d75e39419e",
   "metadata": {},
   "source": [
    "### **Table of Contents** <a class=\"anchor\" name=\"table_of_contents\"></a>\n",
    "\n",
    "- [Abstract](#abstract)\n",
    "- [1&nbsp;&nbsp; Introduction](#introduction)\n",
    "- [2&nbsp;&nbsp; Workflow](#workflow)\n",
    "    - [2.1&nbsp;&nbsp; User guide](#user_guide)\n",
    "    - [2.2&nbsp;&nbsp; Preparation](#preparation)\n",
    "    - [2.3&nbsp;&nbsp; Conversion to AnIML](#conversion)\n",
    "    - [2.4&nbsp;&nbsp; Upload preliminary AnIML document to DaRUS](#todarus)\n",
    "    - [2.5&nbsp;&nbsp; Download preliminary AnIML document from DaRUS](#fromdarus)\n",
    "    - [2.6&nbsp;&nbsp; Read data from preliminary AnIML document](#read)\n",
    "    - [2.7&nbsp;&nbsp; Spectral analysis](#analysis)\n",
    "    - [2.8&nbsp;&nbsp; Results](#results)\n",
    "    - [2.9&nbsp;&nbsp; Visualisation](#visualisation)\n",
    "    - [2.10&nbsp;&nbsp; Add analysis and results to final AnIML document](#add)\n",
    "    - [2.11&nbsp;&nbsp; Create OMEX archive](#omex)\n",
    "    - [2.12&nbsp;&nbsp; Upload final archive to DaRUS](#upload)\n",
    "- [3&nbsp;&nbsp; Discussion](#discussion)\n",
    "- [4&nbsp;&nbsp; Outlook](#outlook)\n",
    "- [Bibliography](#bibliography)"
   ]
  },
  {
   "cell_type": "markdown",
   "id": "2e1b936b-fedb-4273-a79b-81234db56746",
   "metadata": {},
   "source": [
    "---\n",
    "### **1&nbsp;&nbsp; Introduction** <a class=\"anchor\" name=\"introduction\"></a>\n",
    "\n",
    "Lorem ipsum dolor sit amet, consectetur adipiscing elit. Nulla dictum tincidunt ex a semper. Aenean pulvinar risus eget tortor porta malesuada. Praesent id consectetur tellus. Sed eget libero risus. Donec et efficitur enim, ornare pellentesque ante. Lorem ipsum dolor sit amet, consectetur adipiscing elit. Cras gravida arcu eget ipsum aliquam maximus. Donec consectetur tempus interdum. Aliquam ante ligula, ornare vel dui vel, finibus sagittis augue. Donec lacus velit, posuere et feugiat sed, placerat ac nibh. Praesent cursus felis sed gravida elementum. Maecenas non diam sem. Suspendisse sed erat semper, tincidunt turpis in, venenatis mi.\n",
    "\n",
    "Nullam ac suscipit tellus. Vivamus blandit quis nisi in luctus. Fusce elementum vel est vitae fringilla. Duis gravida iaculis lacinia. Proin accumsan est et nibh tincidunt, id varius arcu sagittis. Integer at nibh dolor. Donec nec scelerisque nulla. Suspendisse lobortis turpis ipsum, eget volutpat tortor dapibus quis. Curabitur et mi turpis. "
   ]
  },
  {
   "cell_type": "markdown",
   "id": "60c58afb-be46-4bba-98de-1e0056cedcbc",
   "metadata": {
    "tags": []
   },
   "source": [
    "---\n",
    "### **2&nbsp;&nbsp; Workflow** <a class=\"anchor\" name=\"workflow\"></a>"
   ]
  },
  {
   "cell_type": "markdown",
   "id": "9b150874-9ae7-4a0d-9729-bae61efa4e58",
   "metadata": {},
   "source": [
    "#### **2.1&nbsp;&nbsp; User guide** <a class=\"anchor\" name=\"user_guide\"></a>\n",
    "\n",
    "Lorem ipsum dolor sit amet, consectetur adipiscing elit. Ut vitae turpis blandit, fringilla tortor eget, finibus mauris. In quis diam sit amet tellus tempor pretium. Vivamus at mauris posuere, hendrerit nisl at, porttitor ex. Nunc eu dui eu purus tempus tempus non nec ipsum. Phasellus viverra id enim at consequat. Class aptent taciti sociosqu ad litora torquent per conubia nostra, per inceptos himenaeos. Nunc id quam purus. Maecenas bibendum eleifend aliquam. Integer fringilla ipsum eget consequat porta. Orci varius natoque penatibus et magnis dis parturient montes, nascetur ridiculus mus. Donec eleifend lacus eleifend magna auctor, eget finibus ipsum consectetur. Vestibulum ante ipsum primis in faucibus orci luctus et ultrices posuere cubilia curae."
   ]
  },
  {
   "cell_type": "markdown",
   "id": "5333db32-c7ce-4150-b2e5-7e4ac01939b2",
   "metadata": {
    "tags": []
   },
   "source": [
    "#### **2.2&nbsp;&nbsp; Preparation** <a class=\"anchor\" name=\"preparation\"></a>\n",
    "\n",
    "Let us start with the imports of the various Python packages needed!"
   ]
  },
  {
   "cell_type": "code",
   "execution_count": 1,
   "id": "dceb8959-af26-4b18-bd57-e44a5f3bc284",
   "metadata": {},
   "outputs": [
    {
     "name": "stdout",
     "output_type": "stream",
     "text": [
      "Importing native packages.\n",
      "Done.\n"
     ]
    }
   ],
   "source": [
    "print(\"Importing native packages.\")\n",
    "import os\n",
    "from datetime import date\n",
    "from pathlib import Path\n",
    "print (\"Done.\")"
   ]
  },
  {
   "cell_type": "code",
   "execution_count": 2,
   "id": "f90e2de1-a82f-4684-a20d-e074fb9aafaf",
   "metadata": {},
   "outputs": [
    {
     "name": "stdout",
     "output_type": "stream",
     "text": [
      "Importing PyPI packages.\n",
      "Done.\n"
     ]
    }
   ],
   "source": [
    "print(\"Importing PyPI packages.\")\n",
    "from lxml import etree\n",
    "from pyaniml import AnIMLDocument, Sample, Series, ExperimentStep, Device, IndividualValueSet, SeriesSet, Parameter, Category\n",
    "from pyDaRUS import Citation, Process, Dataset\n",
    "from pyDaRUS.metadatablocks.citation import SubjectEnum, IdentifierScheme\n",
    "print (\"Done.\")"
   ]
  },
  {
   "cell_type": "code",
   "execution_count": 3,
   "id": "8f152d85-6805-4a59-9418-c87e26721f2b",
   "metadata": {},
   "outputs": [
    {
     "name": "stdout",
     "output_type": "stream",
     "text": [
      "Importing local packages.\n",
      "Done.\n"
     ]
    }
   ],
   "source": [
    "print(\"Importing local packages.\")\n",
    "from modules.saxslicer import SAXSlicer\n",
    "from modules.helperv2 import DataFromAnIML, SpectralAnalysis, Results, Visualisation\n",
    "from modules.omexwriter import OMEXWriter, OMEXVCard\n",
    "print(\"Done.\")"
   ]
  },
  {
   "cell_type": "markdown",
   "id": "d390bb6f-987f-4318-865c-70d394c9b452",
   "metadata": {},
   "source": [
    "Here we create some needed references, namely the environment variables for the upload to DaRUS, a file suffix with the short form of the current data, and some Windows path objects we will need for file handling. Here they are all neatly in one place and easy to find."
   ]
  },
  {
   "cell_type": "code",
   "execution_count": 4,
   "id": "5b8596d6-5951-4a8c-9fd4-9c53b5ad699c",
   "metadata": {},
   "outputs": [],
   "source": [
    "os.environ[\"DATAVERSE_URL\"] = \"https://darus.uni-stuttgart.de/\"\n",
    "os.environ[\"DATAVERSE_API_TOKEN\"] = \"4bd02020-b0b6-4e39-8ef4-23f73ffec1ee\""
   ]
  },
  {
   "cell_type": "code",
   "execution_count": 5,
   "id": "df0a655f-5c91-49d9-91a2-0b5f8be4016e",
   "metadata": {},
   "outputs": [],
   "source": [
    "date_suffix = str(date.today()).replace(\"-\", \"\")[2:]"
   ]
  },
  {
   "cell_type": "code",
   "execution_count": 6,
   "id": "e1b7a3bb-02ca-448e-91f3-66c9f6d75737",
   "metadata": {},
   "outputs": [],
   "source": [
    "CWD = Path.cwd()\n",
    "PATH_TO_RAW = Path(CWD / \"./datasets/raw/\")\n",
    "PATH_TO_PROCESSED = Path(CWD / \"./datasets/processed/\")\n",
    "PATH_TO_OMEX = Path(CWD / \"./datasets/omex/\")"
   ]
  },
  {
   "cell_type": "markdown",
   "id": "efee0b05-2599-4aff-9343-30ae2806b2f6",
   "metadata": {
    "tags": []
   },
   "source": [
    "#### **2.3&nbsp;&nbsp; Conversion to AnIML** <a class=\"anchor\" name=\"conversion\"></a>\n",
    "\n",
    "Using our very own `pyaniml` package, we create an AnIML document, extract the raw data from PDH files with a small *ad hoc* feature called `SAXSlicer` and then we build the AnIML document step by step by creating the respective Python objects required."
   ]
  },
  {
   "cell_type": "code",
   "execution_count": 7,
   "id": "9495e011-8b28-4fa5-9ace-e86b900853b1",
   "metadata": {},
   "outputs": [],
   "source": [
    "animl_doc = AnIMLDocument()"
   ]
  },
  {
   "cell_type": "markdown",
   "id": "e3548e8f-71e7-41b9-9173-6d10fc5953fe",
   "metadata": {},
   "source": [
    "First, we handle the calibration measurement:"
   ]
  },
  {
   "cell_type": "code",
   "execution_count": 8,
   "id": "1ed2d251-07c9-44fc-84f0-5e05446d014c",
   "metadata": {},
   "outputs": [
    {
     "name": "stdout",
     "output_type": "stream",
     "text": [
      "Loading metadata from existing file: C:\\Users\\ac138949\\Documents\\GitHub\\SAXS-workflow\\notebooks\\datasets\\processed\\CholPal_metadata.xml.\n"
     ]
    }
   ],
   "source": [
    "calibration_raw = SAXSlicer(str(PATH_TO_RAW / \"CholPal_210713[7]1.pdh\"))\n",
    "calibration_data = calibration_raw.extract_data()\n",
    "calibration_metadata = calibration_raw.extract_metadata(str(PATH_TO_PROCESSED / \"CholPal_metadata.xml\"))"
   ]
  },
  {
   "cell_type": "code",
   "execution_count": 9,
   "id": "b91f3dee-aed8-4f71-adcc-ee14b7d0ac07",
   "metadata": {},
   "outputs": [],
   "source": [
    "calibration_sample = Sample(\n",
    "    id=\"calibration\",\n",
    "    name=\"Cholesteryl palmitate\"\n",
    ")\n",
    "animl_doc.add_sample(calibration_sample)\n",
    "calibration_experiment = ExperimentStep(\n",
    "    name=\"calibration measurement\",\n",
    "    experiment_step_id=\"step00\"\n",
    ")\n",
    "calibration_experiment.add_sample_reference(\n",
    "    sample=calibration_sample,\n",
    "    role=\"measured\",\n",
    "    sample_purpose=\"destroyed\"\n",
    ")\n",
    "calibration_device = Device(\n",
    "    name=\"Anton Parr SAXSess\",\n",
    "    firmware_version=\"\",\n",
    "    serial_number=\"\"\n",
    ")\n",
    "calibration_experiment.add_method(calibration_device)\n",
    "calibration_q_values = IndividualValueSet(\n",
    "    calibration_data[\"scattering_vector\"].tolist()\n",
    ")\n",
    "calibration_q = Series(\n",
    "    name=\"scattering vector\",\n",
    "    id=\"cal_q\",\n",
    "    data=calibration_q_values,\n",
    "    data_type=\"float32\",\n",
    "    dependency=\"dependent\",\n",
    "    plot_scale=\"none\"\n",
    ")\n",
    "calibration_i_values = IndividualValueSet(\n",
    "    calibration_data[\"counts_per_area\"].tolist()\n",
    ")\n",
    "calibration_i = Series(\n",
    "    name=\"counts per area\",\n",
    "    id=\"cal_i\",\n",
    "    data=calibration_i_values,\n",
    "    data_type=\"float32\",\n",
    "    dependency=\"dependent\",\n",
    "    plot_scale=\"none\"\n",
    ")\n",
    "calibration_set = SeriesSet(\n",
    "    name=\"1D SAXS\",\n",
    "    series=[calibration_q, calibration_i]\n",
    ")\n",
    "calibration_experiment.add_result(calibration_set)\n",
    "animl_doc.add_experiment_step(calibration_experiment)"
   ]
  },
  {
   "cell_type": "markdown",
   "id": "409f8048-90bc-472a-85c5-7ca557f6fe2b",
   "metadata": {},
   "source": [
    "Then we handle the sample measurement:"
   ]
  },
  {
   "cell_type": "code",
   "execution_count": 10,
   "id": "c143aeca-f038-4d7c-acdb-12094a30499c",
   "metadata": {},
   "outputs": [
    {
     "name": "stdout",
     "output_type": "stream",
     "text": [
      "Loading metadata from existing file: C:\\Users\\ac138949\\Documents\\GitHub\\SAXS-workflow\\notebooks\\datasets\\processed\\SI06_210623_metadata.xml.\n"
     ]
    }
   ],
   "source": [
    "sample_file = SAXSlicer(str(PATH_TO_RAW / \"SI06_210623[7].pdh\"))\n",
    "sample_data = sample_file.extract_data()\n",
    "sample_metadata = sample_file.extract_metadata(str(PATH_TO_PROCESSED / \"SI06_210623_metadata.xml\"))"
   ]
  },
  {
   "cell_type": "code",
   "execution_count": 11,
   "id": "8e2eeb79-a130-4fd7-ab6d-372dbced20a2",
   "metadata": {},
   "outputs": [],
   "source": [
    "sample_sample = Sample(\n",
    "    id=\"sample\",\n",
    "    name=\"SI06_210623\"\n",
    ")\n",
    "animl_doc.add_sample(sample_sample)\n",
    "sample_experiment = ExperimentStep(\n",
    "    name=\"sample measurement\",\n",
    "    experiment_step_id=\"step01\"\n",
    ")\n",
    "sample_experiment.add_sample_reference(\n",
    "    sample=sample_sample,\n",
    "    role=\"measured\",\n",
    "    sample_purpose=\"destroyed\"\n",
    ")\n",
    "sample_device = Device(\n",
    "    name=\"Anton Parr SAXSess\",\n",
    "    firmware_version=\"\",\n",
    "    serial_number=\"\"\n",
    ")\n",
    "sample_experiment.add_method(sample_device)\n",
    "sample_q_values = IndividualValueSet(\n",
    "    sample_data[\"scattering_vector\"].tolist()\n",
    ")\n",
    "sample_q = Series(\n",
    "    name=\"scattering vector\",\n",
    "    id=\"sam_q\",\n",
    "    data=sample_q_values,\n",
    "    data_type=\"float32\",\n",
    "    dependency=\"dependent\",\n",
    "    plot_scale=\"none\"\n",
    ")\n",
    "sample_i_values = IndividualValueSet(\n",
    "    sample_data[\"counts_per_area\"].tolist()\n",
    ")\n",
    "sample_i = Series(\n",
    "    name=\"counts per area\",\n",
    "    id=\"sam_i\",\n",
    "    data=sample_i_values,\n",
    "    data_type=\"float32\",\n",
    "    dependency=\"dependent\",\n",
    "    plot_scale=\"none\"\n",
    ")\n",
    "sample_set = SeriesSet(\n",
    "    name=\"1D SAXS\",\n",
    "    series=[sample_q, sample_i]\n",
    ")\n",
    "sample_experiment.add_result(sample_set)\n",
    "animl_doc.add_experiment_step(sample_experiment)"
   ]
  },
  {
   "cell_type": "markdown",
   "id": "e7c5d794-16f6-489c-b7dc-79c90d307437",
   "metadata": {},
   "source": [
    "Serializing the AnIML document to an XML string and finally saving it to the actual *.animl* file:"
   ]
  },
  {
   "cell_type": "code",
   "execution_count": 12,
   "id": "338fd74d-e746-42b8-bb11-5ef5c5fb3524",
   "metadata": {},
   "outputs": [],
   "source": [
    "xml_string = animl_doc.toXML()"
   ]
  },
  {
   "cell_type": "code",
   "execution_count": 13,
   "id": "01f5b16d-3295-4fbd-9dd8-ba2a9321e097",
   "metadata": {},
   "outputs": [],
   "source": [
    "path_to_AnIML_file = Path(PATH_TO_PROCESSED / f\"A4_SAXS_{date_suffix}.animl\")"
   ]
  },
  {
   "cell_type": "code",
   "execution_count": 14,
   "id": "7b5a24b8-f624-4164-8e10-305937b04d06",
   "metadata": {},
   "outputs": [
    {
     "name": "stdout",
     "output_type": "stream",
     "text": [
      "Successfully converted and saved PDH to AnIML.\n"
     ]
    }
   ],
   "source": [
    "with path_to_AnIML_file.open(\"w\") as wf:\n",
    "    wf.write(xml_string)\n",
    "del animl_doc\n",
    "print(f\"Successfully converted and saved PDH to AnIML.\")"
   ]
  },
  {
   "cell_type": "markdown",
   "id": "41663749",
   "metadata": {},
   "source": [
    "#### **2.4&nbsp;&nbsp; Upload preliminary AnIML document to DaRUS** <a class=\"anchor\" name=\"DaRUS1\"></a>\n",
    "\n",
    "Using `pyDaRUS`, we can access our Dataverse installation directly from our notebook using simple and easily understandable syntax. First we add the required metadata block (consisting at least of titel, auhor, contact, description, and subject), then we upload to DaRUS and finally we download the metadata block again to see if everything turned out alright."
   ]
  },
  {
   "cell_type": "code",
   "execution_count": 15,
   "id": "f64cb5d8-6c8a-454b-b10a-111d728f2487",
   "metadata": {},
   "outputs": [],
   "source": [
    "cit_preliminary = Citation(title=f\"A4 SAXS preliminary {date.today()}\")\n",
    "proc_preliminary = Process()"
   ]
  },
  {
   "cell_type": "code",
   "execution_count": 16,
   "id": "1e9ce5bf-0068-457f-8cb2-38e01c2ac7a8",
   "metadata": {},
   "outputs": [],
   "source": [
    "cit_preliminary.add_author(\"Giess, Torsten\", \"University of Stuttgart\", IdentifierScheme.orcid, \"0000-0002-8512-8606\")\n",
    "cit_preliminary.add_author(\"Itzigehl, Selina\", \"University of Stuttgart\")\n",
    "cit_preliminary.add_author(\"Range, Jan\", \"University of Stuttgart\", IdentifierScheme.orcid, \"0000-0001-6478-1051\")\n",
    "cit_preliminary.add_contact(\"Giess, Torsten\", \"University of Stuttgart\", \"torsten.giess@ibtb.uni-stuttgart.de\")\n",
    "cit_preliminary.add_description(\"Test upload of the preliminary A4 SAXS AnIML document.\", f\"{date.today()}\")\n",
    "cit_preliminary.subject = [SubjectEnum.chemistry]\n",
    "\n",
    "proc_preliminary.add_processing_methods(\"SAXS\", \"1D SAXS Experiment\", \"q, I\")\n",
    "proc_preliminary.add_method_parameters(\"scattering vector\", \"q\")\n",
    "proc_preliminary.add_method_parameters(\"counts per area\", \"I\")\n",
    "proc_preliminary.add_software(name=\"Jupyter Notebook\", version=\"2022-01-11\", url=\"https://github.com/FAIRChemistry/SAXS-workflow\", license=\"BSD-3\")\n",
    "proc_preliminary.add_instruments(name=\"Anton Parr SAXSess\", software=\"SAXSQuant\", location=\"IPC\")"
   ]
  },
  {
   "cell_type": "code",
   "execution_count": 17,
   "id": "ae62e9f5-2e20-4a38-917d-e686f40f2669",
   "metadata": {},
   "outputs": [],
   "source": [
    "dataset_preliminary = Dataset()\n",
    "dataset_preliminary.add_metadatablock(cit_preliminary)\n",
    "dataset_preliminary.add_metadatablock(proc_preliminary)"
   ]
  },
  {
   "cell_type": "code",
   "execution_count": 18,
   "id": "4ee04ba9-f5b0-402b-8c83-a6184c12fc58",
   "metadata": {},
   "outputs": [],
   "source": [
    "# dataset_doi_preliminary = dataset_preliminary.upload(\"torsten_playground\", filenames=[str(PATH_TO_PROCESSED / f\"A4_SAXS_{date_suffix}.animl\")])\n",
    "dataset_doi_preliminary = \"doi:10.18419/darus-2454\""
   ]
  },
  {
   "cell_type": "markdown",
   "id": "598a2c80-9fc6-4149-aab5-d9aa614741c8",
   "metadata": {},
   "source": [
    "#### ***2.5&nbsp;&nbsp; Download preliminary AnIML document from DaRUS*** <a class=\"anchor\" name=\"DaRUS2\"></a>\n",
    "\n",
    "**Currently still pending**, as the feature for downloading files is still in development.  \n",
    "Let's take a look at the uploaded metadata block instead."
   ]
  },
  {
   "cell_type": "code",
   "execution_count": 19,
   "id": "89c62723-01ef-4767-9cab-55ede2f2a392",
   "metadata": {},
   "outputs": [
    {
     "name": "stdout",
     "output_type": "stream",
     "text": [
      "{\n",
      "  \"metadatablocks\": {\n",
      "    \"citation\": {\n",
      "      \"title\": \"A4 SAXS preliminary 2022-01-20\",\n",
      "      \"subtitle\": null,\n",
      "      \"alternative_title\": null,\n",
      "      \"alternative_url\": null,\n",
      "      \"subject\": [\n",
      "        \"Chemistry\"\n",
      "      ],\n",
      "      \"notes\": null,\n",
      "      \"language\": null,\n",
      "      \"production_date\": null,\n",
      "      \"production_place\": null,\n",
      "      \"distribution_date\": null,\n",
      "      \"depositor\": null,\n",
      "      \"deposit_date\": null,\n",
      "      \"kind_of_data\": null,\n",
      "      \"related_material\": null,\n",
      "      \"related_datasets\": null,\n",
      "      \"other_references\": null,\n",
      "      \"data_sources\": null,\n",
      "      \"origin_of_sources\": null,\n",
      "      \"characteristic_of_sources_noted\": null,\n",
      "      \"documentation_and_access_to_sources\": null,\n",
      "      \"did_it_work\": null,\n",
      "      \"explanation\": null,\n",
      "      \"author\": [\n",
      "        {\n",
      "          \"name\": \"Giess, Torsten\",\n",
      "          \"affiliation\": \"University of Stuttgart\",\n",
      "          \"identifier_scheme\": \"ORCID\",\n",
      "          \"identifier\": \"0000-0002-8512-8606\"\n",
      "        },\n",
      "        {\n",
      "          \"name\": \"Itzigehl, Selina\",\n",
      "          \"affiliation\": \"University of Stuttgart\",\n",
      "          \"identifier_scheme\": null,\n",
      "          \"identifier\": null\n",
      "        },\n",
      "        {\n",
      "          \"name\": \"Range, Jan\",\n",
      "          \"affiliation\": \"University of Stuttgart\",\n",
      "          \"identifier_scheme\": \"ORCID\",\n",
      "          \"identifier\": \"0000-0001-6478-1051\"\n",
      "        }\n",
      "      ],\n",
      "      \"contact\": [\n",
      "        {\n",
      "          \"name\": \"Giess, Torsten\",\n",
      "          \"affiliation\": \"University of Stuttgart\",\n",
      "          \"email\": null\n",
      "        }\n",
      "      ],\n",
      "      \"description\": [\n",
      "        {\n",
      "          \"text\": \"Test upload of the preliminary A4 SAXS AnIML document.\",\n",
      "          \"date\": \"2022-01-20\"\n",
      "        }\n",
      "      ]\n",
      "    },\n",
      "    \"process\": {\n",
      "      \"software\": [\n",
      "        {\n",
      "          \"name\": \"Jupyter Notebook\",\n",
      "          \"version\": \"2022-01-11\",\n",
      "          \"id_type\": null,\n",
      "          \"id_number\": null,\n",
      "          \"citation\": null,\n",
      "          \"url\": \"https://github.com/FAIRChemistry/SAXS-workflow\",\n",
      "          \"license\": \"BSD-3\"\n",
      "        }\n",
      "      ],\n",
      "      \"instruments\": [\n",
      "        {\n",
      "          \"name\": \"Anton Parr SAXSess\",\n",
      "          \"description\": null,\n",
      "          \"version\": null,\n",
      "          \"part_number\": null,\n",
      "          \"serial_number\": null,\n",
      "          \"software\": \"SAXSQuant\",\n",
      "          \"location\": \"IPC\"\n",
      "        }\n",
      "      ],\n",
      "      \"processing_methods\": [\n",
      "        {\n",
      "          \"name\": \"SAXS\",\n",
      "          \"description\": \"1D SAXS Experiment\",\n",
      "          \"parameters\": \"q, I\"\n",
      "        }\n",
      "      ],\n",
      "      \"method_parameters\": [\n",
      "        {\n",
      "          \"name\": \"scattering vector\",\n",
      "          \"symbol\": \"q\",\n",
      "          \"unit\": null,\n",
      "          \"value\": null,\n",
      "          \"textual_value\": null\n",
      "        },\n",
      "        {\n",
      "          \"name\": \"counts per area\",\n",
      "          \"symbol\": \"I\",\n",
      "          \"unit\": null,\n",
      "          \"value\": null,\n",
      "          \"textual_value\": null\n",
      "        }\n",
      "      ]\n",
      "    }\n",
      "  },\n",
      "  \"p_id\": \"doi:10.18419/darus-2454\",\n",
      "  \"citation\": {\n",
      "    \"title\": \"A4 SAXS preliminary 2022-01-20\",\n",
      "    \"subtitle\": null,\n",
      "    \"alternative_title\": null,\n",
      "    \"alternative_url\": null,\n",
      "    \"subject\": [\n",
      "      \"Chemistry\"\n",
      "    ],\n",
      "    \"notes\": null,\n",
      "    \"language\": null,\n",
      "    \"production_date\": null,\n",
      "    \"production_place\": null,\n",
      "    \"distribution_date\": null,\n",
      "    \"depositor\": null,\n",
      "    \"deposit_date\": null,\n",
      "    \"kind_of_data\": null,\n",
      "    \"related_material\": null,\n",
      "    \"related_datasets\": null,\n",
      "    \"other_references\": null,\n",
      "    \"data_sources\": null,\n",
      "    \"origin_of_sources\": null,\n",
      "    \"characteristic_of_sources_noted\": null,\n",
      "    \"documentation_and_access_to_sources\": null,\n",
      "    \"did_it_work\": null,\n",
      "    \"explanation\": null,\n",
      "    \"author\": [\n",
      "      {\n",
      "        \"name\": \"Giess, Torsten\",\n",
      "        \"affiliation\": \"University of Stuttgart\",\n",
      "        \"identifier_scheme\": \"ORCID\",\n",
      "        \"identifier\": \"0000-0002-8512-8606\"\n",
      "      },\n",
      "      {\n",
      "        \"name\": \"Itzigehl, Selina\",\n",
      "        \"affiliation\": \"University of Stuttgart\",\n",
      "        \"identifier_scheme\": null,\n",
      "        \"identifier\": null\n",
      "      },\n",
      "      {\n",
      "        \"name\": \"Range, Jan\",\n",
      "        \"affiliation\": \"University of Stuttgart\",\n",
      "        \"identifier_scheme\": \"ORCID\",\n",
      "        \"identifier\": \"0000-0001-6478-1051\"\n",
      "      }\n",
      "    ],\n",
      "    \"contact\": [\n",
      "      {\n",
      "        \"name\": \"Giess, Torsten\",\n",
      "        \"affiliation\": \"University of Stuttgart\",\n",
      "        \"email\": null\n",
      "      }\n",
      "    ],\n",
      "    \"description\": [\n",
      "      {\n",
      "        \"text\": \"Test upload of the preliminary A4 SAXS AnIML document.\",\n",
      "        \"date\": \"2022-01-20\"\n",
      "      }\n",
      "    ]\n",
      "  },\n",
      "  \"process\": {\n",
      "    \"software\": [\n",
      "      {\n",
      "        \"name\": \"Jupyter Notebook\",\n",
      "        \"version\": \"2022-01-11\",\n",
      "        \"id_type\": null,\n",
      "        \"id_number\": null,\n",
      "        \"citation\": null,\n",
      "        \"url\": \"https://github.com/FAIRChemistry/SAXS-workflow\",\n",
      "        \"license\": \"BSD-3\"\n",
      "      }\n",
      "    ],\n",
      "    \"instruments\": [\n",
      "      {\n",
      "        \"name\": \"Anton Parr SAXSess\",\n",
      "        \"description\": null,\n",
      "        \"version\": null,\n",
      "        \"part_number\": null,\n",
      "        \"serial_number\": null,\n",
      "        \"software\": \"SAXSQuant\",\n",
      "        \"location\": \"IPC\"\n",
      "      }\n",
      "    ],\n",
      "    \"processing_methods\": [\n",
      "      {\n",
      "        \"name\": \"SAXS\",\n",
      "        \"description\": \"1D SAXS Experiment\",\n",
      "        \"parameters\": \"q, I\"\n",
      "      }\n",
      "    ],\n",
      "    \"method_parameters\": [\n",
      "      {\n",
      "        \"name\": \"scattering vector\",\n",
      "        \"symbol\": \"q\",\n",
      "        \"unit\": null,\n",
      "        \"value\": null,\n",
      "        \"textual_value\": null\n",
      "      },\n",
      "      {\n",
      "        \"name\": \"counts per area\",\n",
      "        \"symbol\": \"I\",\n",
      "        \"unit\": null,\n",
      "        \"value\": null,\n",
      "        \"textual_value\": null\n",
      "      }\n",
      "    ]\n",
      "  }\n",
      "}\n"
     ]
    }
   ],
   "source": [
    "dataset_preliminary_metadata_block = Dataset.from_dataverse_doi(dataset_doi_preliminary)\n",
    "print(dataset_preliminary_metadata_block.json(indent=2))"
   ]
  },
  {
   "cell_type": "markdown",
   "id": "077ef4e3-0a94-4c99-94c7-383748725279",
   "metadata": {},
   "source": [
    "#### **2.6&nbsp;&nbsp; Read data from preliminary AnIML document** <a class=\"anchor\" name=\"read\"></a>\n",
    "\n",
    "As the download feature is still in development, the AnIML document is curently loaded from local source, not from DaRUS.  \n",
    "Also AnIML is currently still read via `lxml.etree`, which is depracated as `pyaniml` also provides the means to read AnIML. Will be implemented soon!"
   ]
  },
  {
   "cell_type": "code",
   "execution_count": 20,
   "id": "d7ba0a82-381b-461b-bcba-db21eaeda288",
   "metadata": {},
   "outputs": [],
   "source": [
    "with path_to_AnIML_file.open(\"rb\") as rbf:\n",
    "    root = etree.fromstring(rbf.read())"
   ]
  },
  {
   "cell_type": "code",
   "execution_count": 21,
   "id": "b186cafc-c12b-4f02-a35e-b8749d20d410",
   "metadata": {},
   "outputs": [
    {
     "name": "stdout",
     "output_type": "stream",
     "text": [
      "Successfully read from AnIML.\n"
     ]
    }
   ],
   "source": [
    "cal_q = [ float(F.text) for F in root.iterfind(\".//Series[@seriesID='cal_q']/IndividualValueSet/F\") ]\n",
    "cal_i = [ float(F.text) for F in root.iterfind(\".//Series[@seriesID='cal_i']/IndividualValueSet/F\") ]\n",
    "sam_q = [ float(F.text) for F in root.iterfind(\".//Series[@seriesID='sam_q']/IndividualValueSet/F\") ]\n",
    "sam_i = [ float(F.text) for F in root.iterfind(\".//Series[@seriesID='sam_i']/IndividualValueSet/F\") ]\n",
    "\n",
    "print(f\"Successfully read from AnIML.\")"
   ]
  },
  {
   "cell_type": "code",
   "execution_count": 22,
   "id": "ef22ed3b-1f0c-417b-8e74-2af8af67a7bf",
   "metadata": {},
   "outputs": [],
   "source": [
    "data = DataFromAnIML(cal_q, cal_i, sam_q, sam_i)"
   ]
  },
  {
   "cell_type": "code",
   "execution_count": 23,
   "id": "9829b55d-46fd-4176-9240-96eaf9ed8a01",
   "metadata": {},
   "outputs": [
    {
     "name": "stdout",
     "output_type": "stream",
     "text": [
      "Successfully created Pandas dataframes\n"
     ]
    }
   ],
   "source": [
    "calibration_q = data.format_calibration_data(\"q\")\n",
    "calibration_i = data.format_calibration_data(\"i\")\n",
    "calibration_peaks = data.format_calibration_data(\"peaks\")\n",
    "\n",
    "sample_q = data.format_sample_data(\"q\")\n",
    "sample_i = data.format_sample_data(\"i\")\n",
    "sample_for_plot = data.format_sample_data(\"plot\")\n",
    "\n",
    "print(f\"Successfully created Pandas dataframes\")"
   ]
  },
  {
   "cell_type": "markdown",
   "id": "ff6c716b-ae97-4da0-b6e4-c78224d3c935",
   "metadata": {
    "tags": []
   },
   "source": [
    "#### **2.7&nbsp;&nbsp; Analysis** <a class=\"anchor\" name=\"analysis\"></a>\n",
    "\n",
    "Back-end analysis script provided by Selina. Works fine but still needs to be more interactive."
   ]
  },
  {
   "cell_type": "code",
   "execution_count": 24,
   "id": "90ce22ad-df3e-45cc-ab56-d2b5fee3ad97",
   "metadata": {},
   "outputs": [
    {
     "name": "stdout",
     "output_type": "stream",
     "text": [
      "Plot and Lorentz fit successful. Best fit for q: [1.17560174, 2.34572076, 3.51747273].\n"
     ]
    },
    {
     "data": {
      "image/png": "[encoded data removed]",
      "text/plain": [
       "<Figure size 432x288 with 1 Axes>"
      ]
     },
     "metadata": {
      "needs_background": "light"
     },
     "output_type": "display_data"
    }
   ],
   "source": [
    "analysis = SpectralAnalysis(calibration_q, calibration_i, calibration_peaks)\n",
    "analysis.create_plot(\"orange\")\n",
    "lorentz_calibration_q = analysis.do_lorentz()\n",
    "\n",
    "print(f\"Plot and Lorentz fit successful. Best fit for q: {lorentz_calibration_q}.\")"
   ]
  },
  {
   "cell_type": "markdown",
   "id": "2f07b78a-75ee-4b47-97bf-10c3deac9a82",
   "metadata": {},
   "source": [
    "#### **2.8&nbsp;&nbsp; Results** <a class=\"anchor\" name=\"results\"></a>\n",
    "\n",
    "Back-end script for calculations provided by Selina. Also requires interactive features."
   ]
  },
  {
   "cell_type": "code",
   "execution_count": 25,
   "id": "afad7632-c170-4400-b12a-a88c57aa73b8",
   "metadata": {},
   "outputs": [
    {
     "name": "stdout",
     "output_type": "stream",
     "text": [
      "Data evaluation successful.\n"
     ]
    }
   ],
   "source": [
    "results = Results(sample_q, sample_for_plot, lorentz_calibration_q)\n",
    "calculated = results.do_calculations() \n",
    "\n",
    "print(f\"Data evaluation successful.\")"
   ]
  },
  {
   "cell_type": "markdown",
   "id": "5ccfec5e-d620-460f-a9d5-0b4ca2d89e12",
   "metadata": {},
   "source": [
    "#### **2.9&nbsp;&nbsp; Visualisation** <a class=\"anchor\" name=\"visualisation\"></a>\n",
    "\n",
    "Back-end visualisation script provided by Selina. Again, requires interactive features."
   ]
  },
  {
   "cell_type": "code",
   "execution_count": 26,
   "id": "62964871-040e-447d-907f-3a261202b0a2",
   "metadata": {},
   "outputs": [],
   "source": [
    "visualiser = Visualisation(str(PATH_TO_RAW), sample_for_plot, calculated, str(PATH_TO_PROCESSED))"
   ]
  },
  {
   "cell_type": "code",
   "execution_count": 27,
   "id": "df134fbe-c103-4cb9-9488-5b7305712eef",
   "metadata": {},
   "outputs": [
    {
     "data": {
      "image/png": "[encoded data removed]",
      "text/plain": [
       "<Figure size 432x288 with 1 Axes>"
      ]
     },
     "metadata": {
      "needs_background": "light"
     },
     "output_type": "display_data"
    },
    {
     "name": "stdout",
     "output_type": "stream",
     "text": [
      "Successfully saved results to .tsv and plots to .png.\n"
     ]
    }
   ],
   "source": [
    "visualiser.write_to_tsv(f\"A4_SAXS_{date_suffix}.tsv\")\n",
    "visualiser.plot_and_save_data(\"purple\")\n",
    "\n",
    "print(f\"Successfully saved results to .tsv and plots to .png.\")"
   ]
  },
  {
   "cell_type": "markdown",
   "id": "74b0be32-33bd-43a7-8573-97c267926229",
   "metadata": {},
   "source": [
    "#### **2.10&nbsp;&nbsp; Add analysis and results to final AnIML document** <a class=\"anchor\" name=\"add\"></a>\n",
    "\n",
    "Now we can re-open our preliminary AnIML document (this time with `pyaniml`, as should be) and start adding the new (meta-)data from the spectral analysi, calculations, and visualisation to it!"
   ]
  },
  {
   "cell_type": "code",
   "execution_count": 28,
   "id": "37a2b366-faae-4277-8af3-c9efd281bdce",
   "metadata": {},
   "outputs": [],
   "source": [
    "with path_to_AnIML_file.open(\"r\") as rf:\n",
    "    xml_string = rf.read()\n",
    "    animl_doc = AnIMLDocument.fromXMLString(xml_string)"
   ]
  },
  {
   "cell_type": "code",
   "execution_count": 29,
   "id": "c7d2a55b-d938-46e3-b211-5a03a41b9dd6",
   "metadata": {},
   "outputs": [],
   "source": [
    "data_eval = ExperimentStep(\n",
    "    name=\"Data evaluation\",\n",
    "    experiment_step_id=\"step02\"\n",
    ")"
   ]
  },
  {
   "cell_type": "code",
   "execution_count": 30,
   "id": "afdf07d3-3107-49e6-b470-0e84fd0ecd18",
   "metadata": {},
   "outputs": [],
   "source": [
    "analysis_device = Device(\n",
    "    name=\"Microsoft Windows 10 Pro Personal Computer\",\n",
    "    firmware_version=\"10.0.19044\",\n",
    "    serial_number=\"\"\n",
    ")\n",
    "data_eval.add_method(analysis_device)"
   ]
  },
  {
   "cell_type": "code",
   "execution_count": 31,
   "id": "e0c6be0d-06a8-4935-8d77-30fd551ac948",
   "metadata": {},
   "outputs": [],
   "source": [
    "tool_01 = Parameter(\n",
    "    name=\"Analysis tool\",\n",
    "    parameter_type=\"String\",\n",
    "    value=\"Python 3.9.7\"\n",
    ")\n",
    "tool_02 = Parameter(\n",
    "    name=\"Analysis tool\",\n",
    "    parameter_type=\"String\",\n",
    "    value=\"Jupyter Lab 6.1.7 \"\n",
    ")\n",
    "analysis_tools = Category(    \n",
    "    name=\"Analysis tools\",\n",
    "    parameters=[tool_01, tool_02]\n",
    ")\n",
    "data_eval.add_method(analysis_tools)"
   ]
  },
  {
   "cell_type": "code",
   "execution_count": 32,
   "id": "17ce8f1a-5aaf-4b00-b064-98d9ef56b03b",
   "metadata": {},
   "outputs": [],
   "source": [
    "step_01 = Parameter(\n",
    "    name=\"Analysis step\",\n",
    "    parameter_type=\"String\",\n",
    "    value=\"Spectral analysis\"\n",
    ")\n",
    "step_02 = Parameter(\n",
    "    name=\"Analysis step\",\n",
    "    parameter_type=\"String\",\n",
    "    value=\"Calculations\"\n",
    ")\n",
    "step_03 = Parameter(\n",
    "    name=\"Analysis step\",\n",
    "    parameter_type=\"String\",\n",
    "    value=\"Visualisation\"\n",
    ")\n",
    "analysis_steps = Category(\n",
    "    name=\"Analysis steps\",\n",
    "    parameters=[step_01, step_02, step_03]\n",
    ")\n",
    "data_eval.add_method(analysis_steps)"
   ]
  },
  {
   "cell_type": "code",
   "execution_count": 33,
   "id": "297c570b-1e2c-402a-ade2-66f214b5ee78",
   "metadata": {},
   "outputs": [],
   "source": [
    "animl_doc.add_experiment_step(data_eval)\n",
    "xml_string = animl_doc.toXML()"
   ]
  },
  {
   "cell_type": "code",
   "execution_count": 34,
   "id": "319f2f0e-3805-44c2-ba38-bd7895193816",
   "metadata": {},
   "outputs": [
    {
     "name": "stdout",
     "output_type": "stream",
     "text": [
      "Successfully updated AnIML document.\n"
     ]
    }
   ],
   "source": [
    "with path_to_AnIML_file.open(\"w\") as wf:\n",
    "    wf.write(xml_string)\n",
    "print(f\"Successfully updated AnIML document.\")"
   ]
  },
  {
   "cell_type": "markdown",
   "id": "96b702da-c18f-46e1-93d2-04fd88adfcfb",
   "metadata": {},
   "source": [
    "#### **2.11&nbsp;&nbsp; Create OMEX archive** <a class=\"anchor\" name=\"omex\"></a>\n",
    "\n",
    "As it is often advantageous to add raw data files, images, an other formats to a dataset, the AnIML document is bundled with said additional files in form of a special ZIP format called OMEX. It is self-describing through addition of a *manifest.xml* file and a *metadata.rdf* file for every file contained in the archive. This ensures maximum interoberability of the contents. Here, we build said archive using the `python-libcombine` package, adding the raw PDH data files, the PNG images, and results in TSV format."
   ]
  },
  {
   "cell_type": "code",
   "execution_count": 35,
   "id": "ef5a9255-7bfd-4d73-9b83-fb348dc15009",
   "metadata": {},
   "outputs": [],
   "source": [
    "writer = OMEXWriter()"
   ]
  },
  {
   "cell_type": "code",
   "execution_count": 36,
   "id": "b28d008d-1c7a-4cae-a0b0-2e9ed23be8ff",
   "metadata": {},
   "outputs": [],
   "source": [
    "vcard_giess = OMEXVCard(\"Giess\", \"Torsten\", \"torsten.giess@ibtb.uni-stuttgart.de\", \"University of Stuttgart\").get_vcard()\n",
    "vcard_itzigehl = OMEXVCard(\"Itzigehl\", \"Selina\", organization=\"University of Stuttgart\").get_vcard()\n",
    "vcard_range = OMEXVCard(\"Range\", \"Jan\", organization=\"University of Stuttgart\").get_vcard()"
   ]
  },
  {
   "cell_type": "code",
   "execution_count": 37,
   "id": "02acc3cf-fe68-42a0-ba9b-5ae6b9eb29ab",
   "metadata": {},
   "outputs": [],
   "source": [
    "writer.add_AnIML(str(PATH_TO_PROCESSED / f\"A4_SAXS_{date_suffix}.animl\"), vcard_giess, vcard_itzigehl, vcard_range)\n",
    "writer.add_data(str(PATH_TO_RAW), [\"pdh\"], vcard_itzigehl)\n",
    "writer.add_data(str(PATH_TO_PROCESSED), [\"png\", \"tsv\"], vcard_giess, vcard_itzigehl)"
   ]
  },
  {
   "cell_type": "code",
   "execution_count": 38,
   "id": "a1165f3c-0b12-420d-925a-cd6e04ebfb63",
   "metadata": {},
   "outputs": [],
   "source": [
    "writer.create_omex(str(PATH_TO_OMEX / f\"A4_SAXS_{date_suffix}.omex\"))"
   ]
  },
  {
   "cell_type": "markdown",
   "id": "18ae178e-b52c-4a6a-baf3-9c9bda33bd88",
   "metadata": {},
   "source": [
    "#### **2.12&nbsp;&nbsp; Upload final archive to DaRUS** <a class=\"anchor\" name=\"upload\"></a>\n",
    "\n",
    "Same as before, let's build the metadata block and upload the OMEX archive to DaRUS."
   ]
  },
  {
   "cell_type": "code",
   "execution_count": 39,
   "id": "5388f01d-2325-402f-a389-3b88165435b7",
   "metadata": {},
   "outputs": [],
   "source": [
    "cit_final = Citation(title=f\"A4 SAXS final {date.today()}\")\n",
    "proc_final = Process()"
   ]
  },
  {
   "cell_type": "code",
   "execution_count": 40,
   "id": "8f47ff97-6393-4722-b5ef-353db3134406",
   "metadata": {},
   "outputs": [],
   "source": [
    "cit_final.add_author(\"Giess, Torsten\", \"University of Stuttgart\", IdentifierScheme.orcid, \"0000-0002-8512-8606\")\n",
    "cit_final.add_author(\"Itzigehl, Selina\", \"University of Stuttgart\")\n",
    "cit_final.add_author(\"Range, Jan\", \"University of Stuttgart\", IdentifierScheme.orcid, \"0000-0001-6478-1051\")\n",
    "cit_final.add_contact(\"Giess, Torsten\", \"University of Stuttgart\", \"torsten.giess@ibtb.uni-stuttgart.de\")\n",
    "cit_final.add_description(\"Test upload of the final SAXS OMEX archive.\", f\"{date.today()}\")\n",
    "cit_final.subject = [SubjectEnum.chemistry]\n",
    "\n",
    "proc_final.add_processing_methods(\"SAXS\", \"1D SAXS Experiment\", \"q, I\")\n",
    "proc_final.add_method_parameters(\"scattering vector\", \"q\")\n",
    "proc_final.add_method_parameters(\"counts per area\", \"I\")\n",
    "proc_final.add_software(name=\"Jupyter Notebook\", version=\"2022-01-11\", url=\"https://github.com/FAIRChemistry/SAXS-workflow\", license=\"BSD-3\")\n",
    "proc_final.add_instruments(name=\"Anton Parr SAXSess\", software=\"SAXSQuant\", location=\"IPC\")"
   ]
  },
  {
   "cell_type": "code",
   "execution_count": 41,
   "id": "07604b8a-6f42-4916-8e10-34ae7b591a13",
   "metadata": {},
   "outputs": [],
   "source": [
    "dataset_final = Dataset()\n",
    "dataset_final.add_metadatablock(cit_final)\n",
    "dataset_final.add_metadatablock(proc_final)"
   ]
  },
  {
   "cell_type": "code",
   "execution_count": 42,
   "id": "695e4b61-c0bc-4536-9075-7a97607e3b19",
   "metadata": {},
   "outputs": [],
   "source": [
    "# dataset_doi_final = dataset_final.upload(\"torsten_playground\", filenames=[str(PATH_TO_OMEX / f\"A4_SAXS_{date_suffix}.omex\")])\n",
    "dataset_doi_final = \"doi:10.18419/darus-2455\""
   ]
  },
  {
   "cell_type": "markdown",
   "id": "87afe81f-7c9d-47d6-9f3a-a09ce5f15877",
   "metadata": {},
   "source": [
    "Let's check the test repository for our two new datasets, the preliminary AnIML document and the final OMEX archive!"
   ]
  },
  {
   "cell_type": "code",
   "execution_count": 1,
   "id": "57c06e53",
   "metadata": {},
   "outputs": [
    {
     "data": {
      "text/plain": [
       "True"
      ]
     },
     "execution_count": 1,
     "metadata": {},
     "output_type": "execute_result"
    }
   ],
   "source": [
    "import webbrowser\n",
    "url = \"https://darus.uni-stuttgart.de/dataverse.xhtml?alias=torsten_playground\"\n",
    "webbrowser.open(url)"
   ]
  },
  {
   "cell_type": "code",
   "execution_count": 44,
   "id": "ea209ddd-44d1-4e93-81af-2c252208c3bb",
   "metadata": {},
   "outputs": [
    {
     "name": "stdout",
     "output_type": "stream",
     "text": [
      "{\n",
      "  \"metadatablocks\": {\n",
      "    \"citation\": {\n",
      "      \"title\": \"A4 SAXS final 2022-01-20\",\n",
      "      \"subtitle\": null,\n",
      "      \"alternative_title\": null,\n",
      "      \"alternative_url\": null,\n",
      "      \"subject\": [\n",
      "        \"Chemistry\"\n",
      "      ],\n",
      "      \"notes\": null,\n",
      "      \"language\": null,\n",
      "      \"production_date\": null,\n",
      "      \"production_place\": null,\n",
      "      \"distribution_date\": null,\n",
      "      \"depositor\": null,\n",
      "      \"deposit_date\": null,\n",
      "      \"kind_of_data\": null,\n",
      "      \"related_material\": null,\n",
      "      \"related_datasets\": null,\n",
      "      \"other_references\": null,\n",
      "      \"data_sources\": null,\n",
      "      \"origin_of_sources\": null,\n",
      "      \"characteristic_of_sources_noted\": null,\n",
      "      \"documentation_and_access_to_sources\": null,\n",
      "      \"did_it_work\": null,\n",
      "      \"explanation\": null,\n",
      "      \"author\": [\n",
      "        {\n",
      "          \"name\": \"Giess, Torsten\",\n",
      "          \"affiliation\": \"University of Stuttgart\",\n",
      "          \"identifier_scheme\": \"ORCID\",\n",
      "          \"identifier\": \"0000-0002-8512-8606\"\n",
      "        },\n",
      "        {\n",
      "          \"name\": \"Itzigehl, Selina\",\n",
      "          \"affiliation\": \"University of Stuttgart\",\n",
      "          \"identifier_scheme\": null,\n",
      "          \"identifier\": null\n",
      "        },\n",
      "        {\n",
      "          \"name\": \"Range, Jan\",\n",
      "          \"affiliation\": \"University of Stuttgart\",\n",
      "          \"identifier_scheme\": \"ORCID\",\n",
      "          \"identifier\": \"0000-0001-6478-1051\"\n",
      "        }\n",
      "      ],\n",
      "      \"contact\": [\n",
      "        {\n",
      "          \"name\": \"Giess, Torsten\",\n",
      "          \"affiliation\": \"University of Stuttgart\",\n",
      "          \"email\": null\n",
      "        }\n",
      "      ],\n",
      "      \"description\": [\n",
      "        {\n",
      "          \"text\": \"Test upload of the final SAXS OMEX archive.\",\n",
      "          \"date\": \"2022-01-20\"\n",
      "        }\n",
      "      ]\n",
      "    },\n",
      "    \"process\": {\n",
      "      \"software\": [\n",
      "        {\n",
      "          \"name\": \"Jupyter Notebook\",\n",
      "          \"version\": \"2022-01-11\",\n",
      "          \"id_type\": null,\n",
      "          \"id_number\": null,\n",
      "          \"citation\": null,\n",
      "          \"url\": \"https://github.com/FAIRChemistry/SAXS-workflow\",\n",
      "          \"license\": \"BSD-3\"\n",
      "        }\n",
      "      ],\n",
      "      \"instruments\": [\n",
      "        {\n",
      "          \"name\": \"Anton Parr SAXSess\",\n",
      "          \"description\": null,\n",
      "          \"version\": null,\n",
      "          \"part_number\": null,\n",
      "          \"serial_number\": null,\n",
      "          \"software\": \"SAXSQuant\",\n",
      "          \"location\": \"IPC\"\n",
      "        }\n",
      "      ],\n",
      "      \"processing_methods\": [\n",
      "        {\n",
      "          \"name\": \"SAXS\",\n",
      "          \"description\": \"1D SAXS Experiment\",\n",
      "          \"parameters\": \"q, I\"\n",
      "        }\n",
      "      ],\n",
      "      \"method_parameters\": [\n",
      "        {\n",
      "          \"name\": \"scattering vector\",\n",
      "          \"symbol\": \"q\",\n",
      "          \"unit\": null,\n",
      "          \"value\": null,\n",
      "          \"textual_value\": null\n",
      "        },\n",
      "        {\n",
      "          \"name\": \"counts per area\",\n",
      "          \"symbol\": \"I\",\n",
      "          \"unit\": null,\n",
      "          \"value\": null,\n",
      "          \"textual_value\": null\n",
      "        }\n",
      "      ]\n",
      "    }\n",
      "  },\n",
      "  \"p_id\": \"doi:10.18419/darus-2455\",\n",
      "  \"citation\": {\n",
      "    \"title\": \"A4 SAXS final 2022-01-20\",\n",
      "    \"subtitle\": null,\n",
      "    \"alternative_title\": null,\n",
      "    \"alternative_url\": null,\n",
      "    \"subject\": [\n",
      "      \"Chemistry\"\n",
      "    ],\n",
      "    \"notes\": null,\n",
      "    \"language\": null,\n",
      "    \"production_date\": null,\n",
      "    \"production_place\": null,\n",
      "    \"distribution_date\": null,\n",
      "    \"depositor\": null,\n",
      "    \"deposit_date\": null,\n",
      "    \"kind_of_data\": null,\n",
      "    \"related_material\": null,\n",
      "    \"related_datasets\": null,\n",
      "    \"other_references\": null,\n",
      "    \"data_sources\": null,\n",
      "    \"origin_of_sources\": null,\n",
      "    \"characteristic_of_sources_noted\": null,\n",
      "    \"documentation_and_access_to_sources\": null,\n",
      "    \"did_it_work\": null,\n",
      "    \"explanation\": null,\n",
      "    \"author\": [\n",
      "      {\n",
      "        \"name\": \"Giess, Torsten\",\n",
      "        \"affiliation\": \"University of Stuttgart\",\n",
      "        \"identifier_scheme\": \"ORCID\",\n",
      "        \"identifier\": \"0000-0002-8512-8606\"\n",
      "      },\n",
      "      {\n",
      "        \"name\": \"Itzigehl, Selina\",\n",
      "        \"affiliation\": \"University of Stuttgart\",\n",
      "        \"identifier_scheme\": null,\n",
      "        \"identifier\": null\n",
      "      },\n",
      "      {\n",
      "        \"name\": \"Range, Jan\",\n",
      "        \"affiliation\": \"University of Stuttgart\",\n",
      "        \"identifier_scheme\": \"ORCID\",\n",
      "        \"identifier\": \"0000-0001-6478-1051\"\n",
      "      }\n",
      "    ],\n",
      "    \"contact\": [\n",
      "      {\n",
      "        \"name\": \"Giess, Torsten\",\n",
      "        \"affiliation\": \"University of Stuttgart\",\n",
      "        \"email\": null\n",
      "      }\n",
      "    ],\n",
      "    \"description\": [\n",
      "      {\n",
      "        \"text\": \"Test upload of the final SAXS OMEX archive.\",\n",
      "        \"date\": \"2022-01-20\"\n",
      "      }\n",
      "    ]\n",
      "  },\n",
      "  \"process\": {\n",
      "    \"software\": [\n",
      "      {\n",
      "        \"name\": \"Jupyter Notebook\",\n",
      "        \"version\": \"2022-01-11\",\n",
      "        \"id_type\": null,\n",
      "        \"id_number\": null,\n",
      "        \"citation\": null,\n",
      "        \"url\": \"https://github.com/FAIRChemistry/SAXS-workflow\",\n",
      "        \"license\": \"BSD-3\"\n",
      "      }\n",
      "    ],\n",
      "    \"instruments\": [\n",
      "      {\n",
      "        \"name\": \"Anton Parr SAXSess\",\n",
      "        \"description\": null,\n",
      "        \"version\": null,\n",
      "        \"part_number\": null,\n",
      "        \"serial_number\": null,\n",
      "        \"software\": \"SAXSQuant\",\n",
      "        \"location\": \"IPC\"\n",
      "      }\n",
      "    ],\n",
      "    \"processing_methods\": [\n",
      "      {\n",
      "        \"name\": \"SAXS\",\n",
      "        \"description\": \"1D SAXS Experiment\",\n",
      "        \"parameters\": \"q, I\"\n",
      "      }\n",
      "    ],\n",
      "    \"method_parameters\": [\n",
      "      {\n",
      "        \"name\": \"scattering vector\",\n",
      "        \"symbol\": \"q\",\n",
      "        \"unit\": null,\n",
      "        \"value\": null,\n",
      "        \"textual_value\": null\n",
      "      },\n",
      "      {\n",
      "        \"name\": \"counts per area\",\n",
      "        \"symbol\": \"I\",\n",
      "        \"unit\": null,\n",
      "        \"value\": null,\n",
      "        \"textual_value\": null\n",
      "      }\n",
      "    ]\n",
      "  }\n",
      "}\n"
     ]
    }
   ],
   "source": [
    "dataset_final_metadata_block = Dataset.from_dataverse_doi(dataset_doi_final)\n",
    "print(dataset_final_metadata_block.json(indent=2))"
   ]
  },
  {
   "cell_type": "markdown",
   "id": "18a6d9ae-1333-4507-a5c6-f15266652f96",
   "metadata": {},
   "source": [
    "---\n",
    "### **3&nbsp;&nbsp; Discussion** <a class=\"anchor\" name=\"discussion\"></a>\n",
    "\n",
    "Lorem ipsum dolor sit amet, consectetur adipiscing elit. Nullam sed tincidunt elit, quis convallis massa. Sed tempor semper condimentum. Curabitur maximus, eros id ullamcorper ullamcorper, mi dolor rhoncus magna, ac gravida erat urna a nisl. Aenean posuere ex pellentesque sem luctus, eget dapibus mauris aliquam. Praesent viverra imperdiet convallis. Donec tristique ligula sodales nibh consequat, imperdiet aliquam nisi vestibulum. Nam sagittis arcu eu blandit laoreet. Phasellus sodales eros vel mauris pellentesque vulputate. Donec rutrum, purus non aliquam interdum, dolor erat pharetra sapien, sit amet dignissim mi quam eget urna. Aenean vel dictum mauris, in ultricies elit. Phasellus iaculis massa venenatis neque scelerisque commodo. Sed rutrum lorem nec augue tincidunt commodo. Morbi semper, nibh eget ullamcorper mollis, massa purus lobortis nunc, vitae cursus quam justo vel nisi. Quisque dignissim malesuada urna quis tempus. Nulla orci eros, blandit nec est a, accumsan tincidunt massa. Nunc fringilla nunc tempus dui scelerisque, sed suscipit mi efficitur.\n",
    "\n",
    "Cras pellentesque magna ut est viverra, vel mattis diam consectetur. Maecenas eleifend ipsum odio, non egestas nibh laoreet quis. Mauris non luctus mi. Sed felis enim, fringilla nec mi eget, venenatis gravida ipsum. In sed aliquet lectus, ac ornare lectus. Vivamus eu sapien odio. Aliquam gravida id eros ac lobortis. Duis quis sodales lectus, at sollicitudin sapien. Sed sollicitudin enim eget tortor bibendum, sit amet maximus felis volutpat.\n",
    "\n",
    "Aliquam elit lorem, pulvinar ut erat non, tempor fermentum leo. Duis magna risus, rutrum eu commodo laoreet, tempus ac nisi. Fusce sit amet pharetra enim. Etiam dui nisi, efficitur euismod sodales ut, maximus et quam. Integer justo lorem, gravida eget dictum a, elementum sit amet mi. Proin vel purus erat. Quisque blandit tempus leo. Donec tempus pellentesque lectus, at lacinia nunc efficitur eget. Aenean sem ante, bibendum vel erat id, dictum vulputate est. Praesent tempor efficitur semper. "
   ]
  },
  {
   "cell_type": "markdown",
   "id": "f877c701-56fa-4657-8e29-426ed3d3a919",
   "metadata": {},
   "source": [
    "---\n",
    "### **4&nbsp;&nbsp; Outlook** <a class=\"anchor\" name=\"outlook\"></a>\n",
    "\n",
    "Lorem ipsum dolor sit amet, consectetur adipiscing elit. Aenean rutrum quam ac maximus feugiat. Ut vestibulum sit amet risus id dictum. Aenean lorem mauris, elementum non laoreet vel, dignissim ac risus. Vestibulum fermentum arcu id ante placerat, id euismod lectus sagittis. Proin tristique vestibulum quam, et placerat orci consequat sit amet. Vivamus volutpat ante ac massa pulvinar, at dapibus enim tempus. In et commodo urna, in ornare massa. Proin sit amet dui at arcu finibus aliquam et eu quam. Fusce gravida, arcu a iaculis lacinia, nibh tortor molestie purus, in pulvinar augue turpis ut neque. Sed metus purus, convallis et dapibus sit amet, placerat vel eros. Aenean quis ultricies enim. Mauris vitae diam risus. Duis eu dolor dolor. Sed gravida viverra ante, non gravida lectus malesuada sed.\n",
    "\n",
    "Nulla nec tincidunt tortor, non cursus lorem. Mauris eu urna vel justo feugiat feugiat vel ac nisl. Donec eget varius est. Etiam vestibulum auctor quam. Curabitur laoreet est et malesuada ullamcorper. Cras efficitur odio vitae porttitor semper. Curabitur suscipit, dui vitae auctor condimentum, tortor mauris congue odio, et lacinia diam dui ut neque. Integer semper elit ultricies orci maximus, non convallis diam varius. Nulla malesuada enim in tortor tristique mollis. Maecenas ac gravida nisl. Lorem ipsum dolor sit amet, consectetur adipiscing elit. Vivamus quis rhoncus magna. Vestibulum rutrum, leo sit amet dictum maximus, ex metus volutpat massa, at feugiat est est nec quam. Vestibulum ultrices ullamcorper turpis at semper. Phasellus venenatis orci cursus ipsum sollicitudin, ut consequat lectus egestas. "
   ]
  },
  {
   "cell_type": "markdown",
   "id": "bbe3bd80-8e65-4728-9ac2-ea825cfe4bd2",
   "metadata": {},
   "source": [
    "---\n",
    "### **Bibliography** <a class=\"anchor\" name=\"bibliography\"></a>\n",
    "\n",
    "[1] Lorem ipsum dolor sit amet, consectetur adipiscing elit.  \n",
    "[2] Nullam at dui vel ante bibendum maximus.  \n",
    "[3] Nullam aliquet nisi ullamcorper, fringilla neque vel, sollicitudin velit.  \n",
    "[4] Mauris sit amet nisi ac lacus semper gravida."
   ]
  },
  {
   "cell_type": "code",
   "execution_count": null,
   "id": "3003e851-a8cf-4a3f-b7ad-57747928d21f",
   "metadata": {},
   "outputs": [],
   "source": []
  }
 ],
 "metadata": {
  "interpreter": {
   "hash": "b3eb9bf08db7cb25285c462a1bdff6d935b69d101505716cb770cb4ae2fd3c0c"
  },
  "kernelspec": {
   "display_name": "inf03",
   "language": "python",
   "name": "inf03"
  },
  "language_info": {
   "codemirror_mode": {
    "name": "ipython",
    "version": 3
   },
   "file_extension": ".py",
   "mimetype": "text/x-python",
   "name": "python",
   "nbconvert_exporter": "python",
   "pygments_lexer": "ipython3",
   "version": "3.9.7"
  }
 },
 "nbformat": 4,
 "nbformat_minor": 5
}
