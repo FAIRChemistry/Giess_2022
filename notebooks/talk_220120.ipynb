{
 "cells": [
  {
   "cell_type": "code",
   "execution_count": 1,
   "id": "b84bb170",
   "metadata": {
    "slideshow": {
     "slide_type": "skip"
    }
   },
   "outputs": [
    {
     "data": {
      "text/html": [
       "<style>\n",
       " .container.slides .celltoolbar, .container.slides .hide-in-slideshow {\n",
       "    display: None ! important;\n",
       "}\n",
       "</style>\n"
      ],
      "text/plain": [
       "<IPython.core.display.HTML object>"
      ]
     },
     "metadata": {},
     "output_type": "display_data"
    }
   ],
   "source": [
    "%%html\n",
    "<style>\n",
    " .container.slides .celltoolbar, .container.slides .hide-in-slideshow {\n",
    "    display: None ! important;\n",
    "}\n",
    "</style>"
   ]
  },
  {
   "cell_type": "markdown",
   "id": "a1aa9c7c",
   "metadata": {
    "slideshow": {
     "slide_type": "slide"
    }
   },
   "source": [
    "# F.A.I.R. data in chemical research\n",
    "\n",
    "---\n",
    "\n",
    "### Torsten Giess&nbsp;&nbsp;&nbsp;–&nbsp;&nbsp;&nbsp;progress report&nbsp;&nbsp;&nbsp;–&nbsp;&nbsp;&nbsp;group seminar 2022-01-20"
   ]
  },
  {
   "cell_type": "markdown",
   "id": "170ddb50",
   "metadata": {
    "slideshow": {
     "slide_type": "slide"
    }
   },
   "source": [
    "### contents\n",
    "\n",
    "---\n",
    "\n",
    "- current situtation in chemical research\n",
    "- some numbers for context\n",
    "- F.A.I.R. data principles\n",
    "- our approach\n",
    "- ongoing projects\n",
    "- A4: small angle x-ray scattering (SAXS)\n",
    "- remaining issues\n",
    "- outlook"
   ]
  },
  {
   "cell_type": "markdown",
   "id": "0133d155",
   "metadata": {
    "slideshow": {
     "slide_type": "slide"
    }
   },
   "source": [
    "### current situation in chemical research\n",
    "\n",
    "---\n",
    "\n",
    "- research data management (RDM) practices problematic\n",
    "- data is generally\n",
    "    - unobtainable\n",
    "        - temporary & incomplete\n",
    "        - unreadable for machines\n",
    "    - inaccessible\n",
    "        - difficult to obtain\n",
    "        - lost on decommissioned machines"
   ]
  },
  {
   "cell_type": "markdown",
   "id": "089b9560",
   "metadata": {
    "slideshow": {
     "slide_type": "subslide"
    }
   },
   "source": [
    "- data is generally    \n",
    "    - encrypted\n",
    "        - data loss if format discontinued\n",
    "        - difficult to integrate into workflows  \n",
    "  \n",
    "&nbsp;  \n",
    "*in short:* RDM is **tedious**, **unscientific**, and **unsustainable**!"
   ]
  },
  {
   "cell_type": "markdown",
   "id": "647dbc9c",
   "metadata": {
    "slideshow": {
     "slide_type": "slide"
    }
   },
   "source": [
    "### some numbers for context <font size=\"6\"><sup>1</sup></font>\n",
    "\n",
    "---\n",
    "\n",
    "- 35 % of datasets are incorrectly described\n",
    "- 56 % of datasets are incomplete\n",
    "- 64 % of datasets are partially / entirely unusable  \n",
    "&nbsp;\n",
    "- 30 % of analyses are *not* reproducible!\n",
    "\n",
    "<font size=\"4\">1:&nbsp;&nbsp; Roche D.G., Kruuk L.E., Lanfear R., Binning S.A., *PLoS Biol.* **2015**, https://doi.org/10.1371/journal.pbio.1002295</font>"
   ]
  },
  {
   "cell_type": "markdown",
   "id": "625114f2",
   "metadata": {
    "slideshow": {
     "slide_type": "slide"
    }
   },
   "source": [
    "### F.A.I.R. data principles <font size=\"6\"><sup>2</sup></font>\n",
    "\n",
    "---\n",
    "\n",
    "- **F.**indability\n",
    "    - requires machine-readable / -actable format\n",
    "- **A.**ccessability\n",
    "    - may require authentication & authorisation\n",
    "- **I.**nteroperability\n",
    "    - analysis, processing, and storage require integration with other data\n",
    "- **R.**eusability\n",
    "    - requires well-described formats  \n",
    "\n",
    "<font size=\"4\">2:&nbsp;&nbsp; Wilkinson M.D., Dumontier M., Mons B., *Scientific Data.* **2016**, https://doi.org/10.1038/sdata.2016.18</font>"
   ]
  },
  {
   "cell_type": "markdown",
   "id": "60e03fc9",
   "metadata": {
    "slideshow": {
     "slide_type": "slide"
    }
   },
   "source": [
    "### our approach\n",
    "\n",
    "---\n",
    "\n",
    "- guiding principles:\n",
    "    - **bottom-up**: by the scientists, for the scientists\n",
    "    - **usefulness**: raising both quality *and* efficiency\n",
    "    - **user-driven**: empowering scientists to perform state-of-the-art RDM themselves"
   ]
  },
  {
   "cell_type": "markdown",
   "id": "35d37ef0",
   "metadata": {
    "slideshow": {
     "slide_type": "subslide"
    }
   },
   "source": [
    "- goals:\n",
    "    - tangible **scenarios** to prove feasibility and create trust\n",
    "    - create **community standards** with experts in their field\n",
    "    - use existing and develop novel **data exchange formats**\n",
    "    - develop sensible **infrastructure** and empower scientists to implement it\n",
    "- challenges:\n",
    "    - heterogenity in different fields\n",
    "    - proprietary software and formats\n",
    "    - integration into existing workflows\n",
    "    - *willingness* (not so much an issue as initially thought)"
   ]
  },
  {
   "cell_type": "markdown",
   "id": "6b15b00e",
   "metadata": {
    "slideshow": {
     "slide_type": "slide"
    }
   },
   "source": [
    "### ongoing projects\n",
    "\n",
    "---\n",
    "\n",
    "CRC 1333  \n",
    "\n",
    "| project | principal investigator | formats | status |\n",
    "| --- | --- | --- | --- |\n",
    "| A3 | Bettina Lotsch | AnIML<br>EnzymeML | development |\n",
    "| A4 | Johanna Bruckner | AnIML | paper in preparation |\n",
    "| A8 | Sabine Laschat<br>Kristyna Pluhackova | EnzymeML<br>*others* | concept |\n",
    "| B2 | Michael Buchmeiser<br>Ulrich Tallarek | *tba* | pending |\n",
    "| B4 | Michael Buchmeiser<br>Joris van Slageren | *tba* | concept |"
   ]
  },
  {
   "cell_type": "markdown",
   "id": "370613a5",
   "metadata": {
    "slideshow": {
     "slide_type": "subslide"
    }
   },
   "source": [
    "CRC 1333 (continued)  \n",
    "\n",
    "| project | principal investigator | formats | status |\n",
    "| --- | --- | --- | --- |\n",
    "| B5 | Deven Estes | nmrML<br>EnzymeML | concept |\n",
    "| B6 | René Peters | EnzymeML | concept |\n",
    "| B7 | Stefan Naumann<br>Christian Holm | *tba* | pending |\n",
    "| B8 | Deven Estes | nmrML<br>EnzymeML | concept |\n",
    "| C2 | Joris van Slageren | AnIML | development |\n",
    "| C3 | Guido Schmitz | AnIML<br>HDF5 | concept |"
   ]
  },
  {
   "cell_type": "markdown",
   "id": "041adaf4",
   "metadata": {
    "slideshow": {
     "slide_type": "subslide"
    }
   },
   "source": [
    "CRC 1333 (continued)  \n",
    "\n",
    "| project | principal investigator | formats | status |\n",
    "| --- | --- | --- | --- |\n",
    "| C4 | Johannes Kästner | *tba* | pending |\n",
    "| C5 | Niels Hansen | ThermoML<br>EnzymeML<br>*others* | concept |\n",
    "| C8 | Thomas Sottmann | AnIML | concept |\n",
    "| C9 | Guido Schmitz | AnIML<br>HDF5 | concept|\n",
    "| C10 | Matthias Bauer | *tba* | pending |"
   ]
  },
  {
   "cell_type": "markdown",
   "id": "65b0cf2e",
   "metadata": {
    "slideshow": {
     "slide_type": "subslide"
    }
   },
   "source": [
    "Other \n",
    "\n",
    "| project | principal investigator | formats | status |\n",
    "| --- | --- | --- | --- |\n",
    "| multiphase flow experiments | Grazia Lamanna | AnIML<br>HDF5 | concept |\n",
    "| enzyme kinetics | Nicole Radde | EnzymeML | concept |\n",
    "| enzyme immobilisation | Bernd Nidetzky | EnzymeML | pending |\n",
    "| cataytic cascades with & without enzymes | Harald Gröger | EnzymeML | concept |"
   ]
  },
  {
   "cell_type": "markdown",
   "id": "5cca3ad7",
   "metadata": {
    "slideshow": {
     "slide_type": "slide"
    }
   },
   "source": [
    "### CRC 1333: **A4**: small angle x-ray scattering (SAXS)\n",
    "\n",
    "---\n",
    "\n",
    "**the workflow**:\n",
    "- **convert** output file (PDH oder PLT format) to preliminary AnIML document\n",
    "- **upload** AnIML document to DaRUS\n",
    "- ***download*** *AnIML document from DaRUS* (feature in development)\n",
    "- **read** from AnIML document\n",
    "- **evaluation**: spectral analysis, calculations, visualisation\n",
    "- **add results** to final AnIML document\n",
    "- **upload** OMEX archive with AnIML document and desired files to DaRUS  "
   ]
  },
  {
   "cell_type": "markdown",
   "id": "6949da1e",
   "metadata": {
    "slideshow": {
     "slide_type": "subslide"
    }
   },
   "source": [
    "### CRC 1333: **A4**: small angle x-ray scattering (SAXS)\n",
    "\n",
    "---\n",
    "\n",
    "**the notebook**:"
   ]
  },
  {
   "cell_type": "code",
   "execution_count": null,
   "id": "40e59b5c",
   "metadata": {
    "slideshow": {
     "slide_type": "-"
    }
   },
   "outputs": [],
   "source": [
    "! jupyter notebook .\\A4_SAXS_220119.ipynb"
   ]
  },
  {
   "cell_type": "markdown",
   "id": "eb91b9db",
   "metadata": {
    "slideshow": {
     "slide_type": "slide"
    }
   },
   "source": [
    "### remaining issues\n",
    "\n",
    "---\n",
    "\n",
    "- download from DaRUS still in development\n",
    "- the AnIML document is constructed manually\n",
    "    - reading metadata directly from the PDH footer would be more elegant\n",
    "    - but: time-consuming feature\n",
    "    - what do **you** think: our job / the users' job?\n",
    "- reading AnIML document with `lxml` library is depracated"
   ]
  },
  {
   "cell_type": "markdown",
   "id": "263dfaeb",
   "metadata": {
    "slideshow": {
     "slide_type": "subslide"
    }
   },
   "source": [
    "- data evaluation is still messy\n",
    "    - code by Selina\n",
    "    - too much happening backend (Notebooks supposed to be interactive)\n",
    "    - code refactoring for better fit for the current workflow\n",
    "- writing results to existing AnIML document needs polish\n",
    "    - some additional features in `pyaniml` libary needed\n",
    "    - already working on it\n",
    "- currently no reader for AnIML documents within OMEX archives\n",
    "    - not needed for current workflow\n",
    "    - would have to be unpacked manually before use\n",
    "    - rename OMEX archive to ZIP?"
   ]
  },
  {
   "cell_type": "markdown",
   "id": "8c97c329",
   "metadata": {
    "slideshow": {
     "slide_type": "slide"
    }
   },
   "source": [
    "### outlook\n",
    "\n",
    "---\n",
    "\n",
    "- polish Notebook for publication\n",
    "    - remaining features will be added in the coming days\n",
    "    - text will be added thereafter\n",
    "- transfer of this Notebook to other projects, e.g.:\n",
    "    - C8: small angle neutron scattering (SANS)\n",
    "    - C2: electron spin/paramagnetic resonance (ESR/EPR)\n",
    "- **implementation of our new software-driven RDM (sdRDM) concept**\n",
    "    - data models as Python objects\n",
    "    - format-independant RDM!"
   ]
  },
  {
   "cell_type": "markdown",
   "id": "e588f145",
   "metadata": {
    "slideshow": {
     "slide_type": "slide"
    }
   },
   "source": [
    "# thank you for your attention!\n",
    "\n",
    "---\n",
    "\n",
    "# questions? ideas? input?"
   ]
  },
  {
   "cell_type": "code",
   "execution_count": null,
   "id": "7536e9fc",
   "metadata": {
    "slideshow": {
     "slide_type": "skip"
    }
   },
   "outputs": [],
   "source": []
  }
 ],
 "metadata": {
  "celltoolbar": "Slideshow",
  "kernelspec": {
   "display_name": "inf03",
   "language": "python",
   "name": "inf03"
  },
  "language_info": {
   "codemirror_mode": {
    "name": "ipython",
    "version": 3
   },
   "file_extension": ".py",
   "mimetype": "text/x-python",
   "name": "python",
   "nbconvert_exporter": "python",
   "pygments_lexer": "ipython3",
   "version": "3.9.7"
  },
  "rise": {
   "autolaunch": false,
   "scroll": true,
   "theme": "simple"
  }
 },
 "nbformat": 4,
 "nbformat_minor": 5
}
