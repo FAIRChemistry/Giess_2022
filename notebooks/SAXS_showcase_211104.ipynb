{
 "cells": [
  {
   "cell_type": "markdown",
   "id": "d5517079",
   "metadata": {
    "slideshow": {
     "slide_type": "slide"
    }
   },
   "source": [
    "## towards F.A.I.R. RDM workflows: small angle X-ray scattering (SAXS) <a class=\"anchor\" name=\"title\"></a>\n",
    "\n",
    "---\n",
    "\n",
    "### Torsten Giess&nbsp;&nbsp;&nbsp;–&nbsp;&nbsp;&nbsp;progress report&nbsp;&nbsp;&nbsp;–&nbsp;&nbsp;&nbsp;group seminar 04.11.2021 <a class=\"anchor\" name=\"subtitle\"></a>"
   ]
  },
  {
   "cell_type": "markdown",
   "id": "d507c04b",
   "metadata": {
    "slideshow": {
     "slide_type": "subslide"
    }
   },
   "source": [
    "#### contents <a class=\"anchor\" name=\"slide0\"></a>\n",
    "\n",
    "---\n",
    "\n",
    "- <a href=#slide1 style=\"text-decoration: none\">small angle X-ray scattering (SAXS)</a>\n",
    "- <a href=#slide2 style=\"text-decoration: none\">previous workflow</a>\n",
    "- <a href=#slide3 style=\"text-decoration: none\">all-new and improved workflow</a>"
   ]
  },
  {
   "cell_type": "markdown",
   "id": "12068053",
   "metadata": {
    "slideshow": {
     "slide_type": "slide"
    }
   },
   "source": [
    "#### small angle X-ray scattering (SAXS) <a class=\"anchor\" name=slide1></a>\n",
    "\n",
    "---\n",
    "\n",
    "- specialised small angle scattering (SAS) technique\n",
    "- used to probe larger dimensions\n",
    "    - very small angles needed: $\\frac{1}{\\theta}\\propto d$\n",
    "\n",
    "    > ##### Bragg's law:\n",
    "    > ---\n",
    "    > $n\\lambda=2d\\sin\\theta$\n",
    "    >\n",
    "    > $n$: diffraction order;&nbsp;&nbsp;\n",
    "    > $\\lambda$: wavelength;&nbsp;&nbsp;\n",
    "    > $d$: grating constant;&nbsp;&nbsp;\n",
    "    > $\\theta$: glancing angle.\n",
    "\n",
    "    - (1 ≤ d ≤ 150) nm\n",
    "- very useful for Materials Science"
   ]
  },
  {
   "cell_type": "markdown",
   "id": "86b0ae7c",
   "metadata": {
    "slideshow": {
     "slide_type": "slide"
    }
   },
   "source": [
    "#### previous workflow <a class=\"anchor\" name=slide2></a>\n",
    "\n",
    "---\n",
    "\n",
    "- output: **.pdh file** (plain text)\n",
    "    - DSV data header\n",
    "    - XML metadata footer\n",
    "- Origin: **.opju file** (encrypted)\n",
    "    - preprocessing: non-trivial Lorentz fit\n",
    "- Excel: **.xlsx file** (compressed)\n",
    "    - analysis\n",
    "- storage: **locally** (.pdh and .xlsx files)\n",
    "\n",
    "&nbsp;$\\Rightarrow$&nbsp;definitely *not* F.A.I.R.!"
   ]
  },
  {
   "cell_type": "markdown",
   "id": "a1286713",
   "metadata": {
    "slideshow": {
     "slide_type": "slide"
    }
   },
   "source": [
    "#### all-new and improved workflow <a class=\"anchor\" name=slide3></a>\n",
    "\n",
    "---\n",
    "\n",
    "&nbsp;$\\rightarrow$&nbsp;**JUPYTER NOTEBOOK**&nbsp;$\\leftarrow$\n",
    "\n",
    "in collaboration with Selina Itzigehl"
   ]
  },
  {
   "cell_type": "markdown",
   "id": "895cc582",
   "metadata": {
    "slideshow": {
     "slide_type": "slide"
    }
   },
   "source": [
    "#### **workflow** <a class=\"anchor\" name=\"slide4\"></a>\n",
    "\n",
    "---"
   ]
  },
  {
   "cell_type": "markdown",
   "id": "41b53dab",
   "metadata": {
    "slideshow": {
     "slide_type": "-"
    }
   },
   "source": [
    "##### **user guide** <a class=\"anchor\" name=\"slide4.1\"></a>\n",
    "\n",
    "lorem ipsum"
   ]
  },
  {
   "cell_type": "markdown",
   "id": "7adfbf66",
   "metadata": {
    "slideshow": {
     "slide_type": "-"
    }
   },
   "source": [
    "##### **preparation** <a class=\"anchor\" name=\"slide4.2\"></a>\n",
    "\n",
    "lorem ipsum"
   ]
  },
  {
   "cell_type": "code",
   "execution_count": null,
   "id": "66f337db",
   "metadata": {
    "slideshow": {
     "slide_type": "-"
    }
   },
   "outputs": [],
   "source": []
  }
 ],
 "metadata": {
  "celltoolbar": "Slideshow",
  "kernelspec": {
   "display_name": "Python 3 (ipykernel)",
   "language": "python",
   "name": "python3"
  },
  "language_info": {
   "codemirror_mode": {
    "name": "ipython",
    "version": 3
   },
   "file_extension": ".py",
   "mimetype": "text/x-python",
   "name": "python",
   "nbconvert_exporter": "python",
   "pygments_lexer": "ipython3",
   "version": "3.9.6"
  },
  "rise": {
   "autolaunch": "true",
   "theme": "simple",
   "transition": "concave"
  }
 },
 "nbformat": 4,
 "nbformat_minor": 5
}
