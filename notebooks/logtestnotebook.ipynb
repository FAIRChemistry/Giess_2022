{
 "cells": [
  {
   "cell_type": "code",
   "execution_count": 1,
   "id": "0c653c4b-7b63-4b88-b55d-2a8600e7bc4d",
   "metadata": {},
   "outputs": [],
   "source": [
    "from pathlib import Path"
   ]
  },
  {
   "cell_type": "code",
   "execution_count": 2,
   "id": "6f82b117-a1a4-4658-8d3c-afe9abb7d2db",
   "metadata": {},
   "outputs": [],
   "source": [
    "from modules.loggerfromjson import logger_from_json"
   ]
  },
  {
   "cell_type": "code",
   "execution_count": 3,
   "id": "f6715368-c4ed-43c4-a519-2f9c2470ea4f",
   "metadata": {},
   "outputs": [],
   "source": [
    "cwd = Path.cwd()\n",
    "path_to_logs = Path(cwd.parent / \"./logs/\").resolve()"
   ]
  },
  {
   "cell_type": "code",
   "execution_count": 4,
   "id": "ddedfabe-669b-449d-8396-fc9c01a18632",
   "metadata": {},
   "outputs": [
    {
     "name": "stdout",
     "output_type": "stream",
     "text": [
      "Loading logger configuration from 'logcfg.json'.\n",
      "Done.\n"
     ]
    }
   ],
   "source": [
    "logger = logger_from_json(path_to_logs)\n",
    "logger.name = __name__"
   ]
  },
  {
   "cell_type": "code",
   "execution_count": 5,
   "id": "ba78565e-b905-4211-b696-09d22791a306",
   "metadata": {},
   "outputs": [
    {
     "name": "stdout",
     "output_type": "stream",
     "text": [
      "10:39:24 - __main__ - DEBUG: This is a test that should not make it into notebook.log.\n"
     ]
    }
   ],
   "source": [
    "logger.debug(\"This is a test that should not make it into notebook.log.\")"
   ]
  },
  {
   "cell_type": "code",
   "execution_count": 6,
   "id": "1fc1a46c-1f82-439c-8665-f68a988cfcda",
   "metadata": {},
   "outputs": [
    {
     "name": "stdout",
     "output_type": "stream",
     "text": [
      "10:39:24 - __main__ - ERROR: This is some neat error going brrrr!\n"
     ]
    }
   ],
   "source": [
    "logger.error(\"This is some neat error going brrrr!\")"
   ]
  }
 ],
 "metadata": {
  "kernelspec": {
   "display_name": "inf03",
   "language": "python",
   "name": "inf03"
  },
  "language_info": {
   "codemirror_mode": {
    "name": "ipython",
    "version": 3
   },
   "file_extension": ".py",
   "mimetype": "text/x-python",
   "name": "python",
   "nbconvert_exporter": "python",
   "pygments_lexer": "ipython3",
   "version": "3.9.7"
  }
 },
 "nbformat": 4,
 "nbformat_minor": 5
}
