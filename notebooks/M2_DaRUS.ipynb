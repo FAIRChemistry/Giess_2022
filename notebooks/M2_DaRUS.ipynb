{
 "cells": [
  {
   "cell_type": "markdown",
   "id": "5224c88e-dedd-44d4-9e87-d3ebe123f7fb",
   "metadata": {},
   "source": [
    "# FAIR and scalable management of small-angle X-ray scattering data  \n",
    "## Module 2: Packing and upload to DaRUS\n",
    "\n",
    "> Authors: Torsten Giess, Selina Itzigehl, Jan Range, Johanna Bruckner, Juergen Pleiss  \n",
    "> Last modified: 16.03.2022\n",
    "\n",
    "---"
   ]
  },
  {
   "cell_type": "markdown",
   "id": "e1a90446-1ac6-4093-b5ee-c64fbd1fe70a",
   "metadata": {},
   "source": [
    "### **Abstract** <a class=\"anchor\" name=\"abstract\"></a>\n",
    "\n",
    "With novel Python packages [pyAnIML](https://github.com/FAIRChemistry/pyAnIML) (version 0.0.2) and [pyDaRUS](https://github.com/JR-1991/pyDaRUS) (version 1.0.4), as well as various packages from the Python 3 standard libary, this notebook provides the means to extract metadata from an [AnIML](https://animl.org/) document, create a searchable Dataverse metadata block from it, package the document and any additional files to an archive format, and upload everything to the University of Stuttgart Dataverse installation, [DaRUS](https://darus.uni-stuttgart.de/). It is also possible to inspect the generated metadata block by downloading and displaying it.   \n",
    "\n",
    "---"
   ]
  },
  {
   "cell_type": "markdown",
   "id": "727394d8-a52e-4c04-a7c8-d053a3490d9a",
   "metadata": {},
   "source": [
    "### **Table of Contents** <a class=\"anchor\" name=\"table_of_contents\"></a>\n",
    "\n",
    "- [Abstract](#abstract)\n",
    "- [Workflow](#workflow)\n",
    "    - [User guide](#user_guide)\n",
    "    - [Preparation](#preparation)\n",
    "    - [Metadata extraction from AnIML document](#extraction)\n",
    "    - [Packing files to OMEX or ZIP](#packing)\n",
    "    - [Upload to DaRUS](#upload)\n",
    "    - [Download from DaRUS](#download)\n",
    "    - [Edit DaRUS datasets](#edit)\n",
    "- [Disclosure](#disclosure)\n",
    "\n",
    "---"
   ]
  },
  {
   "cell_type": "markdown",
   "id": "35b4bb85-ffab-4507-ba7a-5ce391ed084d",
   "metadata": {},
   "source": [
    "### **Workflow** <a class=\"anchor\" name=\"workflow\"></a>\n",
    "\n",
    "Following is the workflow for Module 2 of FAIR and scalable management of small-angle X-ray scattering data."
   ]
  },
  {
   "cell_type": "markdown",
   "id": "bbbd0df7-718e-4d80-91ed-c1613cb60dd1",
   "metadata": {},
   "source": [
    "#### **User guide** <a class=\"anchor\" name=\"user_guide\"></a>\n",
    "\n",
    "This notebook is used for creating an archive in either OMEX or ZIP format of a dataset consisting of an AnIML document and any number of additional files belonging to the dataset in question. This archive is then uploaded to DaRUS. Furthermore, any given accessible dataset can be downloaded, inspected, modified, and updated on DaRUS."
   ]
  },
  {
   "cell_type": "markdown",
   "id": "701f1194-628d-43a3-827b-a8c9081e147b",
   "metadata": {},
   "source": [
    "#### **Preparation** <a class=\"anchor\" name=\"preparation\"></a>\n",
    "\n",
    "This section contains the necessary preparations for using this module. Code cells in this section are required regardless of which functionality of this notebook is used. First, the required packages from the [Python 3 standard library](https://docs.python.org/3/library/), the Python Package Index ([PyPI](https://pypi.org/)), and *ad hoc* modules of this work are imported. Then, both current time and path are retrieved and stored in the desired formats."
   ]
  },
  {
   "cell_type": "code",
   "execution_count": 11,
   "id": "4cd8fd5b-0121-4e52-a0fb-27786e72d2f6",
   "metadata": {},
   "outputs": [
    {
     "name": "stdout",
     "output_type": "stream",
     "text": [
      "Importing standard library packages.\n",
      "Done.\n"
     ]
    }
   ],
   "source": [
    "print(\"Importing standard library packages.\")\n",
    "from datetime import date\n",
    "import os\n",
    "from pathlib import Path\n",
    "print (\"Done.\")"
   ]
  },
  {
   "cell_type": "code",
   "execution_count": 12,
   "id": "89401621-aafd-480e-ba2f-b7f4b74c1d93",
   "metadata": {},
   "outputs": [
    {
     "name": "stdout",
     "output_type": "stream",
     "text": [
      "Importing PyPI packages.\n",
      "Done.\n"
     ]
    }
   ],
   "source": [
    "print(\"Importing PyPI packages.\")\n",
    "from pyaniml import AnIMLDocument\n",
    "from pyDaRUS import Citation, Dataset, EngMeta, Process\n",
    "from pyDaRUS.metadatablocks.citation import SubjectEnum, IdentifierScheme\n",
    "from pyDaRUS.metadatablocks.engMeta import DataGeneration\n",
    "print (\"Done.\")"
   ]
  },
  {
   "cell_type": "code",
   "execution_count": 13,
   "id": "295a5d3f-4c72-4209-b1c6-a2d33abf46b9",
   "metadata": {},
   "outputs": [
    {
     "name": "stdout",
     "output_type": "stream",
     "text": [
      "Importing local packages.\n",
      "All done.\n"
     ]
    }
   ],
   "source": [
    "print(\"Importing local packages.\")\n",
    "from modules.omexwriter import OMEXvCard, OMEXWriter\n",
    "print(\"All done.\")"
   ]
  },
  {
   "cell_type": "code",
   "execution_count": 14,
   "id": "1192c8a9-c61e-42a4-b79a-183a9c0d1e85",
   "metadata": {},
   "outputs": [],
   "source": [
    "date_suffix = str(date.today()).replace(\"-\", \"\")[2:]"
   ]
  },
  {
   "cell_type": "code",
   "execution_count": 15,
   "id": "5075500b-9c68-4ccf-aca7-003adee7cb70",
   "metadata": {},
   "outputs": [],
   "source": [
    "cwd = Path.cwd()\n",
    "path_to_datasets = cwd / \"./datasets/\""
   ]
  },
  {
   "cell_type": "code",
   "execution_count": 16,
   "id": "3035c300-8d55-4462-89b6-352d706bc75c",
   "metadata": {},
   "outputs": [],
   "source": [
    "test_dataset = \"doi:10.18419/darus-2672\""
   ]
  },
  {
   "cell_type": "markdown",
   "id": "712ac068-0611-4bba-86f0-f71c83241de6",
   "metadata": {},
   "source": [
    "#### **Metadata extraction from AnIML document** <a class=\"anchor\" name=\"extraction\"></a>\n",
    "\n",
    "In this section, DaRUS metadata block objects are created. These will late be used to create a full DaRUS dataset together with any files to be uploaded. Relevant metadata is extracted directly from the AnIML document provided. Information that can not be inferred from the AnIML document at this moment can be added manually."
   ]
  },
  {
   "cell_type": "markdown",
   "id": "a307e438-6b7e-4c91-9388-b7f8bd3a6b1a",
   "metadata": {},
   "source": [
    "1. Give path to AnIML document to be uploaded to DaRUS in form of a pathlib Path:"
   ]
  },
  {
   "cell_type": "code",
   "execution_count": null,
   "id": "56c62586-40fc-4ec9-953a-6f7f9c6ec488",
   "metadata": {},
   "outputs": [],
   "source": [
    "path_to_AnIML_file = path_to_datasets / f\"processed/fairsaxs_220314.animl\""
   ]
  },
  {
   "cell_type": "markdown",
   "id": "f3691f71-8252-4fe4-ad7a-edacf4aed612",
   "metadata": {},
   "source": [
    "2. Read document as string and create AnIML object from it:"
   ]
  },
  {
   "cell_type": "code",
   "execution_count": null,
   "id": "0319b28b-a60a-4f86-8211-16aa30229b02",
   "metadata": {},
   "outputs": [],
   "source": [
    "with path_to_AnIML_file.open(\"r\") as f:\n",
    "    xml_string = f.read()\n",
    "    animl_doc = AnIMLDocument.fromXMLString(xml_string)"
   ]
  },
  {
   "cell_type": "markdown",
   "id": "1abe7e01-34fb-4245-864e-3554dedf3408",
   "metadata": {},
   "source": [
    "3. Create the necessary pyDaRUS objects to be filled with metadata from the AnIML document. The title of the Dataset is also provided here as an argument to the citation block:"
   ]
  },
  {
   "cell_type": "code",
   "execution_count": null,
   "id": "e285c130-1fd9-43ee-ad3f-0cae6eeb0e58",
   "metadata": {},
   "outputs": [],
   "source": [
    "citation_block = Citation()\n",
    "process_block = Process()\n",
    "engineering_block = EngMeta()"
   ]
  },
  {
   "cell_type": "markdown",
   "id": "40d9a586-7863-4814-bfc2-f0187a78d9ff",
   "metadata": {},
   "source": [
    "4. Add general citation information to the citation block object that cannot be inferred from the AnIML document itself:"
   ]
  },
  {
   "cell_type": "code",
   "execution_count": null,
   "id": "eb551dcb-0f69-42ed-9cfe-0bb7f9e81c57",
   "metadata": {},
   "outputs": [],
   "source": [
    "citation_block.title = \"FAIR and scalable management of small-angle X-ray scattering data\""
   ]
  },
  {
   "cell_type": "code",
   "execution_count": null,
   "id": "8c4c0cb1-d1dd-4698-a1a7-c0026d717850",
   "metadata": {},
   "outputs": [],
   "source": [
    "citation_block.add_author(\"Giess, Torsten\", \"University of Stuttgart\", IdentifierScheme.orcid, \"0000-0002-8512-8606\")"
   ]
  },
  {
   "cell_type": "code",
   "execution_count": null,
   "id": "536c6f6c-34b8-4787-adb3-0ff31bdd8165",
   "metadata": {},
   "outputs": [],
   "source": [
    "citation_block.add_contact(\"Pleiss, Juergen\", \"University of Stuttgart\", \"juergen.pleiss@itb.uni-stuttgart.de\")"
   ]
  },
  {
   "cell_type": "code",
   "execution_count": null,
   "id": "b175c25f-c80b-4b99-b3b5-2a6ff23433de",
   "metadata": {},
   "outputs": [],
   "source": [
    "citation_block.add_description(\"This dataset contains the AnIML document, as well as all additonal files relevant to 'FAIR and scalable management of small-angle X-ray scattering data'\", f\"{date.today()}\")"
   ]
  },
  {
   "cell_type": "code",
   "execution_count": null,
   "id": "a19eb35d-aab8-461d-bf7e-63f8d2957d37",
   "metadata": {},
   "outputs": [],
   "source": [
    "citation_block.subject = [SubjectEnum.chemistry, SubjectEnum.physics, SubjectEnum.computer_and__information__science]"
   ]
  },
  {
   "cell_type": "code",
   "execution_count": null,
   "id": "4ef2d981-51b5-4edd-837e-50de302013a5",
   "metadata": {},
   "outputs": [],
   "source": [
    "citation_block.add_keyword(\n",
    "    term=\"AnIML\",\n",
    "    vocabulary=\"Wikidata\",\n",
    "    vocabulary_url=\"https://www.wikidata.org/wiki/Q97359795\"\n",
    ")"
   ]
  },
  {
   "cell_type": "code",
   "execution_count": null,
   "id": "4538e94f-6ed2-42ed-8cf3-154a1f3f8c54",
   "metadata": {},
   "outputs": [],
   "source": [
    "citation_block.add_topic_classification(\n",
    "    term=\"Physical chemistry\",\n",
    "    vocabulary=\"Loterre chemistry vocabulary\",\n",
    "    vocabulary_url=\"http://data.loterre.fr/ark:/67375/37T-BJ2L28P4-W\"\n",
    ")"
   ]
  },
  {
   "cell_type": "code",
   "execution_count": null,
   "id": "73b0e0b4-c6da-45ba-9c78-1dff7dccd2e3",
   "metadata": {},
   "outputs": [],
   "source": [
    "citation_block.add_grant_information(\n",
    "    grant_agency=\"DFG\",\n",
    "    grant_number=\"358283783 - SFB 1333\"\n",
    ")"
   ]
  },
  {
   "cell_type": "code",
   "execution_count": null,
   "id": "1bf9dc25-b8b6-4c65-bca7-facbacac7819",
   "metadata": {},
   "outputs": [],
   "source": [
    "citation_block.add_project(\"A04\")"
   ]
  },
  {
   "cell_type": "markdown",
   "id": "32321db9-f343-4e9e-8110-678387cb9694",
   "metadata": {},
   "source": [
    "5. Retrieve experiment name from the AnIML document:"
   ]
  },
  {
   "cell_type": "code",
   "execution_count": null,
   "id": "d0bbc958-7172-45b6-b83c-2a108bcd1c4a",
   "metadata": {},
   "outputs": [],
   "source": [
    "method_name = animl_doc.experiment_steps.experiment_steps[0].result.results[0].name"
   ]
  },
  {
   "cell_type": "markdown",
   "id": "9e8bef7c-22a7-4a34-84b9-2881c5e75e72",
   "metadata": {},
   "source": [
    "6. Retrieve experiment parameters, remove duplicate entries, and transform the resulting list into a string:"
   ]
  },
  {
   "cell_type": "code",
   "execution_count": null,
   "id": "a588db23-4f6e-42ac-8490-88975fc84ba7",
   "metadata": {},
   "outputs": [],
   "source": [
    "all_parameters = []\n",
    "for experiment_step in animl_doc.experiment_steps.experiment_steps:\n",
    "    for result in experiment_step.result.results:\n",
    "        for series in result.series:\n",
    "            all_parameters.append(series.name)\n",
    "unique_parameters = list(dict.fromkeys(all_parameters))\n",
    "method_parameters = \", \".join(unique_parameters)"
   ]
  },
  {
   "cell_type": "markdown",
   "id": "64120630-e1c1-41f4-b624-810d6775fd71",
   "metadata": {},
   "source": [
    "7. Add experiment name and its relevant parameters to the process metadata block object:"
   ]
  },
  {
   "cell_type": "code",
   "execution_count": null,
   "id": "98a4ee2e-0b0e-49e2-bc5e-503762700a9d",
   "metadata": {},
   "outputs": [],
   "source": [
    "process_block.add_processing_methods(\n",
    "    name=method_name,\n",
    "    parameters=method_parameters,\n",
    "    description=\"small-angle x-ray scattering\"\n",
    ")"
   ]
  },
  {
   "cell_type": "markdown",
   "id": "f56bee0a-62ee-43c4-af30-b8bb9e523c9c",
   "metadata": {},
   "source": [
    "8. Create dictionaries of the relevant parameters' names and units:"
   ]
  },
  {
   "cell_type": "code",
   "execution_count": null,
   "id": "1e7029e4-7cc5-4359-a260-9deed5ce5577",
   "metadata": {},
   "outputs": [],
   "source": [
    "parameter_names = {\n",
    "    \"q\": \"scattering vector\",\n",
    "    \"I\": \"counts per area\",\n",
    "    \"T\": \"temperature\",\n",
    "    \"w\": \"mass fraction\"\n",
    "}\n",
    "parameter_units = {\n",
    "    \"q\": \"nm^-1\",\n",
    "    \"I\": \"a.u.\",\n",
    "    \"T\": \"K\",\n",
    "    \"w\": None\n",
    "}"
   ]
  },
  {
   "cell_type": "markdown",
   "id": "ed250954-0a91-4e33-aa14-4edc56d2d35b",
   "metadata": {},
   "source": [
    "9. Add the full parameter information to the process metadata block object:"
   ]
  },
  {
   "cell_type": "code",
   "execution_count": null,
   "id": "724c275c-581f-4139-b86f-66a0d3bb8606",
   "metadata": {},
   "outputs": [],
   "source": [
    "for parameter in unique_parameters:    \n",
    "    process_block.add_method_parameters(\n",
    "        name=parameter_names[parameter],\n",
    "        symbol=parameter,\n",
    "        unit=parameter_units[parameter]\n",
    "    )"
   ]
  },
  {
   "cell_type": "markdown",
   "id": "40460e35-72b7-4d63-85c0-e562ba0761fa",
   "metadata": {},
   "source": [
    "10. Retrieve instrument information from the AnIML document:"
   ]
  },
  {
   "cell_type": "code",
   "execution_count": null,
   "id": "acd20313-fb0e-48c7-a270-9a2af68786dd",
   "metadata": {},
   "outputs": [],
   "source": [
    "instrument_from_animl = animl_doc.experiment_steps.experiment_steps[0].method.methods[0]"
   ]
  },
  {
   "cell_type": "markdown",
   "id": "ee4361d0-c0cd-4d39-90b3-afaed7bd24de",
   "metadata": {},
   "source": [
    "11. Add instrument information to the process metadata block object:"
   ]
  },
  {
   "cell_type": "code",
   "execution_count": null,
   "id": "b5297b16-bf0b-474c-8bc9-175a39d0ad10",
   "metadata": {},
   "outputs": [],
   "source": [
    "process_block.add_instruments(\n",
    "    name=instrument_from_animl.name,\n",
    "    version=instrument_from_animl.firmware_version,\n",
    "    serial_number=[instrument_from_animl.serial_number],\n",
    "    software=\"SAXSQuant\",\n",
    "    location=\"University of Stuttgart, Institute of Physical Chemistry, Gisselmann Group\",\n",
    ")"
   ]
  },
  {
   "cell_type": "markdown",
   "id": "d92e38f3-7335-44f5-b830-9f41ab6b7095",
   "metadata": {},
   "source": [
    "12. Add software information to the process metadata block object:"
   ]
  },
  {
   "cell_type": "code",
   "execution_count": null,
   "id": "cc63cd8d-0b0e-47b9-ab32-d4239e6dc95c",
   "metadata": {},
   "outputs": [],
   "source": [
    "process_block.add_software(\n",
    "    name=\"JupyterLab\",\n",
    "    version=\"3.2.9\",\n",
    "    citation=\"DOI:10.3233/978-1-61499-649-1-87\",\n",
    "    url=\"https://jupyter.org/\",\n",
    "    license=\"BSD-3-Clause\"\n",
    ")"
   ]
  },
  {
   "cell_type": "markdown",
   "id": "4e455da1-dfe3-469b-ad27-efc310eac33d",
   "metadata": {},
   "source": [
    "13. State data generation types implemented in this work:"
   ]
  },
  {
   "cell_type": "code",
   "execution_count": null,
   "id": "b52e0278-3929-4233-88a3-25fffb79a6d0",
   "metadata": {},
   "outputs": [],
   "source": [
    "engineering_block.data_generation = [DataGeneration.EXPERIMENT.value, DataGeneration.ANALYSIS.value]"
   ]
  },
  {
   "cell_type": "markdown",
   "id": "d80d754e-1718-4f77-a7ab-450d4ef679e3",
   "metadata": {},
   "source": [
    "14. Add information about variables measured to the engineering metadata block object:"
   ]
  },
  {
   "cell_type": "code",
   "execution_count": null,
   "id": "c125f962-edf5-4332-8ae1-35df510c5c6c",
   "metadata": {},
   "outputs": [],
   "source": [
    "engineering_block.add_measured_variables(\n",
    "    name=parameter_names[\"q\"],\n",
    "    symbol=\"q\",\n",
    "    unit=parameter_units[\"q\"]\n",
    ")"
   ]
  },
  {
   "cell_type": "markdown",
   "id": "d61f5d9c-7d81-4f0c-a54d-f4cd88f4e1ff",
   "metadata": {},
   "source": [
    "15. Add information about variables controlled to the object:"
   ]
  },
  {
   "cell_type": "code",
   "execution_count": null,
   "id": "2161e1a0-8ee3-43a9-ad7d-a9077208a2e6",
   "metadata": {},
   "outputs": [],
   "source": [
    "engineering_block.add_controlled_variables(\n",
    "    name=parameter_names[\"T\"],\n",
    "    symbol=\"T\",\n",
    "    unit=parameter_units[\"T\"],\n",
    "    minimum_value=273.15,\n",
    "    maximum_value=373.15\n",
    ")"
   ]
  },
  {
   "cell_type": "markdown",
   "id": "f31faecc-bb18-47b9-81cb-63499195bfa0",
   "metadata": {},
   "source": [
    "16. Create the DaRUS dataset object and add the different block objects to it:"
   ]
  },
  {
   "cell_type": "code",
   "execution_count": null,
   "id": "69ff963d-ba0b-4ded-a9ef-0d598657b24f",
   "metadata": {},
   "outputs": [],
   "source": [
    "dataset = Dataset()\n",
    "dataset.add_metadatablock(citation_block)\n",
    "dataset.add_metadatablock(process_block)\n",
    "dataset.add_metadatablock(engineering_block)"
   ]
  },
  {
   "cell_type": "markdown",
   "id": "51578498-b739-459a-a9e7-aec5781c0f18",
   "metadata": {},
   "source": [
    "#### **Packing files to OMEX or ZIP** <a class=\"anchor\" name=\"packing\"></a>\n",
    "\n",
    "Lorem ipsum ..."
   ]
  },
  {
   "cell_type": "markdown",
   "id": "0a43933b-22bf-4151-a22f-2e3184bc7414",
   "metadata": {},
   "source": []
  },
  {
   "cell_type": "code",
   "execution_count": null,
   "id": "d456ee60-3018-4a0e-94d4-a1162962f612",
   "metadata": {},
   "outputs": [],
   "source": []
  },
  {
   "cell_type": "markdown",
   "id": "9eafce5b-f05a-4f25-9ca6-101b2751eb34",
   "metadata": {},
   "source": [
    "#### **Upload to DaRUS** <a class=\"anchor\" name=\"upload\"></a>\n",
    "\n",
    "The upload of a draft to a DaRUS repository requires an API token with appropriate permissions. The URL of the Dataverse, as well as the API token are inferred from the environment variables."
   ]
  },
  {
   "cell_type": "markdown",
   "id": "9f095854-fdae-4399-befb-3ce5cd13c456",
   "metadata": {},
   "source": [
    "Upload to DaRUS by stating the target repository and the file or directory to be uploaded and print the resulting DOI:"
   ]
  },
  {
   "cell_type": "code",
   "execution_count": null,
   "id": "ec24df07-5bc5-4fdf-95e7-baadaa235a30",
   "metadata": {},
   "outputs": [],
   "source": [
    "p_id = dataset.upload(\"torsten_playground\", filenames=[str(path_to_datasets / \"processed/fairsaxs_220314.animl\")])\n",
    "print(p_id)"
   ]
  },
  {
   "cell_type": "markdown",
   "id": "ec58d00e-2bc0-4bb7-95d6-8d53b28d918e",
   "metadata": {},
   "source": [
    "#### **Download from DaRUS** <a class=\"anchor\" name=\"download\"></a>\n",
    "\n",
    "Any DaRUS dataset with its file contents can be downloaded, viewed, and modified here, given that an API token with the necessary permissions is provided in the environment variables."
   ]
  },
  {
   "cell_type": "markdown",
   "id": "fc109f66-c262-4bb1-9b96-fd37a3c08cc7",
   "metadata": {},
   "source": [
    "Download a dataset by giving the DOI and stating a directory to which available files are to be downloaded to:"
   ]
  },
  {
   "cell_type": "code",
   "execution_count": 17,
   "id": "ebc304c4-36ea-4849-aad3-ce2758843bc2",
   "metadata": {},
   "outputs": [
    {
     "name": "stderr",
     "output_type": "stream",
     "text": [
      "Downloading dataset files: 100%|█████████████████████████████████████████████████████████| 1/1 [00:00<00:00,  2.55it/s]\n"
     ]
    }
   ],
   "source": [
    "dataset = Dataset.from_dataverse_doi(doi=test_dataset, filedir=str(path_to_datasets / \"download/\"))"
   ]
  },
  {
   "cell_type": "markdown",
   "id": "06f5cd4f-f470-4227-97ce-5f306994d86d",
   "metadata": {},
   "source": [
    "#### **Edit DaRUS datasets** <a class=\"anchor\" name=\"edit\"></a>\n",
    "\n",
    "Downloaded datasets can be fully edited and re-uploaded in this optional section. As an example, an additional file is added to the dataset from before. Both the desired path within the directory structure of the DaRUS dataset, as well as the path to the file on the local file system are required."
   ]
  },
  {
   "cell_type": "markdown",
   "id": "2d1800d8-5f94-4f53-b1b5-8c88b37be7d9",
   "metadata": {},
   "source": [
    "1. After downloading a dataset, make changes as seen fit:"
   ]
  },
  {
   "cell_type": "code",
   "execution_count": null,
   "id": "0f9f5695-ea3c-4830-93ae-31c5ebe7b390",
   "metadata": {},
   "outputs": [],
   "source": [
    "dataset.add_file(dv_path=\"fairsaxs_220316.animl\", local_path=str(path_to_datasets / \"processed/test/fairsaxs_220316.animl\"))"
   ]
  },
  {
   "cell_type": "markdown",
   "id": "bb40dd77-ef00-4dfe-b0cc-5e017c87b4aa",
   "metadata": {},
   "source": [
    "2. Use the update function to push changes to DaRUS. Due to the requirements of the Dataverse API, contact information are required again for each update made. If the contact does not exist within the DaRUS dataset yet, it will be added to it:"
   ]
  },
  {
   "cell_type": "code",
   "execution_count": null,
   "id": "4d30b930-6ebf-4c10-9e8d-14a5184aa5af",
   "metadata": {},
   "outputs": [],
   "source": [
    "dataset.update(contact_name=\"Pleiss, Juergen\", contact_mail=\"juergen.pleiss@itb.uni-stuttgart.de\")"
   ]
  },
  {
   "cell_type": "markdown",
   "id": "5c91b92b-c2a6-47e8-9a19-88061201e0d7",
   "metadata": {},
   "source": [
    "---\n",
    "\n",
    "### **Disclosure** <a class=\"anchor\" name=\"disclosure\"></a>\n",
    "\n",
    "**Contributions**\n",
    "\n",
    "If you wish to contribute to the F.A.I.R. Chemistry project, find us on [GitHub](https://github.com/FAIRChemistry)!\n",
    "\n",
    "**MIT License**\n",
    "\n",
    "Copyright (c) 2022 F.A.I.R. Chemistry\n",
    "\n",
    "Permission is hereby granted, free of charge, to any person obtaining a copy\n",
    "of this software and associated documentation files (the \"Software\"), to deal\n",
    "in the Software without restriction, including without limitation the rights\n",
    "to use, copy, modify, merge, publish, distribute, sublicense, and/or sell\n",
    "copies of the Software, and to permit persons to whom the Software is\n",
    "furnished to do so, subject to the following conditions:\n",
    "\n",
    "The above copyright notice and this permission notice shall be included in all\n",
    "copies or substantial portions of the Software.\n",
    "\n",
    "THE SOFTWARE IS PROVIDED \"AS IS\", WITHOUT WARRANTY OF ANY KIND, EXPRESS OR\n",
    "IMPLIED, INCLUDING BUT NOT LIMITED TO THE WARRANTIES OF MERCHANTABILITY,\n",
    "FITNESS FOR A PARTICULAR PURPOSE AND NONINFRINGEMENT. IN NO EVENT SHALL THE\n",
    "AUTHORS OR COPYRIGHT HOLDERS BE LIABLE FOR ANY CLAIM, DAMAGES OR OTHER\n",
    "LIABILITY, WHETHER IN AN ACTION OF CONTRACT, TORT OR OTHERWISE, ARISING FROM,\n",
    "OUT OF OR IN CONNECTION WITH THE SOFTWARE OR THE USE OR OTHER DEALINGS IN THE\n",
    "SOFTWARE."
   ]
  },
  {
   "cell_type": "code",
   "execution_count": null,
   "id": "05bd69f6-424a-45f2-95fa-c7d75bef1a1e",
   "metadata": {},
   "outputs": [],
   "source": []
  }
 ],
 "metadata": {
  "kernelspec": {
   "display_name": "Python [conda env:fairsaxs]",
   "language": "python",
   "name": "conda-env-fairsaxs-py"
  },
  "language_info": {
   "codemirror_mode": {
    "name": "ipython",
    "version": 3
   },
   "file_extension": ".py",
   "mimetype": "text/x-python",
   "name": "python",
   "nbconvert_exporter": "python",
   "pygments_lexer": "ipython3",
   "version": "3.10.0"
  }
 },
 "nbformat": 4,
 "nbformat_minor": 5
}
